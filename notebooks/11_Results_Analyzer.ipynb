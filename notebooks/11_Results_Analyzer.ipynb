{
 "cells": [
  {
   "cell_type": "code",
   "execution_count": 1,
   "id": "dcd7272f",
   "metadata": {},
   "outputs": [],
   "source": [
    "# This is for windows\n",
    "MILD_PATH = \"..\\\\output\\\\bigdatacluster\\\\experiments\\\\mild_TD\"\n",
    "MODERATE_PATH = \"..\\\\output\\\\bigdatacluster\\\\experiments\\\\moderate_TD\"\n",
    "SEVER_PATH = \"..\\\\output\\\\bigdatacluster\\\\experiments\\\\sever_TD\"\n",
    "\n",
    "# This is for Ubuntu\n",
    "# MILD_PATH = \"../output/bigdatacluster/experiments/mild_TD\"\n",
    "# MODERATE_PATH = \"../output/bigdatacluster/experiments/moderate_TD\"\n",
    "# SEVER_PATH = \"../output/bigdatacluster/experiments/sever_TD\""
   ]
  },
  {
   "cell_type": "code",
   "execution_count": 2,
   "id": "c48a1561",
   "metadata": {},
   "outputs": [],
   "source": [
    "## imports\n",
    "import pandas as pd\n",
    "import numpy as np\n",
    "import scipy.stats as stats\n",
    "import statsmodels.api as sp\n",
    "\n",
    "import os\n",
    "import json"
   ]
  },
  {
   "cell_type": "markdown",
   "id": "62c79985",
   "metadata": {},
   "source": [
    "# Goals\n",
    "## Perform different level analysis based on the factors that split the data to perform different experiments. Currently, there is a major split based on the severity of the disorder, then an age-based split, and at last but not least, a behavioral report based split"
   ]
  },
  {
   "cell_type": "markdown",
   "id": "8220afb7",
   "metadata": {},
   "source": [
    "## Base level analysis\n",
    "Base level analysis is defined at the level of the output of a single behavioral report. Data utilized, Features selected, and ML models trained, in order to classify ASD in a single run, are considered as the base level results. <br><br>\n",
    "\n",
    "For the base level analysis, we are answering 3 main questions: <br>\n",
    "\n",
    "<b>Data related questions</b>\n",
    "1. What is the total number of subjects used to run this experiment?\n",
    "2. What is the number of ASD and TD within the utilized data for this experiment?<br>\n",
    "<b>Features related questions</b>\n",
    "3. What are the selected features to utilize in learning (sorted by importance)?\n",
    "4. What are the brain regions involved in the learning process (sorted by # of occurances in all of the selected features)? (Anatomy)\n",
    "5. What is the frequency of each hemishpere in selected features? (Anatomy) Is there any statistical significance between the 2 hemispheres\n",
    "5. What is the frequency of each of the morphological features in selected features? (Physiology)<br>\n",
    "<b>Machine learning related questions</b>\n",
    "6. What is the highest classification accuracy?\n",
    "7. Is the top performing classifier statstically significant than the other classifiers?\n",
    "\n",
    "8. List the hyper parameters selected to train the top performing classifier (for reproducibility)"
   ]
  },
  {
   "cell_type": "markdown",
   "id": "fc376b64",
   "metadata": {},
   "source": [
    "## Behavioral based analysis\n",
    "Q. What is the similarity among features extracted from different behavioral report? <br><br>\n",
    "\n",
    "This Question might be interesting to see if there are any similarities among behavioral reports themselves\n"
   ]
  },
  {
   "cell_type": "markdown",
   "id": "3bf671fe",
   "metadata": {},
   "source": [
    "## Age based analysis\n",
    "<b> Data related questions </b><br>\n",
    "    1. What is the number of subjects involved in the experiments of this age group?<br>\n",
    "    2. How many ASD vs TD in this age group?<br>\n",
    "<b> Features related questions </b><br>\n",
    "    3. for each behavioral report, find the similarity between the features selected, brain regions frequency, morphological frequency, and hemispheres frequency.<br>\n",
    "<b> ML related questions </b><br>\n",
    "    4. Which age group has the highest classification accuracy?<br>\n",
    "    5. Is it statistically significant?"
   ]
  },
  {
   "cell_type": "markdown",
   "id": "11f132a7",
   "metadata": {},
   "source": [
    "## Severity based analysis\n",
    "<b> Data related questions </b><br>\n",
    "    1. What is the number of subjects involved in the experiments of this severity group?<br>\n",
    "    2. How many ASD vs TD in this age group?<br>\n",
    "<b> Features related questions </b><br>\n",
    "    3. Over all age groups within a severity group, extract the top nominated features, brain regions, morphology, and hemispheres <br>\n",
    "<b> ML related questions </b><br>\n",
    "    4. Which severity group has the highest classification accuracy?<br>\n",
    "    5. Is it statistically significant?"
   ]
  },
  {
   "cell_type": "code",
   "execution_count": 3,
   "id": "fd48bc62",
   "metadata": {},
   "outputs": [],
   "source": [
    "fldrs = []\n",
    "def get2theroot(main_fldr):\n",
    "    subdirs = os.listdir(main_fldr)\n",
    "    for dir in subdirs:\n",
    "        fullpath = os.path.join(main_fldr, dir)\n",
    "        if ('ML_obj_hyperparams' in fullpath) or ('RFE_obj_params' in fullpath):\n",
    "            continue\n",
    "        if os.path.isdir(fullpath):\n",
    "            get2theroot(fullpath)\n",
    "        else:\n",
    "            fldrs.append(main_fldr)"
   ]
  },
  {
   "cell_type": "code",
   "execution_count": 22,
   "id": "9c3e1cc0",
   "metadata": {},
   "outputs": [],
   "source": [
    "get2theroot(MILD_PATH)"
   ]
  },
  {
   "cell_type": "code",
   "execution_count": 23,
   "id": "bc40c326",
   "metadata": {},
   "outputs": [],
   "source": [
    "mild_td_struct = list(set(fldrs))"
   ]
  },
  {
   "cell_type": "code",
   "execution_count": 40,
   "id": "c38d3195",
   "metadata": {},
   "outputs": [
    {
     "name": "stdout",
     "output_type": "stream",
     "text": [
      "we used beforeFixation\n"
     ]
    }
   ],
   "source": [
    "base_info_dict = {}\n",
    "for base_dir in mild_td_struct:\n",
    "    base_files = [x for x in os.listdir(base_dir)]\n",
    "\n",
    "    # Data related question\n",
    "    if 'group_df_afterFixation.csv' in base_files:\n",
    "        df = pd.read_csv(os.path.join(base_dir, 'group_df_afterFixation.csv'))\n",
    "        print('we found afterFixation')\n",
    "    else:\n",
    "        df = pd.read_csv(os.path.join(base_dir, 'group_df_beforeFixation.csv'))\n",
    "        print('we used beforeFixation')\n",
    "    \n",
    "    total_num_subjects = len(df)\n",
    "    TD_num = df['mylabels'].value_counts()[2]\n",
    "    ASD_num = df['mylabels'].value_counts()[1]\n",
    "    \n",
    "    # Feature selection\n",
    "    rfe_info_dict = {}\n",
    "    rfe_file = os.path.join(base_dir, 'RFE_obj_params','RFE.json')\n",
    "    with open(rfe_file, 'r') as f:\n",
    "        rfe_data = json.load(f)\n",
    "\n",
    "    # ML \n",
    "    ml_dir = os.path.join(base_dir, 'ML_obj_hyperparams')\n",
    "    for mlobjfile in [x for x in os.listdir(ml_dir) if x.endswith('.json')]:\n",
    "        ml_fullpath = os.path.join(ml_dir, mlobjfile)\n",
    "        with open(ml_fullpath, 'r') as f:\n",
    "            ml_data = json.load(f)\n",
    "        break\n",
    "    break\n"
   ]
  },
  {
   "cell_type": "code",
   "execution_count": 43,
   "id": "dadc4da0",
   "metadata": {},
   "outputs": [
    {
     "data": {
      "text/plain": [
       "('lr_gnb.json',\n",
       " {'priors': None,\n",
       "  'var_smoothing': 1e-09,\n",
       "  'n_features_in_': 1,\n",
       "  'epsilon_': 7.139923630788194e-11,\n",
       "  'classes_': [1, 2],\n",
       "  'theta_': [[0.9560420137444616], [0.3961773906546386]],\n",
       "  'sigma_': [[0.0015109885201040451], [0.04855354717553998]],\n",
       "  'class_count_': [3.0, 28.0],\n",
       "  'class_prior_': [0.0967741935483871, 0.9032258064516129]})"
      ]
     },
     "execution_count": 43,
     "metadata": {},
     "output_type": "execute_result"
    }
   ],
   "source": [
    "mlobjfile, ml_data\n"
   ]
  },
  {
   "cell_type": "code",
   "execution_count": null,
   "id": "4919c9af",
   "metadata": {},
   "outputs": [],
   "source": []
  },
  {
   "cell_type": "code",
   "execution_count": null,
   "id": "9f5004a4",
   "metadata": {},
   "outputs": [],
   "source": []
  }
 ],
 "metadata": {
  "interpreter": {
   "hash": "169a73084fb5035b042011a12ba7add2514f1ab95c1535ba5df082a9592678f6"
  },
  "kernelspec": {
   "display_name": "Python 3 (ipykernel)",
   "language": "python",
   "name": "python3"
  },
  "language_info": {
   "codemirror_mode": {
    "name": "ipython",
    "version": 3
   },
   "file_extension": ".py",
   "mimetype": "text/x-python",
   "name": "python",
   "nbconvert_exporter": "python",
   "pygments_lexer": "ipython3",
   "version": "3.9.7"
  }
 },
 "nbformat": 4,
 "nbformat_minor": 5
}
