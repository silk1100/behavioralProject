{
 "cells": [
  {
   "cell_type": "code",
   "execution_count": 1,
   "id": "bb3494fb-0614-4e23-bbd9-d2bbeae479bd",
   "metadata": {},
   "outputs": [],
   "source": [
    "OUTPUT_PATH = \"../output/bigdatacluster/experiments/\""
   ]
  },
  {
   "cell_type": "code",
   "execution_count": 4,
   "id": "bdd762b0-4001-40e5-bc0a-80f965eb6ae7",
   "metadata": {},
   "outputs": [],
   "source": [
    "## imports\n",
    "import pandas as pd\n",
    "import numpy as np\n",
    "import scipy.stats as stats\n",
    "import statsmodels.api as sp\n",
    "\n",
    "import os\n",
    "import json"
   ]
  },
  {
   "cell_type": "markdown",
   "id": "355bc6ac-8c20-46f2-be63-51ef2560ca5b",
   "metadata": {},
   "source": [
    "# Goals\n",
    "## Perform different level analysis based on the factors that split the data to perform different experiments. Currently, there is a major split based on the severity of the disorder, then an age-based split, and at last but not least, a behavioral report based split"
   ]
  },
  {
   "cell_type": "markdown",
   "id": "f9fb90f6-d5c4-45e1-9ae6-33e5a045c1a0",
   "metadata": {},
   "source": [
    "## Base level analysis\n",
    "Base level analysis is defined at the level of the output of a single behavioral report. Data utilized, Features selected, and ML models trained, in order to classify ASD in a single run, are considered as the base level results. <br><br>\n",
    "\n",
    "For the base level analysis, we are answering 3 main questions: <br>\n",
    "\n",
    "<b>Data related questions</b>\n",
    "1. What is the total number of subjects used to run this experiment?\n",
    "2. What is the number of ASD and TD within the utilized data for this experiment?<br>\n",
    "<b>Features related questions</b>\n",
    "3. What are the selected features to utilize in learning (sorted by importance)?\n",
    "4. What are the brain regions involved in the learning process (sorted by # of occurances in all of the selected features)? (Anatomy)\n",
    "5. What is the frequency of each hemishpere in selected features? (Anatomy) Is there any statistical significance between the 2 hemispheres\n",
    "5. What is the frequency of each of the morphological features in selected features? (Physiology)<br>\n",
    "<b>Machine learning related questions</b>\n",
    "6. What is the highest classification accuracy?\n",
    "7. Is the top performing classifier statstically significant than the other classifiers?\n",
    "\n",
    "8. List the hyper parameters selected to train the top performing classifier (for reproducibility)"
   ]
  },
  {
   "cell_type": "markdown",
   "id": "f3ccdb99-3e7c-462f-976e-8fea6cbe53e0",
   "metadata": {},
   "source": [
    "## Behavioral based analysis\n",
    "Q. What is the similarity among features extracted from different behavioral report? <br><br>\n",
    "\n",
    "This Question might be interesting to see if there are any similarities among behavioral reports themselves\n"
   ]
  },
  {
   "cell_type": "markdown",
   "id": "36386ace-46bb-4621-ac73-af334fec071f",
   "metadata": {},
   "source": [
    "## Age based analysis\n",
    "<b> Data related questions </b><br>\n",
    "    1. What is the number of subjects involved in the experiments of this age group?<br>\n",
    "    2. How many ASD vs TD in this age group?<br>\n",
    "<b> Features related questions </b><br>\n",
    "    3. for each behavioral report, find the similarity between the features selected, brain regions frequency, morphological frequency, and hemispheres frequency.<br>\n",
    "<b> ML related questions </b><br>\n",
    "    4. Which age group has the highest classification accuracy?<br>\n",
    "    5. Is it statistically significant?"
   ]
  },
  {
   "cell_type": "markdown",
   "id": "19723f10-87eb-400e-b3b6-0f9ca3060679",
   "metadata": {},
   "source": [
    "## Severity based analysis\n",
    "<b> Data related questions </b><br>\n",
    "    1. What is the number of subjects involved in the experiments of this severity group?<br>\n",
    "    2. How many ASD vs TD in this age group?<br>\n",
    "<b> Features related questions </b><br>\n",
    "    3. Over all age groups within a severity group, extract the top nominated features, brain regions, morphology, and hemispheres <br>\n",
    "<b> ML related questions </b><br>\n",
    "    4. Which severity group has the highest classification accuracy?<br>\n",
    "    5. Is it statistically significant?"
   ]
  },
  {
   "cell_type": "code",
   "execution_count": null,
   "id": "261b505d-46de-4278-9822-e216f6738279",
   "metadata": {},
   "outputs": [],
   "source": []
  },
  {
   "cell_type": "code",
   "execution_count": null,
   "id": "5fcd0cd5-ad00-44e2-9788-74703ce6b03f",
   "metadata": {},
   "outputs": [],
   "source": []
  }
 ],
 "metadata": {
  "kernelspec": {
   "display_name": "Python 3.9.7 64-bit ('brain_torch': conda)",
   "language": "python",
   "name": "python397jvsc74a57bd0a5a5e9e9e0fb896bac73421206cd0cccc249a28ab7c95387d948cbba86e269f6"
  },
  "language_info": {
   "codemirror_mode": {
    "name": "ipython",
    "version": 3
   },
   "file_extension": ".py",
   "mimetype": "text/x-python",
   "name": "python",
   "nbconvert_exporter": "python",
   "pygments_lexer": "ipython3",
   "version": "3.9.7"
  }
 },
 "nbformat": 4,
 "nbformat_minor": 5
}
