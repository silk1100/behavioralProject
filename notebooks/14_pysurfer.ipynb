{
 "cells": [
  {
   "cell_type": "markdown",
   "id": "8935aaf2-e0bf-4cfa-b4df-4d64c2b352b5",
   "metadata": {},
   "source": [
    "# pysurfer "
   ]
  },
  {
   "cell_type": "code",
   "execution_count": null,
   "id": "0ddef52d-47fc-4b37-a024-c9451f7f57ec",
   "metadata": {},
   "outputs": [],
   "source": [
    "# Links\n",
    "\"http://pysurfer.github.io/generated/surfer.Brain.html#surfer.Brain\"\n",
    "\"https://docs.enthought.com/mayavi/mayavi/auto/mlab_camera.html#mayavi.mlab.view\" # Usefull when use brain.show_view"
   ]
  },
  {
   "cell_type": "code",
   "execution_count": 2,
   "id": "dc88fdd1-3077-43af-ae63-bdc501b04cd4",
   "metadata": {},
   "outputs": [
    {
     "name": "stdout",
     "output_type": "stream",
     "text": [
      "Notebook initialized with png backend.\n"
     ]
    }
   ],
   "source": [
    "from mayavi import mlab\n",
    "mlab.init_notebook(backend='png')\n",
    "import os\n",
    "import numpy as np\n",
    "import matplotlib.pyplot as plt\n",
    "from mayavi import mlab\n",
    "from tvtk.api import tvtk\n",
    "from tvtk.common import configure_input_data\n",
    "from surfer import Brain"
   ]
  },
  {
   "cell_type": "code",
   "execution_count": null,
   "id": "b29e071f-7c71-4105-8240-bf043d919a1a",
   "metadata": {},
   "outputs": [],
   "source": []
  },
  {
   "cell_type": "code",
   "execution_count": null,
   "id": "2474da1d-817d-4418-ab8d-40b00e6b1d2a",
   "metadata": {},
   "outputs": [],
   "source": []
  }
 ],
 "metadata": {
  "kernelspec": {
   "display_name": "Python 3 (ipykernel)",
   "language": "python",
   "name": "python3"
  },
  "language_info": {
   "codemirror_mode": {
    "name": "ipython",
    "version": 3
   },
   "file_extension": ".py",
   "mimetype": "text/x-python",
   "name": "python",
   "nbconvert_exporter": "python",
   "pygments_lexer": "ipython3",
   "version": "3.9.7"
  }
 },
 "nbformat": 4,
 "nbformat_minor": 5
}
