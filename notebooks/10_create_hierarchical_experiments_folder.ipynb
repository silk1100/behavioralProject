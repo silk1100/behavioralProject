{
 "cells": [
  {
   "cell_type": "code",
   "execution_count": 59,
   "metadata": {},
   "outputs": [],
   "source": [
    "EXPERIMENT_PATH = \"../experiments\"\n",
    "OUTPUT_PATH = \"../output\"\n",
    "SEVERITY_GROUP_DICT = {\n",
    "    'mild':['mild'],\n",
    "    'moderate':['moderate','mod', 'moder','moderat'],\n",
    "    'sever':['sever','sev', 'severe','seve'],\n",
    "    'TD':['td'],\n",
    "}\n",
    "\n",
    "TEMP_EXPERIMENT = {\n",
    "    \"data_repr\": \"percentile\",\n",
    "    \"normalizer\": \"minmax\",\n",
    "    \"DD\": {\n",
    "        \"srs_type\": \"cog\",\n",
    "        \"severity_group\": [\"mild\", \"TD\"],\n",
    "        \"age_group\": None,\n",
    "        \"divide_data\": False,\n",
    "        \"balance\": False\n",
    "    },\n",
    "    \"FS\": {\n",
    "        \"est\": [\"lsvm\", \"rf\", \"xgb\", \"lr\"],\n",
    "        \"cv\": 5,\n",
    "        \"scoring\": \"balanced_accuracy\",\n",
    "        \"n_jobs\": -1,\n",
    "        \"verbose\": 0,\n",
    "        \"step\": 1,\n",
    "        \"min_features_to_select\": 1\n",
    "    },\n",
    "    \"ML\": {\n",
    "        \"est\": [\"lr\", \"lsvm\", \"svm\", \"xgb\", \"rf\", \"ridge\", \"gnb\",\"nn\"],\n",
    "        \"cv\": 5,\n",
    "        \"scoring\": \"balanced_accuracy\",\n",
    "        \"n_jobs\": -1,\n",
    "        \"verbose\": 0,\n",
    "        \"hyper_search_type\": \"random\",\n",
    "        \"n_iter\": 1500}\n",
    "}"
   ]
  },
  {
   "cell_type": "code",
   "execution_count": 2,
   "metadata": {},
   "outputs": [],
   "source": [
    "import json\n",
    "import os"
   ]
  },
  {
   "cell_type": "markdown",
   "metadata": {},
   "source": [
    "# Goals\n",
    "Utilizing the TEMP_EXPERIMENT to build different experiments combinations and place them in a hierarchial folder structer that \n",
    "defined every experiement with a name"
   ]
  },
  {
   "cell_type": "markdown",
   "metadata": {},
   "source": [
    "# Define The experiments I want to build"
   ]
  },
  {
   "cell_type": "code",
   "execution_count": 4,
   "metadata": {},
   "outputs": [],
   "source": [
    "severity_comparisons = [('sever', 'td'),('mild','td'),('moderate','td')]\n",
    "age_groups = [(5,8),(9,12),(13,15),(16,18),(19,21),(22, 28), (28, None)]"
   ]
  },
  {
   "cell_type": "code",
   "execution_count": 52,
   "metadata": {},
   "outputs": [],
   "source": [
    "# Define the nested comparison structure\n",
    "comparisons = {\n",
    "    (\"DD__severity_group\",('sever', 'td')):list(map(lambda x: (\"DD__age_group\",)+((x)), age_groups)),\n",
    "    (\"DD__severity_group\",('mild', 'td')): list(map(lambda x: (\"DD__age_group\",)+((x)), age_groups)),\n",
    "    (\"DD__severity_group\",('moderate', 'td')):list(map(lambda x:(\"DD__age_group\",)+((x)), age_groups))\n",
    "    \n",
    "}"
   ]
  },
  {
   "cell_type": "code",
   "execution_count": 53,
   "metadata": {},
   "outputs": [],
   "source": [
    "def create_directory(path):\n",
    "    if not os.path.isdir(path):\n",
    "        os.mkdir(path)\n",
    "    return path"
   ]
  },
  {
   "cell_type": "code",
   "execution_count": 60,
   "metadata": {},
   "outputs": [],
   "source": [
    "def adjust_TEMP_EXPERIMENT(temp_exp, keys_list, values_list):\n",
    "    for key, value in zip(keys_list, values_list):\n",
    "        key_parts = key.split('__')\n",
    "        if len(key_parts)>1:\n",
    "            pkey, skey = key_parts[0], key_parts[-1]\n",
    "            temp_exp[pkey][skey] = value\n",
    "        else:\n",
    "            print(key)\n",
    "            temp_exp[key] = value\n",
    "            \n",
    "    return temp_exp"
   ]
  },
  {
   "cell_type": "code",
   "execution_count": 63,
   "metadata": {},
   "outputs": [],
   "source": [
    "sub_fldr_str = f\"Agebetween!t*_^^_{TEMP_EXPERIMENT['data_repr']}_{TEMP_EXPERIMENT['normalizer']}\"\n",
    "json_file_str = f\"{TEMP_EXPERIMENT['data_repr']}_{TEMP_EXPERIMENT['normalizer']}_^^_$$.json\"\n",
    "for main_group, factor_groups in comparisons.items():\n",
    "    # Creating the parent paths\n",
    "    main_key = main_group[0]\n",
    "    main_comparison = main_group[1]\n",
    "    path = create_directory(os.path.join(EXPERIMENT_PATH,f'{\"_\".join([str(x) for x in main_comparison])}'))\n",
    "    # Creating the subpaths\n",
    "    for factor in factor_groups:\n",
    "        fkey = factor[0]\n",
    "        groups = factor[1:]\n",
    "        subfldr = sub_fldr_str.replace('!', str(groups[0])).\\\n",
    "                  replace(\"*\", str(groups[1])).\\\n",
    "                  replace(\"^^\", \"_\".join([str(x) for x in main_comparison]))\n",
    "        subpath = create_directory(os.path.join(path,subfldr))\n",
    "        for srs_test in [\"awa\",\"cog\",\"comm\",\"man\",\"mot\",\"tot\"]:\n",
    "            srs_json = json_file_str.replace(\"^^\",\"_\".join([str(x) for x in main_comparison])).\\\n",
    "                                            replace(\"$$\",srs_test)\n",
    "            full_srs_json = os.path.join(subpath, srs_json)\n",
    "            exp_dict = adjust_TEMP_EXPERIMENT(TEMP_EXPERIMENT,\n",
    "                                              [main_key, fkey, f\"DD__srs_type\"],\n",
    "                                              [main_comparison, groups, srs_test])\n",
    "            with open(full_srs_json, 'w') as f:\n",
    "            json.dump(exp_dict, f)"
   ]
  }
 ],
 "metadata": {
  "kernelspec": {
   "display_name": "Python 3.7.9 64-bit ('brain_torch': conda)",
   "language": "python",
   "name": "python37964bitbraintorchconda42063450aa4b44b98f543a93d12833bd"
  },
  "language_info": {
   "codemirror_mode": {
    "name": "ipython",
    "version": 3
   },
   "file_extension": ".py",
   "mimetype": "text/x-python",
   "name": "python",
   "nbconvert_exporter": "python",
   "pygments_lexer": "ipython3",
   "version": "3.7.9"
  }
 },
 "nbformat": 4,
 "nbformat_minor": 4
}
