{
 "cells": [
  {
   "cell_type": "code",
   "execution_count": 154,
   "metadata": {},
   "outputs": [],
   "source": [
    "DATA_PATH = \"../data/data_divisor/\"\n",
    "SRS_PATH_DICT = {\n",
    "    \"man\":\"srs_manner\",\n",
    "    \"tot\":\"srs_total\",\n",
    "    \"mot\":\"srs_mot\",\n",
    "    \"comm\":\"srs_comm\",\n",
    "    \"cog\":\"srs_cog\",\n",
    "    \"awa\":\"srs_awar\",\n",
    "    \n",
    "}\n",
    "SRS_NAMES_DICT = {\n",
    "    \"man\":\"MANNERISMS\",\n",
    "    \"tot\":\"TOTAL\",\n",
    "    \"mot\":\"MOTIVATION\",\n",
    "    \"cog\":\"COGNITION\",\n",
    "    \"comm\":\"COMMUNICATION\",\n",
    "    \"awa\":\"AWARENESS\",\n",
    "    \n",
    "}"
   ]
  },
  {
   "cell_type": "code",
   "execution_count": 155,
   "metadata": {},
   "outputs": [],
   "source": [
    "import pandas as pd\n",
    "import numpy as np\n",
    "import matplotlib.pyplot as plt\n",
    "import seaborn as sns\n",
    "import os"
   ]
  },
  {
   "cell_type": "code",
   "execution_count": 156,
   "metadata": {},
   "outputs": [],
   "source": [
    "# Set experiment parameters\n",
    "age_range = None # (min_age, max_age) --- df['AGE_AT_SCAN ']\n",
    "groupsToBeCompared = (\"TD\", \"mild\")  # df['categories_{SRS_BEHAVIORAL}']\n",
    "SRS_TEST = \"awa\" "
   ]
  },
  {
   "cell_type": "code",
   "execution_count": 157,
   "metadata": {},
   "outputs": [],
   "source": [
    "df = pd.read_csv(os.path.join(DATA_PATH, SRS_PATH_DICT[SRS_TEST], f\"perc_SRS_{SRS_NAMES_DICT[SRS_TEST]}_T.csv\"), index_col=0)"
   ]
  },
  {
   "cell_type": "code",
   "execution_count": 138,
   "metadata": {},
   "outputs": [
    {
     "data": {
      "text/plain": [
       "(445, 74)"
      ]
     },
     "execution_count": 138,
     "metadata": {},
     "output_type": "execute_result"
    }
   ],
   "source": [
    "(df[f'categories_{SRS_NAMES_DICT[SRS_TEST]}']==groupsToBeCompared[0]).sum(), (df[f'categories_{SRS_NAMES_DICT[SRS_TEST]}']==groupsToBeCompared[1]).sum()"
   ]
  },
  {
   "cell_type": "code",
   "execution_count": 139,
   "metadata": {},
   "outputs": [],
   "source": [
    "subjs_g0 = df[df[f'categories_{SRS_NAMES_DICT[SRS_TEST]}']==groupsToBeCompared[0]].index\n",
    "subjs_g1 = df[df[f'categories_{SRS_NAMES_DICT[SRS_TEST]}']==groupsToBeCompared[1]].index\n"
   ]
  },
  {
   "cell_type": "code",
   "execution_count": 140,
   "metadata": {},
   "outputs": [],
   "source": [
    "age0 = df.loc[subjs_g0, ['AGE_AT_SCAN ']]\n",
    "age1 = df.loc[subjs_g1, ['AGE_AT_SCAN ']]"
   ]
  },
  {
   "cell_type": "code",
   "execution_count": 141,
   "metadata": {},
   "outputs": [],
   "source": [
    "age1.columns=['AGE_AT_SCAN_ASD']\n",
    "age0.columns=['AGE_AT_SCAN_TD']\n"
   ]
  },
  {
   "cell_type": "code",
   "execution_count": 142,
   "metadata": {},
   "outputs": [],
   "source": [
    "age = pd.concat([age0,age1], axis=1, join='outer',)"
   ]
  },
  {
   "cell_type": "code",
   "execution_count": 143,
   "metadata": {},
   "outputs": [
    {
     "data": {
      "text/plain": [
       "<AxesSubplot:>"
      ]
     },
     "execution_count": 143,
     "metadata": {},
     "output_type": "execute_result"
    },
    {
     "data": {
      "image/png": "[encoded data removed]",
      "text/plain": [
       "<Figure size 432x288 with 1 Axes>"
      ]
     },
     "metadata": {
      "needs_background": "light"
     },
     "output_type": "display_data"
    }
   ],
   "source": [
    "age.boxplot()"
   ]
  },
  {
   "cell_type": "code",
   "execution_count": 145,
   "metadata": {},
   "outputs": [],
   "source": [
    "gender0 = df.loc[subjs_g0, ['SEX']]\n",
    "gender1 = df.loc[subjs_g1, ['SEX']]"
   ]
  },
  {
   "cell_type": "code",
   "execution_count": 146,
   "metadata": {},
   "outputs": [],
   "source": [
    "gender1.columns=['SEX_ASD']\n",
    "gender0.columns=['SEX_TD']\n"
   ]
  },
  {
   "cell_type": "code",
   "execution_count": 147,
   "metadata": {},
   "outputs": [],
   "source": [
    "gender = pd.concat([gender0,gender1], axis=1, join='outer',)"
   ]
  },
  {
   "cell_type": "code",
   "execution_count": 153,
   "metadata": {},
   "outputs": [
    {
     "data": {
      "text/plain": [
       "[Text(0, 0, 'Male'), Text(1, 0, 'Female')]"
      ]
     },
     "execution_count": 153,
     "metadata": {},
     "output_type": "execute_result"
    },
    {
     "data": {
      "image/png": "[encoded data removed]",
      "text/plain": [
       "<Figure size 432x288 with 1 Axes>"
      ]
     },
     "metadata": {
      "needs_background": "light"
     },
     "output_type": "display_data"
    }
   ],
   "source": [
    "ax = gender['SEX_TD'].value_counts().plot.bar()\n",
    "ax.set_xticklabels(['Male','Female'])"
   ]
  },
  {
   "cell_type": "code",
   "execution_count": 152,
   "metadata": {},
   "outputs": [
    {
     "data": {
      "text/plain": [
       "[Text(0, 0, 'Male'), Text(1, 0, 'Female')]"
      ]
     },
     "execution_count": 152,
     "metadata": {},
     "output_type": "execute_result"
    },
    {
     "data": {
      "image/png": "[encoded data removed]",
      "text/plain": [
       "<Figure size 432x288 with 1 Axes>"
      ]
     },
     "metadata": {
      "needs_background": "light"
     },
     "output_type": "display_data"
    }
   ],
   "source": [
    "ax = gender['SEX_ASD'].value_counts().plot.bar()\n",
    "ax.set_xticklabels(['Male','Female'])"
   ]
  },
  {
   "cell_type": "code",
   "execution_count": 150,
   "metadata": {},
   "outputs": [
    {
     "data": {
      "text/plain": [
       "0.25617977528089886"
      ]
     },
     "execution_count": 150,
     "metadata": {},
     "output_type": "execute_result"
    }
   ],
   "source": [
    "males = gender['SEX_TD'].value_counts()[1]\n",
    "females = gender['SEX_TD'].value_counts()[2]\n",
    "femalePerc = females/(males+females)\n",
    "femalePerc"
   ]
  },
  {
   "cell_type": "code",
   "execution_count": 151,
   "metadata": {},
   "outputs": [
    {
     "data": {
      "text/plain": [
       "0.0945945945945946"
      ]
     },
     "execution_count": 151,
     "metadata": {},
     "output_type": "execute_result"
    }
   ],
   "source": [
    "males = gender['SEX_ASD'].value_counts()[1]\n",
    "females = gender['SEX_ASD'].value_counts()[2]\n",
    "femalePerc = females/(males+females)\n",
    "femalePerc"
   ]
  },
  {
   "cell_type": "code",
   "execution_count": null,
   "metadata": {},
   "outputs": [],
   "source": []
  },
  {
   "cell_type": "markdown",
   "metadata": {},
   "source": [
    "# Hypothesis: Subjects with NaN values in any SRS behavioral test are either TD, or sever.\n",
    "### Assumingly that they have shown a very strong behavior to support their final diagnosis in the earlier tests. Thus, it wasn't required to conduct any more tests on them"
   ]
  },
  {
   "cell_type": "markdown",
   "metadata": {},
   "source": [
    "# Experiment:\n",
    "1. For each SRS test, find all missing subjects.\n",
    "2. Go to other SRS tests for those subjects and find their scores.\n",
    "3. If you find they are either sever, or TD in all of the other tests,then the hypothesis is true"
   ]
  },
  {
   "cell_type": "code",
   "execution_count": 32,
   "metadata": {},
   "outputs": [],
   "source": [
    "df_awa = pd.read_csv(os.path.join(DATA_PATH, SRS_PATH_DICT['awa'], f\"perc_SRS_{SRS_NAMES_DICT['awa']}_T.csv\"), index_col=0)\n",
    "df_comm = pd.read_csv(os.path.join(DATA_PATH, SRS_PATH_DICT['comm'], f\"perc_SRS_{SRS_NAMES_DICT['comm']}_T.csv\"), index_col=0)\n",
    "df_mot = pd.read_csv(os.path.join(DATA_PATH, SRS_PATH_DICT['mot'], f\"perc_SRS_{SRS_NAMES_DICT['mot']}_T.csv\"), index_col=0)\n",
    "df_cog = pd.read_csv(os.path.join(DATA_PATH, SRS_PATH_DICT['cog'], f\"perc_SRS_{SRS_NAMES_DICT['cog']}_T.csv\"), index_col=0)\n",
    "df_man = pd.read_csv(os.path.join(DATA_PATH, SRS_PATH_DICT['man'], f\"perc_SRS_{SRS_NAMES_DICT['man']}_T.csv\"), index_col=0)\n",
    "df_tot = pd.read_csv(os.path.join(DATA_PATH, SRS_PATH_DICT['tot'], f\"perc_SRS_{SRS_NAMES_DICT['tot']}_T.csv\"), index_col=0)\n"
   ]
  },
  {
   "cell_type": "code",
   "execution_count": 35,
   "metadata": {},
   "outputs": [
    {
     "data": {
      "text/plain": [
       "310"
      ]
     },
     "execution_count": 35,
     "metadata": {},
     "output_type": "execute_result"
    }
   ],
   "source": [
    "# Starting with awarness\n",
    "awa_missing_subj = df.index[df.isna()['categories_AWARENESS']]\n",
    "len(awa_missing_subj)"
   ]
  },
  {
   "cell_type": "code",
   "execution_count": 38,
   "metadata": {},
   "outputs": [
    {
     "data": {
      "text/plain": [
       "(289, 21)"
      ]
     },
     "execution_count": 38,
     "metadata": {},
     "output_type": "execute_result"
    }
   ],
   "source": [
    "df_comm.loc[awa_missing_subj, 'categories_COMMUNICATION'].isna().sum()"
   ]
  },
  {
   "cell_type": "code",
   "execution_count": 46,
   "metadata": {},
   "outputs": [],
   "source": [
    "comm_subj = awa_missing_subj[np.where(df_comm.loc[awa_missing_subj,'categories_COMMUNICATION'].notnull())[0]]"
   ]
  },
  {
   "cell_type": "code",
   "execution_count": 57,
   "metadata": {},
   "outputs": [
    {
     "data": {
      "text/plain": [
       "TD          9\n",
       "moderate    5\n",
       "sever       4\n",
       "mild        3\n",
       "Name: categories_COMMUNICATION, dtype: int64"
      ]
     },
     "execution_count": 57,
     "metadata": {},
     "output_type": "execute_result"
    }
   ],
   "source": [
    "df_comm.loc[comm_subj, 'categories_COMMUNICATION'].value_counts()"
   ]
  },
  {
   "cell_type": "code",
   "execution_count": 51,
   "metadata": {},
   "outputs": [
    {
     "data": {
      "text/plain": [
       "(subj_id\n",
       " KUL_3_29676    NaN\n",
       " KUL_3_29662    NaN\n",
       " KUL_3_29666    NaN\n",
       " KUL_3_29799    NaN\n",
       " KUL_3_29668    NaN\n",
       " KUL_3_29679    NaN\n",
       " KUL_3_29664    NaN\n",
       " KUL_3_29678    NaN\n",
       " KUL_3_29657    NaN\n",
       " KUL_3_29658    NaN\n",
       " KUL_3_29665    NaN\n",
       " KUL_3_29667    NaN\n",
       " KUL_3_29800    NaN\n",
       " KUL_3_29798    NaN\n",
       " KUL_3_29796    NaN\n",
       " KUL_3_29794    NaN\n",
       " KUL_3_29795    NaN\n",
       " KUL_3_29675    NaN\n",
       " KUL_3_29669    NaN\n",
       " KUL_3_29660    NaN\n",
       " KUL_3_29661    NaN\n",
       " Name: categories_AWARENESS, dtype: object, subj_id\n",
       " KUL_3_29676          TD\n",
       " KUL_3_29662          TD\n",
       " KUL_3_29666          TD\n",
       " KUL_3_29799    moderate\n",
       " KUL_3_29668    moderate\n",
       " KUL_3_29679          TD\n",
       " KUL_3_29664          TD\n",
       " KUL_3_29678          TD\n",
       " KUL_3_29657        mild\n",
       " KUL_3_29658          TD\n",
       " KUL_3_29665          TD\n",
       " KUL_3_29667    moderate\n",
       " KUL_3_29800       sever\n",
       " KUL_3_29798    moderate\n",
       " KUL_3_29796       sever\n",
       " KUL_3_29794        mild\n",
       " KUL_3_29795    moderate\n",
       " KUL_3_29675       sever\n",
       " KUL_3_29669          TD\n",
       " KUL_3_29660        mild\n",
       " KUL_3_29661       sever\n",
       " Name: categories_COMMUNICATION, dtype: object)"
      ]
     },
     "execution_count": 51,
     "metadata": {},
     "output_type": "execute_result"
    }
   ],
   "source": [
    "df_awa.loc[comm_subj,'categories_AWARENESS'], df_comm.loc[comm_subj, 'categories_COMMUNICATION']"
   ]
  },
  {
   "cell_type": "code",
   "execution_count": 54,
   "metadata": {},
   "outputs": [
    {
     "data": {
      "text/plain": [
       "0"
      ]
     },
     "execution_count": 54,
     "metadata": {},
     "output_type": "execute_result"
    }
   ],
   "source": [
    "df_cog.loc[awa_missing_subj,'categories_COGNITION'].notnull().sum()"
   ]
  },
  {
   "cell_type": "code",
   "execution_count": 55,
   "metadata": {},
   "outputs": [
    {
     "data": {
      "text/plain": [
       "28"
      ]
     },
     "execution_count": 55,
     "metadata": {},
     "output_type": "execute_result"
    }
   ],
   "source": [
    "df_tot.loc[awa_missing_subj,'categories_TOTAL'].notnull().sum()"
   ]
  },
  {
   "cell_type": "code",
   "execution_count": 67,
   "metadata": {},
   "outputs": [],
   "source": [
    "man_subj = awa_missing_subj[np.where(df_man.loc[awa_missing_subj,'categories_MANNERISMS'].notnull())[0]]"
   ]
  },
  {
   "cell_type": "code",
   "execution_count": 68,
   "metadata": {},
   "outputs": [
    {
     "data": {
      "text/plain": [
       "subj_id\n",
       "KUL_3_29676          TD\n",
       "KUL_3_29662    moderate\n",
       "KUL_3_29666          TD\n",
       "KUL_3_29799       sever\n",
       "KUL_3_29668        mild\n",
       "KUL_3_29679    moderate\n",
       "KUL_3_29664          TD\n",
       "KUL_3_29678        mild\n",
       "KUL_3_29657        mild\n",
       "KUL_3_29658          TD\n",
       "KUL_3_29665          TD\n",
       "KUL_3_29667    moderate\n",
       "KUL_3_29800       sever\n",
       "KUL_3_29798    moderate\n",
       "KUL_3_29796    moderate\n",
       "KUL_3_29794          TD\n",
       "KUL_3_29795    moderate\n",
       "KUL_3_29675    moderate\n",
       "KUL_3_29669          TD\n",
       "KUL_3_29660    moderate\n",
       "KUL_3_29661    moderate\n",
       "Name: categories_MANNERISMS, dtype: object"
      ]
     },
     "execution_count": 68,
     "metadata": {},
     "output_type": "execute_result"
    }
   ],
   "source": [
    "df_man.loc[man_subj,'categories_MANNERISMS']\n"
   ]
  },
  {
   "cell_type": "code",
   "execution_count": null,
   "metadata": {},
   "outputs": [],
   "source": []
  }
 ],
 "metadata": {
  "kernelspec": {
   "display_name": "Python 3.7.9 64-bit ('brain_torch': conda)",
   "language": "python",
   "name": "python37964bitbraintorchconda42063450aa4b44b98f543a93d12833bd"
  },
  "language_info": {
   "codemirror_mode": {
    "name": "ipython",
    "version": 3
   },
   "file_extension": ".py",
   "mimetype": "text/x-python",
   "name": "python",
   "nbconvert_exporter": "python",
   "pygments_lexer": "ipython3",
   "version": "3.7.9"
  }
 },
 "nbformat": 4,
 "nbformat_minor": 4
}
