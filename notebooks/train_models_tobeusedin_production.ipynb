{
 "cells": [
  {
   "cell_type": "code",
   "execution_count": 16,
   "metadata": {},
   "outputs": [],
   "source": [
    "import dill\n",
    "import pandas as pd\n",
    "from sklearn.model_selection import train_test_split\n",
    "import os\n",
    "from sklearn.metrics import confusion_matrix, accuracy_score, recall_score"
   ]
  },
  {
   "cell_type": "code",
   "execution_count": 2,
   "metadata": {},
   "outputs": [],
   "source": [
    "main_dir = '../selected_models_for_production/'"
   ]
  },
  {
   "cell_type": "code",
   "execution_count": 6,
   "metadata": {},
   "outputs": [],
   "source": [
    "fldrs = [os.path.join(main_dir, x) for x in os.listdir(main_dir) if os.path.isdir(os.path.join(main_dir, x))]"
   ]
  },
  {
   "cell_type": "code",
   "execution_count": 11,
   "metadata": {},
   "outputs": [],
   "source": [
    "# Get best models based on the pseudometric csv file to be used as selected models\n",
    "top_rfe_ml_per_model_ = {}\n",
    "for fldr in fldrs:\n",
    "    df_psudo_scores = pd.read_csv(os.path.join(fldr,'pseudo_metrics.csv'), index_col=[0,1])\n",
    "    max_loc = df_psudo_scores['acc'].argmax()\n",
    "    rfe, ml = df_psudo_scores.index[max_loc]\n",
    "    top_rfe_ml_per_model_[fldr] = (rfe, ml)"
   ]
  },
  {
   "cell_type": "code",
   "execution_count": 12,
   "metadata": {},
   "outputs": [
    {
     "data": {
      "text/plain": [
       "{'../selected_models_for_production/20210711_143358_std_comm': ('lr', 'svm'),\n",
       " '../selected_models_for_production/20210711_175029_std_tot': ('lsvm', 'lsvm'),\n",
       " '../selected_models_for_production/20210711_185316_std_cog': ('lr', 'xgb'),\n",
       " '../selected_models_for_production/20210711_232703_std_man': ('lsvm', 'lsvm')}"
      ]
     },
     "execution_count": 12,
     "metadata": {},
     "output_type": "execute_result"
    }
   ],
   "source": [
    "top_rfe_ml_per_model_"
   ]
  },
  {
   "cell_type": "code",
   "execution_count": 23,
   "metadata": {},
   "outputs": [
    {
     "name": "stdout",
     "output_type": "stream",
     "text": [
      "comm: [[166   0]\n",
      " [  0 166]]\n",
      "tot: [[147  42]\n",
      " [ 41 144]]\n"
     ]
    },
    {
     "name": "stderr",
     "output_type": "stream",
     "text": [
      "C:\\Users\\BioTarek\\anaconda3\\envs\\brain_torch\\lib\\site-packages\\xgboost\\sklearn.py:1146: UserWarning: The use of label encoder in XGBClassifier is deprecated and will be removed in a future release. To remove this warning, do the following: 1) Pass option use_label_encoder=False when constructing XGBClassifier object; and 2) Encode your labels (y) as integers starting with 0, i.e. 0, 1, 2, ..., [num_class - 1].\n",
      "  warnings.warn(label_encoder_deprecation_msg, UserWarning)\n"
     ]
    },
    {
     "name": "stdout",
     "output_type": "stream",
     "text": [
      "[12:34:14] WARNING: ..\\src\\learner.cc:573: \n",
      "Parameters: { \"colsample_bytree\", \"gamma\", \"min_child_weight\" } might not be used.\n",
      "\n",
      "  This may not be accurate due to some parameters are only used in language bindings but\n",
      "  passed down to XGBoost core.  Or some parameters are not used but slip through this\n",
      "  verification. Please open an issue if you find above cases.\n",
      "\n",
      "\n",
      "[12:34:14] WARNING: ..\\src\\learner.cc:1095: Starting in XGBoost 1.3.0, the default evaluation metric used with the objective 'binary:logistic' was changed from 'error' to 'logloss'. Explicitly set eval_metric if you'd like to restore the old behavior.\n",
      "cog: [[  0 127]\n",
      " [  0 127]]\n",
      "man: [[166  20]\n",
      " [ 18 168]]\n"
     ]
    }
   ],
   "source": [
    "production_models = {}\n",
    "for fldr in fldrs:\n",
    "    behav_name = fldr.split('_')[-1]\n",
    "    df = pd.read_csv(os.path.join(fldr, 'group_df_afterFixation.csv'), index_col=0)\n",
    "    cols_2_del = ['DX_GROUP','AGE_AT_SCAN ', 'SEX']\n",
    "    for col in df.columns:\n",
    "        if 'categories_' in col:\n",
    "            cols_2_del.append(col)\n",
    "        elif 'SRS_' in col:\n",
    "            cols_2_del.append(col)\n",
    "    df.drop(cols_2_del, axis=1, inplace=True)\n",
    "    \n",
    "    with open(os.path.join(fldr,'normalizer.p'), 'rb') as f:\n",
    "        normalizer = dill.load(f)\n",
    "    with open(os.path.join(fldr,'ML_obj.p'), 'rb') as f:\n",
    "        ml_obj = dill.load(f)\n",
    "    with open(os.path.join(fldr, 'FS_obj.p'), 'rb') as f:\n",
    "        fs_obj = dill.load(f)\n",
    "    X = df.drop('my_labels', axis=1)\n",
    "    y = df['my_labels'].values\n",
    "    Xs = normalizer.transform(X)\n",
    "    \n",
    "    selected_rfe = top_rfe_ml_per_model_[fldr][0]\n",
    "    selected_ml = top_rfe_ml_per_model_[fldr][1]\n",
    "    \n",
    "    Xselected = fs_obj[selected_rfe].transform(Xs)\n",
    "    trained_obj = ml_obj[selected_rfe][selected_ml].best_estimator_.fit(Xselected, y)\n",
    "    yhat = trained_obj.predict(Xselected)\n",
    "    print(f'{behav_name}: {confusion_matrix(y,yhat)}')\n",
    "    production_models[behav_name] = {\n",
    "        'normalizer': normalizer,\n",
    "        'rfe': fs_obj[selected_rfe],\n",
    "        'ml': trained_obj\n",
    "    }"
   ]
  },
  {
   "cell_type": "code",
   "execution_count": 24,
   "metadata": {},
   "outputs": [],
   "source": [
    "with open('../selected_models_for_production/trained_normalizer_rfe_models.p', 'wb') as f:\n",
    "    dill.dump(production_models, f)"
   ]
  },
  {
   "cell_type": "code",
   "execution_count": 25,
   "metadata": {},
   "outputs": [
    {
     "data": {
      "text/plain": [
       "{'comm': {'normalizer': StandardScaler(),\n",
       "  'rfe': RFECV(cv=5, estimator=LogisticRegression(max_iter=1000000000), n_jobs=-1,\n",
       "        scoring='balanced_accuracy', verbose=3),\n",
       "  'ml': SVC(C=0.1, coef0=100, degree=4, kernel='poly', max_iter=1000000000)},\n",
       " 'tot': {'normalizer': StandardScaler(),\n",
       "  'rfe': RFECV(cv=5, estimator=LinearSVC(max_iter=1000000000), n_jobs=-1,\n",
       "        scoring='balanced_accuracy', verbose=3),\n",
       "  'ml': LinearSVC(C=0.1, max_iter=1000000000)},\n",
       " 'cog': {'normalizer': StandardScaler(),\n",
       "  'rfe': RFECV(cv=5, estimator=LogisticRegression(max_iter=1000000000), n_jobs=-1,\n",
       "        scoring='balanced_accuracy', verbose=3),\n",
       "  'ml': XGBClassifier(base_score=0.5, booster='gblinear', colsample_bylevel=None,\n",
       "                colsample_bynode=None, colsample_bytree=0.8, gamma=100, gpu_id=-1,\n",
       "                importance_type='gain', interaction_constraints=None,\n",
       "                learning_rate=1, max_delta_step=None, max_depth=None,\n",
       "                min_child_weight=0.01, missing=nan, monotone_constraints=None,\n",
       "                n_estimators=100, n_jobs=32, num_parallel_tree=None,\n",
       "                random_state=0, reg_alpha=0, reg_lambda=0.001, scale_pos_weight=1,\n",
       "                subsample=None, tree_method=None, validate_parameters=1,\n",
       "                verbosity=None)},\n",
       " 'man': {'normalizer': StandardScaler(),\n",
       "  'rfe': RFECV(cv=5, estimator=LinearSVC(max_iter=1000000000), n_jobs=-1,\n",
       "        scoring='balanced_accuracy', verbose=3),\n",
       "  'ml': LinearSVC(C=1, max_iter=1000000000)}}"
      ]
     },
     "execution_count": 25,
     "metadata": {},
     "output_type": "execute_result"
    }
   ],
   "source": [
    "production_models\n"
   ]
  },
  {
   "cell_type": "code",
   "execution_count": null,
   "metadata": {},
   "outputs": [],
   "source": []
  }
 ],
 "metadata": {
  "kernelspec": {
   "display_name": "Python 3",
   "language": "python",
   "name": "python3"
  },
  "language_info": {
   "codemirror_mode": {
    "name": "ipython",
    "version": 3
   },
   "file_extension": ".py",
   "mimetype": "text/x-python",
   "name": "python",
   "nbconvert_exporter": "python",
   "pygments_lexer": "ipython3",
   "version": "3.7.9"
  }
 },
 "nbformat": 4,
 "nbformat_minor": 4
}
