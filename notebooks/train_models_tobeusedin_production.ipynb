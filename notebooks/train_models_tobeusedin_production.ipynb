{
 "cells": [
  {
   "cell_type": "code",
   "execution_count": 5,
   "source": [
    "import dill\n",
    "import json\n",
    "import pandas as pd\n",
    "from sklearn.model_selection import train_test_split\n",
    "import os\n",
    "from sklearn.metrics import confusion_matrix, accuracy_score, recall_score, balanced_accuracy_score"
   ],
   "outputs": [],
   "metadata": {}
  },
  {
   "cell_type": "code",
   "execution_count": 22,
   "source": [
    "main_dir = '../models/'"
   ],
   "outputs": [],
   "metadata": {}
  },
  {
   "cell_type": "code",
   "execution_count": 23,
   "source": [
    "fldrs = [os.path.join(main_dir, x) for x in os.listdir(main_dir) if os.path.isdir(os.path.join(main_dir, x))]"
   ],
   "outputs": [],
   "metadata": {}
  },
  {
   "cell_type": "code",
   "execution_count": 24,
   "source": [
    "# Get best models based on the pseudometric csv file to be used as selected models\n",
    "top_rfe_ml_per_model_ = {}\n",
    "for fldr in fldrs:\n",
    "    df_psudo_scores = pd.read_csv(os.path.join(fldr,'pseudo_metrics.csv'), index_col=[0,1])\n",
    "    max_loc = df_psudo_scores['acc'].argmax()\n",
    "    rfe, ml = df_psudo_scores.index[max_loc]\n",
    "    top_rfe_ml_per_model_[fldr] = (rfe, ml)"
   ],
   "outputs": [],
   "metadata": {}
  },
  {
   "cell_type": "code",
   "execution_count": 25,
   "source": [
    "top_rfe_ml_per_model_"
   ],
   "outputs": [
    {
     "output_type": "execute_result",
     "data": {
      "text/plain": "{'../models/20210817_134614': ('lsvm', 'gradboost'),\n '../models/20210815_213208_perc_ubuntu_comm': ('lsvm', 'gradboost'),\n '../models/20210816_230313_perc_ubuntu_cog': ('lsvm', 'gradboost'),\n '../models/20210815_170500_perc_ubuntu_mot': ('lsvm', 'gradboost'),\n '../models/20210712_122841_ubuntu_std_mot': ('lsvm', 'gradboost'),\n '../models/20210711_175827_ubuntu_std_awareness': ('lr', 'gradboost')}"
     },
     "metadata": {},
     "execution_count": 25
    }
   ],
   "metadata": {}
  },
  {
   "cell_type": "code",
   "execution_count": 26,
   "source": [
    "production_models = {}\n",
    "for fldr in fldrs:\n",
    "    behav_name = fldr.split('_')[-1]\n",
    "    df = pd.read_csv(os.path.join(fldr, 'group_df_afterFixation.csv'), index_col=0)\n",
    "    cols_2_del = ['DX_GROUP','AGE_AT_SCAN ', 'SEX']\n",
    "    for col in df.columns:\n",
    "        if 'categories_' in col:\n",
    "            cols_2_del.append(col)\n",
    "        elif 'SRS_' in col:\n",
    "            cols_2_del.append(col)\n",
    "    df.drop(cols_2_del, axis=1, inplace=True)\n",
    "    \n",
    "    with open(os.path.join(fldr,'normalizer.p'), 'rb') as f:\n",
    "        normalizer = dill.load(f)\n",
    "    with open(os.path.join(fldr,'ML_obj.p'), 'rb') as f:\n",
    "        ml_obj = dill.load(f)\n",
    "    with open(os.path.join(fldr, 'FS_obj.p'), 'rb') as f:\n",
    "        fs_obj = dill.load(f)\n",
    "    X = df.drop('my_labels', axis=1)\n",
    "    y = df['my_labels'].values\n",
    "    Xs = normalizer.transform(X)\n",
    "    \n",
    "    selected_rfe = top_rfe_ml_per_model_[fldr][0]\n",
    "    selected_ml = top_rfe_ml_per_model_[fldr][1]\n",
    "    \n",
    "    Xselected = fs_obj[selected_rfe].transform(Xs)\n",
    "    trained_obj = ml_obj[selected_rfe][selected_ml].best_estimator_.fit(Xselected, y)\n",
    "    yhat = trained_obj.predict(Xselected)\n",
    "    score = balanced_accuracy_score(y, yhat)\n",
    "    print(f'{behav_name}: {confusion_matrix(y,yhat)}')\n",
    "\n",
    "    production_models[behav_name] = {\n",
    "        'normalizer': normalizer,\n",
    "        'rfe': fs_obj[selected_rfe],\n",
    "        'ml': trained_obj,\n",
    "        'score': score\n",
    "    }"
   ],
   "outputs": [
    {
     "output_type": "stream",
     "name": "stdout",
     "text": "134614: [[ 13 176]\n [  5 180]]\ncomm: [[166   0]\n [166   0]]\ncog: [[125   2]\n [126   1]]\nmot: [[  2 114]\n [  0 116]]\nmot: [[  0 116]\n [  0 116]]\nawareness: [[11 94]\n [ 8 97]]\n"
    }
   ],
   "metadata": {}
  },
  {
   "cell_type": "code",
   "execution_count": 13,
   "source": [
    "with open('../selected_models_for_production/trained_normalizer_rfe_models.p', 'wb') as f:\r\n",
    "    dill.dump(production_models, f)"
   ],
   "outputs": [],
   "metadata": {}
  },
  {
   "cell_type": "code",
   "execution_count": 27,
   "source": [
    "production_models\n",
    ""
   ],
   "outputs": [
    {
     "output_type": "execute_result",
     "data": {
      "text/plain": "{'134614': {'normalizer': StandardScaler(),\n  'rfe': RFECV(cv=5, estimator=LinearSVC(max_iter=1000000000), n_jobs=-1,\n        scoring='balanced_accuracy', verbose=3),\n  'ml': GradientBoostingClassifier(criterion='mse', learning_rate=4.1,\n                             loss='exponential', max_depth=38, min_samples_leaf=3,\n                             min_samples_split=3, n_estimators=450, subsample=0.5,\n                             warm_start=True),\n  'score': 0.5208780208780209},\n 'comm': {'normalizer': StandardScaler(),\n  'rfe': RFECV(cv=5, estimator=LinearSVC(max_iter=1000000000), n_jobs=-1,\n        scoring='balanced_accuracy', verbose=3),\n  'ml': GradientBoostingClassifier(max_depth=26, min_samples_leaf=9,\n                             min_samples_split=6, n_estimators=150, subsample=0.7,\n                             warm_start=True),\n  'score': 0.5},\n 'cog': {'normalizer': StandardScaler(),\n  'rfe': RFECV(cv=5, estimator=LinearSVC(max_iter=1000000000), n_jobs=-1,\n        scoring='balanced_accuracy', verbose=3),\n  'ml': GradientBoostingClassifier(learning_rate=2.2, loss='exponential', max_depth=5,\n                             min_samples_leaf=8, min_samples_split=4,\n                             n_estimators=250, subsample=0.7, warm_start=True),\n  'score': 0.49606299212598426},\n 'mot': {'normalizer': StandardScaler(),\n  'rfe': RFECV(cv=5, estimator=LinearSVC(max_iter=1000000000), n_jobs=-1,\n        scoring='balanced_accuracy', verbose=3),\n  'ml': GradientBoostingClassifier(criterion='mse', learning_rate=1.3000000000000003,\n                             loss='exponential', max_depth=26, min_samples_leaf=4,\n                             min_samples_split=7, n_estimators=400, subsample=0.5,\n                             warm_start=True),\n  'score': 0.5},\n 'awareness': {'normalizer': StandardScaler(),\n  'rfe': RFECV(cv=5, estimator=LogisticRegression(max_iter=1000000000), n_jobs=-1,\n        scoring='balanced_accuracy', verbose=3),\n  'ml': GradientBoostingClassifier(learning_rate=0.5, loss='exponential', max_depth=29,\n                             min_samples_leaf=8, min_samples_split=5,\n                             n_estimators=350, subsample=0.5, warm_start=True),\n  'score': 0.5142857142857143}}"
     },
     "metadata": {},
     "execution_count": 27
    }
   ],
   "metadata": {}
  },
  {
   "cell_type": "code",
   "execution_count": 4,
   "source": [
    "# Get the ubuntu models"
   ],
   "outputs": [],
   "metadata": {}
  },
  {
   "cell_type": "code",
   "execution_count": 12,
   "metadata": {},
   "outputs": [],
   "source": [
    "from sklearn.ensemble import RandomForestClassifier, GradientBoostingClassifier\n",
    "from xgboost import XGBClassifier\n",
    "from sklearn.svm import LinearSVC, SVC\n",
    "from sklearn.linear_model import LogisticRegression, SGDClassifier, RidgeClassifier, PassiveAggressiveClassifier\n",
    "from sklearn.neighbors import KNeighborsClassifier\n",
    "from sklearn.naive_bayes import GaussianNB\n",
    "MAX_ITR = 1e9\n",
    "CLC_DICT = {\n",
    "    'lsvm': lambda: LinearSVC(max_iter=MAX_ITR),\n",
    "    'pagg': lambda: PassiveAggressiveClassifier(max_iter=MAX_ITR),\n",
    "    'lr': lambda: LogisticRegression(max_iter=MAX_ITR),\n",
    "    'sgd': lambda: SGDClassifier(max_iter=MAX_ITR),\n",
    "    'ridge': lambda: RidgeClassifier(max_iter=MAX_ITR),\n",
    "    'knn': KNeighborsClassifier,\n",
    "    'xgb': XGBClassifier,\n",
    "    'gnb': GaussianNB,\n",
    "    'rf': RandomForestClassifier,\n",
    "    'svm': lambda: SVC(max_iter=MAX_ITR),\n",
    "    'nn': lambda: MLPClassifier(max_iter=MAX_ITR),\n",
    "    'gradboost': GradientBoostingClassifier\n",
    "}"
   ]
  },
  {
   "cell_type": "code",
   "execution_count": 16,
   "source": [
    "def load_classifier_from_hyperparameterJson(json_fldr):\n",
    "    json_files = [x for x in os.listdir(json_fldr)]\n",
    "    clc_dict = {}\n",
    "    for file in json_files:\n",
    "        rfe, ml = file.split('_')\n",
    "        clc_dict[rfe] = {}\n",
    "    for file in json_files:\n",
    "        full_path = os.path.join(json_fldr, file)\n",
    "        print(full_path)\n",
    "        with open(full_path, 'r') as f:\n",
    "            data = json.load(f)\n",
    "        rfe_clc, ml_clc = file.split('_')\n",
    "        clc = CLC_DICT[ml_clc]()\n",
    "        for x in clc.get_params().keys():\n",
    "            if x not in data.keys():\n",
    "                print(f'{file} missing {x}')\n",
    "        hypparam_dict = {x:data[x] for x in clc.get_params().keys()}\n",
    "        clc.set_params(**hypparam_dict)\n",
    "        clc_dict[rfe_clc][ml_clc] = clc\n",
    "    return clc_dict"
   ],
   "outputs": [],
   "metadata": {}
  },
  {
   "cell_type": "code",
   "execution_count": 17,
   "source": [
    "clc_dict = load_classifier_from_hyperparameterJson('../models/20210815_170500_perc_ubuntu_mot/ML_obj_hyperparams/')"
   ],
   "outputs": [
    {
     "output_type": "stream",
     "name": "stdout",
     "text": "../models/20210815_170500_perc_ubuntu_mot/ML_obj_hyperparams/lsvm_svm\n../models/20210815_170500_perc_ubuntu_mot/ML_obj_hyperparams/lsvm_lr\n../models/20210815_170500_perc_ubuntu_mot/ML_obj_hyperparams/lsvm_lsvm\n../models/20210815_170500_perc_ubuntu_mot/ML_obj_hyperparams/xgb_xgb\n../models/20210815_170500_perc_ubuntu_mot/ML_obj_hyperparams/lr_knn\n../models/20210815_170500_perc_ubuntu_mot/ML_obj_hyperparams/lsvm_xgb\n../models/20210815_170500_perc_ubuntu_mot/ML_obj_hyperparams/lr_lr\n../models/20210815_170500_perc_ubuntu_mot/ML_obj_hyperparams/xgb_svm\n../models/20210815_170500_perc_ubuntu_mot/ML_obj_hyperparams/lsvm_gradboost\n../models/20210815_170500_perc_ubuntu_mot/ML_obj_hyperparams/lsvm_rf\n../models/20210815_170500_perc_ubuntu_mot/ML_obj_hyperparams/rf_svm\n../models/20210815_170500_perc_ubuntu_mot/ML_obj_hyperparams/lsvm_knn\n../models/20210815_170500_perc_ubuntu_mot/ML_obj_hyperparams/xgb_knn\n../models/20210815_170500_perc_ubuntu_mot/ML_obj_hyperparams/rf_xgb\n../models/20210815_170500_perc_ubuntu_mot/ML_obj_hyperparams/lr_svm\n../models/20210815_170500_perc_ubuntu_mot/ML_obj_hyperparams/lr_lsvm\n../models/20210815_170500_perc_ubuntu_mot/ML_obj_hyperparams/rf_gradboost\n../models/20210815_170500_perc_ubuntu_mot/ML_obj_hyperparams/xgb_gradboost\n../models/20210815_170500_perc_ubuntu_mot/ML_obj_hyperparams/rf_lsvm\n../models/20210815_170500_perc_ubuntu_mot/ML_obj_hyperparams/lr_xgb\n../models/20210815_170500_perc_ubuntu_mot/ML_obj_hyperparams/rf_lr\n../models/20210815_170500_perc_ubuntu_mot/ML_obj_hyperparams/rf_rf\n../models/20210815_170500_perc_ubuntu_mot/ML_obj_hyperparams/lr_gradboost\n../models/20210815_170500_perc_ubuntu_mot/ML_obj_hyperparams/lr_rf\n../models/20210815_170500_perc_ubuntu_mot/ML_obj_hyperparams/xgb_lsvm\n../models/20210815_170500_perc_ubuntu_mot/ML_obj_hyperparams/xgb_lr\n../models/20210815_170500_perc_ubuntu_mot/ML_obj_hyperparams/rf_knn\n../models/20210815_170500_perc_ubuntu_mot/ML_obj_hyperparams/xgb_rf\n"
    }
   ],
   "metadata": {}
  },
  {
   "cell_type": "code",
   "execution_count": 18,
   "metadata": {},
   "outputs": [
    {
     "output_type": "execute_result",
     "data": {
      "text/plain": "{'lsvm': {'svm': SVC(C=10, degree=4, kernel='sigmoid', max_iter=1000000000),\n  'lr': LogisticRegression(C=0.1, max_iter=1000000000, penalty='none',\n                     solver='newton-cg'),\n  'lsvm': LinearSVC(C=0.1, loss='hinge', max_iter=1000000000),\n  'xgb': XGBClassifier(base_score=None, booster='gblinear', colsample_bylevel=None,\n                colsample_bynode=None, colsample_bytree=1.0, gamma=100,\n                gpu_id=None, importance_type='gain', interaction_constraints=None,\n                learning_rate=0.01, max_delta_step=None, max_depth=None,\n                min_child_weight=10, missing=None, monotone_constraints=None,\n                n_estimators=100, n_jobs=None, num_parallel_tree=None,\n                random_state=None, reg_alpha=0, reg_lambda=0,\n                scale_pos_weight=None, subsample=None, tree_method=None,\n                validate_parameters=None, verbosity=None),\n  'gradboost': GradientBoostingClassifier(criterion='mse', learning_rate=0.5, max_depth=36,\n                             min_samples_leaf=7, min_samples_split=8,\n                             n_estimators=200, subsample=0.5, warm_start=True),\n  'rf': RandomForestClassifier(max_features='sqrt', min_samples_leaf=0.1,\n                         min_samples_split=5, n_estimators=1000),\n  'knn': KNeighborsClassifier(leaf_size=70, metric='manhattan', n_neighbors=37, p=3)},\n 'xgb': {'xgb': XGBClassifier(base_score=None, booster='dart', colsample_bylevel=None,\n                colsample_bynode=None, colsample_bytree=0.8, gamma=0, gpu_id=None,\n                importance_type='gain', interaction_constraints=None,\n                learning_rate=0.5, max_delta_step=None, max_depth=None,\n                min_child_weight=0.5, missing=None, monotone_constraints=None,\n                n_estimators=100, n_jobs=None, num_parallel_tree=None,\n                random_state=None, reg_alpha=1, reg_lambda=10,\n                scale_pos_weight=None, subsample=None, tree_method=None,\n                validate_parameters=None, verbosity=None),\n  'svm': SVC(C=5, coef0=100, degree=2, kernel='poly', max_iter=1000000000),\n  'knn': KNeighborsClassifier(leaf_size=70, metric='manhattan', n_neighbors=17, p=4),\n  'gradboost': GradientBoostingClassifier(criterion='mse', learning_rate=0.2,\n                             min_samples_split=5, n_estimators=450,\n                             subsample=0.7999999999999999, warm_start=True),\n  'lsvm': LinearSVC(C=1, loss='hinge', max_iter=1000000000),\n  'lr': LogisticRegression(C=0.1, max_iter=1000000000, penalty='l1', solver='saga'),\n  'rf': RandomForestClassifier(bootstrap=False, min_samples_leaf=0.1,\n                         min_samples_split=5, n_estimators=500)},\n 'lr': {'knn': KNeighborsClassifier(leaf_size=130, metric='manhattan', n_neighbors=31, p=5,\n                       weights='distance'),\n  'lr': LogisticRegression(C=0.1, max_iter=1000000000),\n  'svm': SVC(C=10, degree=4, kernel='sigmoid', max_iter=1000000000),\n  'lsvm': LinearSVC(C=0.1, loss='hinge', max_iter=1000000000),\n  'xgb': XGBClassifier(base_score=None, booster='gblinear', colsample_bylevel=None,\n                colsample_bynode=None, colsample_bytree=1.0, gamma=0.1,\n                gpu_id=None, importance_type='gain', interaction_constraints=None,\n                learning_rate=0.01, max_delta_step=None, max_depth=None,\n                min_child_weight=0.01, missing=None, monotone_constraints=None,\n                n_estimators=100, n_jobs=None, num_parallel_tree=None,\n                random_state=None, reg_alpha=0, reg_lambda=0.5,\n                scale_pos_weight=None, subsample=None, tree_method=None,\n                validate_parameters=None, verbosity=None),\n  'gradboost': GradientBoostingClassifier(learning_rate=1.2000000000000002, loss='exponential',\n                             max_depth=15, min_samples_leaf=6,\n                             min_samples_split=3, n_estimators=200, subsample=0.7,\n                             warm_start=True),\n  'rf': RandomForestClassifier(criterion='entropy', min_samples_leaf=0.1,\n                         min_samples_split=5)},\n 'rf': {'svm': SVC(C=10, coef0=5, degree=4, kernel='poly', max_iter=1000000000),\n  'xgb': XGBClassifier(base_score=None, booster='gblinear', colsample_bylevel=None,\n                colsample_bynode=None, colsample_bytree=0.8, gamma=100,\n                gpu_id=None, importance_type='gain', interaction_constraints=None,\n                learning_rate=0.001, max_delta_step=None, max_depth=None,\n                min_child_weight=1, missing=None, monotone_constraints=None,\n                n_estimators=100, n_jobs=None, num_parallel_tree=None,\n                random_state=None, reg_alpha=0.001, reg_lambda=10,\n                scale_pos_weight=None, subsample=None, tree_method=None,\n                validate_parameters=None, verbosity=None),\n  'gradboost': GradientBoostingClassifier(learning_rate=2.2, loss='exponential', max_depth=40,\n                             min_samples_leaf=5, min_samples_split=7,\n                             n_estimators=400, subsample=0.7999999999999999,\n                             warm_start=True),\n  'lsvm': LinearSVC(C=0.1, loss='hinge', max_iter=1000000000),\n  'lr': LogisticRegression(C=0.1, max_iter=1000000000, solver='newton-cg'),\n  'rf': RandomForestClassifier(criterion='entropy', min_samples_leaf=0.2,\n                         n_estimators=50),\n  'knn': KNeighborsClassifier(leaf_size=20, metric='manhattan', n_neighbors=45, p=5,\n                       weights='distance')}}"
     },
     "metadata": {},
     "execution_count": 18
    }
   ],
   "source": [
    "clc_dict"
   ]
  },
  {
   "cell_type": "code",
   "execution_count": 79,
   "metadata": {},
   "outputs": [],
   "source": [
    "import json\n",
    "from sklearn.base import BaseEstimator, TransformerMixin\n",
    "import copy\n",
    "import numpy as np\n",
    "class RFEFeaturesBased(BaseEstimator, TransformerMixin):\n",
    "    def __init__(self, fldr):\n",
    "        self.data_dir = fldr\n",
    "        if not os.path.exists(os.path.join(fldr, 'selected_feats.json')):\n",
    "            raise FileExistsError(f'There is no selected_feats.json inside {fldr}')\n",
    "        self.selected_feats_json = os.path.join(fldr, 'selected_feats.json')\n",
    "        \n",
    "        if not os.path.exists(os.path.join(fldr, 'group_df_beforeFixation.csv')):\n",
    "            raise FileExistsError(f'There is no group_df_beforeFixation.csv inside {fldr}')\n",
    "        self.df_dir = os.path.join(fldr, 'group_df_beforeFixation.csv')\n",
    "\n",
    "        if not os.path.exists(os.path.join(fldr, 'pseudo_metrics.csv')):\n",
    "            raise FileExistsError(f'There is no pseudo_metrics.csv inside {fldr}')\n",
    "        self.metric_path = os.path.join(fldr, 'pseudo_metrics.csv')\n",
    "\n",
    "\n",
    "    def _load_features_from_json(self):\n",
    "        with open(self.selected_feats_json, 'r') as f:\n",
    "            feats_dict = json.load(f)\n",
    "        return feats_dict\n",
    "\n",
    "    def fit(self, X=None, y=None, **params):\n",
    "        df = pd.read_csv(self.df_dir, index_col='subj_id')\n",
    "        df_psudo_scores = pd.read_csv(self.metric_path, index_col=[0,1])\n",
    "        max_loc = df_psudo_scores['acc'].argmax()\n",
    "        rfe, ml = df_psudo_scores.index[max_loc]\n",
    "        self.columns_ = df.columns\n",
    "        self.feats_dict_ = self._load_features_from_json()\n",
    "        self.feats_names_ = self.feats_dict_[rfe]\n",
    "        self.feats_indices_ = []\n",
    "        names_list = np.zeros(len(self.feats_dict_[rfe]), dtype=np.int32)\n",
    "        for idx, feat_names in enumerate(self.feats_dict_[rfe]):\n",
    "            names_list[idx] = self.columns_.get_loc(feat_names)\n",
    "        self.feats_indices_ = names_list.copy()\n",
    "        return self\n",
    "\n",
    "    def transform(self, X, y=None, **params):\n",
    "        if isinstance(X, pd.DataFrame):\n",
    "            Xselected = X.loc[:, self.feats_names_]\n",
    "        elif isinstance(X, np.ndarray):\n",
    "            Xselected = X[:, self.feats_indices_]\n",
    "        else:\n",
    "            raise TypeError(\"I am only expecting dataframe or numpy.array\")\n",
    "\n",
    "        return Xselected\n",
    ""
   ]
  },
  {
   "cell_type": "code",
   "execution_count": 80,
   "metadata": {},
   "outputs": [],
   "source": [
    "rfe = RFEFeaturesBased(\"../models/20210815_170500_perc_ubuntu_mot\")"
   ]
  },
  {
   "cell_type": "code",
   "execution_count": 81,
   "metadata": {},
   "outputs": [
    {
     "output_type": "execute_result",
     "data": {
      "text/plain": "RFEFeaturesBased(fldr=None)"
     },
     "metadata": {},
     "execution_count": 81
    }
   ],
   "source": [
    "rfe.fit()"
   ]
  },
  {
   "cell_type": "code",
   "execution_count": 82,
   "metadata": {},
   "outputs": [],
   "source": [
    "df = pd.read_csv(\"../models/20210815_170500_perc_ubuntu_mot/group_df_afterFixation.csv\", index_col='subj_id')\n",
    ""
   ]
  },
  {
   "cell_type": "code",
   "execution_count": 83,
   "metadata": {},
   "outputs": [
    {
     "output_type": "execute_result",
     "data": {
      "text/plain": "              area_lbankssts_PERC20  area_lbankssts_PERC60  \\\nsubj_id                                                      \nNYU_1_29195                0.445095               0.777230   \nNYU_1_29194                0.442522               0.806857   \nOHSU_1_28987               0.451809               0.794181   \nKKI_29393                  0.385124               0.769144   \nTCD_1_29096                0.447873               0.792640   \n...                             ...                    ...   \nKKI_29442                  0.427423               0.799410   \nKKI_29357                  0.395082               0.765502   \nGU_1_28786                 0.412694               0.820341   \nTCD_1_29121                0.449504               0.812920   \nOHSU_1_28970               0.408150               0.748275   \n\n              area_lbankssts_PERC80  area_lcaudalmiddlefrontal_PERC40  \\\nsubj_id                                                                 \nNYU_1_29195                0.926085                          0.612405   \nNYU_1_29194                0.949495                          0.620782   \nOHSU_1_28987               0.922682                          0.591217   \nKKI_29393                  0.942048                          0.624207   \nTCD_1_29096                0.936872                          0.622678   \n...                             ...                               ...   \nKKI_29442                  0.944582                          0.576907   \nKKI_29357                  0.930529                          0.606829   \nGU_1_28786                 0.958457                          0.601765   \nTCD_1_29121                0.971209                          0.593670   \nOHSU_1_28970               0.884352                          0.595617   \n\n              area_lcuneus_PERC80  area_linferiorparietal_PERC60  \\\nsubj_id                                                            \nNYU_1_29195              0.981610                       0.792177   \nNYU_1_29194              1.008944                       0.767726   \nOHSU_1_28987             0.940065                       0.735272   \nKKI_29393                1.009778                       0.767182   \nTCD_1_29096              1.012486                       0.780137   \n...                           ...                            ...   \nKKI_29442                0.980006                       0.747623   \nKKI_29357                0.935128                       0.754487   \nGU_1_28786               0.911506                       0.742665   \nTCD_1_29121              1.032790                       0.776601   \nOHSU_1_28970             0.909799                       0.747134   \n\n              area_linferiorparietal_PERC80  area_linferiortemporal_PERC60  \\\nsubj_id                                                                      \nNYU_1_29195                        0.989764                       0.785807   \nNYU_1_29194                        0.962077                       0.786538   \nOHSU_1_28987                       0.923287                       0.723912   \nKKI_29393                          0.967276                       0.754234   \nTCD_1_29096                        0.984089                       0.793882   \n...                                     ...                            ...   \nKKI_29442                          0.947135                       0.753068   \nKKI_29357                          0.931458                       0.741934   \nGU_1_28786                         0.942035                       0.738024   \nTCD_1_29121                        0.978138                       0.806237   \nOHSU_1_28970                       0.923942                       0.758208   \n\n              area_listhmuscingulate_PERC20  area_listhmuscingulate_PERC40  \\\nsubj_id                                                                      \nNYU_1_29195                        0.335082                       0.522797   \nNYU_1_29194                        0.356588                       0.571181   \nOHSU_1_28987                       0.312253                       0.500315   \nKKI_29393                          0.357468                       0.580646   \nTCD_1_29096                        0.363551                       0.563091   \n...                                     ...                            ...   \nKKI_29442                          0.323458                       0.514181   \nKKI_29357                          0.341402                       0.537614   \nGU_1_28786                         0.358867                       0.555426   \nTCD_1_29121                        0.373159                       0.581450   \nOHSU_1_28970                       0.336543                       0.540450   \n\n              ...  thickness_rmedialorbitofrontal_PERC80  \\\nsubj_id       ...                                          \nNYU_1_29195   ...                               3.189817   \nNYU_1_29194   ...                               3.481484   \nOHSU_1_28987  ...                               3.226116   \nKKI_29393     ...                               3.424543   \nTCD_1_29096   ...                               3.516568   \n...           ...                                    ...   \nKKI_29442     ...                               3.265309   \nKKI_29357     ...                               3.551058   \nGU_1_28786    ...                               3.169122   \nTCD_1_29121   ...                               3.245388   \nOHSU_1_28970  ...                               3.408042   \n\n              thickness_rparahippocampal_PERC60  \\\nsubj_id                                           \nNYU_1_29195                            3.026245   \nNYU_1_29194                            2.466715   \nOHSU_1_28987                           3.288098   \nKKI_29393                              2.594172   \nTCD_1_29096                            2.863656   \n...                                         ...   \nKKI_29442                              3.269646   \nKKI_29357                              3.102281   \nGU_1_28786                             3.037010   \nTCD_1_29121                            2.532937   \nOHSU_1_28970                           3.330886   \n\n              thickness_rparsorbitalis_PERC40  \\\nsubj_id                                         \nNYU_1_29195                          2.786597   \nNYU_1_29194                          3.080608   \nOHSU_1_28987                         2.528215   \nKKI_29393                            2.495086   \nTCD_1_29096                          2.412265   \n...                                       ...   \nKKI_29442                            2.641657   \nKKI_29357                            2.610434   \nGU_1_28786                           2.420666   \nTCD_1_29121                          2.708239   \nOHSU_1_28970                         3.116171   \n\n              thickness_rsupramarginal_PERC20  \\\nsubj_id                                         \nNYU_1_29195                          2.283281   \nNYU_1_29194                          2.439013   \nOHSU_1_28987                         2.366347   \nKKI_29393                            1.953830   \nTCD_1_29096                          1.996041   \n...                                       ...   \nKKI_29442                            2.348416   \nKKI_29357                            2.454821   \nGU_1_28786                           2.352403   \nTCD_1_29121                          2.012580   \nOHSU_1_28970                         2.554460   \n\n              volume_lparstriangularis_PERC80  \\\nsubj_id                                         \nNYU_1_29195                          3.600507   \nNYU_1_29194                          3.673253   \nOHSU_1_28987                         3.225922   \nKKI_29393                            3.311451   \nTCD_1_29096                          3.094408   \n...                                       ...   \nKKI_29442                            3.233477   \nKKI_29357                            3.038855   \nGU_1_28786                           3.305272   \nTCD_1_29121                          3.389018   \nOHSU_1_28970                         3.624456   \n\n              volume_lrostralanteriorcingulate_PERC20  \\\nsubj_id                                                 \nNYU_1_29195                                  0.683663   \nNYU_1_29194                                  0.832683   \nOHSU_1_28987                                 0.841263   \nKKI_29393                                    0.931516   \nTCD_1_29096                                  0.815096   \n...                                               ...   \nKKI_29442                                    0.855393   \nKKI_29357                                    0.884094   \nGU_1_28786                                   0.856567   \nTCD_1_29121                                  0.849250   \nOHSU_1_28970                                 0.795735   \n\n              volume_lrostralanteriorcingulate_PERC80  \\\nsubj_id                                                 \nNYU_1_29195                                  2.732946   \nNYU_1_29194                                  3.353953   \nOHSU_1_28987                                 3.205217   \nKKI_29393                                    3.973969   \nTCD_1_29096                                  3.411021   \n...                                               ...   \nKKI_29442                                    3.304828   \nKKI_29357                                    3.983093   \nGU_1_28786                                   3.577724   \nTCD_1_29121                                  3.523644   \nOHSU_1_28970                                 4.026141   \n\n              volume_rfrontalpole_PERC80  volume_rinferiortemporal_PERC80  \\\nsubj_id                                                                     \nNYU_1_29195                     6.472891                         4.166169   \nNYU_1_29194                     4.999566                         4.356665   \nOHSU_1_28987                    4.288923                         3.558860   \nKKI_29393                       5.404278                         3.847251   \nTCD_1_29096                     5.245967                         4.013608   \n...                                  ...                              ...   \nKKI_29442                       4.182753                         3.301636   \nKKI_29357                       4.583903                         3.250320   \nGU_1_28786                      4.003357                         3.722314   \nTCD_1_29121                     4.282467                         3.327824   \nOHSU_1_28970                    4.830297                         3.656362   \n\n              volume_rrostralanteriorcingulate_PERC20  \nsubj_id                                                \nNYU_1_29195                                  0.804925  \nNYU_1_29194                                  0.765148  \nOHSU_1_28987                                 0.765378  \nKKI_29393                                    0.928768  \nTCD_1_29096                                  0.772198  \n...                                               ...  \nKKI_29442                                    0.829448  \nKKI_29357                                    0.872899  \nGU_1_28786                                   0.802226  \nTCD_1_29121                                  1.079282  \nOHSU_1_28970                                 0.916057  \n\n[232 rows x 77 columns]",
      "text/html": "<div>\n<style scoped>\n    .dataframe tbody tr th:only-of-type {\n        vertical-align: middle;\n    }\n\n    .dataframe tbody tr th {\n        vertical-align: top;\n    }\n\n    .dataframe thead th {\n        text-align: right;\n    }\n</style>\n<table border=\"1\" class=\"dataframe\">\n  <thead>\n    <tr style=\"text-align: right;\">\n      <th></th>\n      <th>area_lbankssts_PERC20</th>\n      <th>area_lbankssts_PERC60</th>\n      <th>area_lbankssts_PERC80</th>\n      <th>area_lcaudalmiddlefrontal_PERC40</th>\n      <th>area_lcuneus_PERC80</th>\n      <th>area_linferiorparietal_PERC60</th>\n      <th>area_linferiorparietal_PERC80</th>\n      <th>area_linferiortemporal_PERC60</th>\n      <th>area_listhmuscingulate_PERC20</th>\n      <th>area_listhmuscingulate_PERC40</th>\n      <th>...</th>\n      <th>thickness_rmedialorbitofrontal_PERC80</th>\n      <th>thickness_rparahippocampal_PERC60</th>\n      <th>thickness_rparsorbitalis_PERC40</th>\n      <th>thickness_rsupramarginal_PERC20</th>\n      <th>volume_lparstriangularis_PERC80</th>\n      <th>volume_lrostralanteriorcingulate_PERC20</th>\n      <th>volume_lrostralanteriorcingulate_PERC80</th>\n      <th>volume_rfrontalpole_PERC80</th>\n      <th>volume_rinferiortemporal_PERC80</th>\n      <th>volume_rrostralanteriorcingulate_PERC20</th>\n    </tr>\n    <tr>\n      <th>subj_id</th>\n      <th></th>\n      <th></th>\n      <th></th>\n      <th></th>\n      <th></th>\n      <th></th>\n      <th></th>\n      <th></th>\n      <th></th>\n      <th></th>\n      <th></th>\n      <th></th>\n      <th></th>\n      <th></th>\n      <th></th>\n      <th></th>\n      <th></th>\n      <th></th>\n      <th></th>\n      <th></th>\n      <th></th>\n    </tr>\n  </thead>\n  <tbody>\n    <tr>\n      <th>NYU_1_29195</th>\n      <td>0.445095</td>\n      <td>0.777230</td>\n      <td>0.926085</td>\n      <td>0.612405</td>\n      <td>0.981610</td>\n      <td>0.792177</td>\n      <td>0.989764</td>\n      <td>0.785807</td>\n      <td>0.335082</td>\n      <td>0.522797</td>\n      <td>...</td>\n      <td>3.189817</td>\n      <td>3.026245</td>\n      <td>2.786597</td>\n      <td>2.283281</td>\n      <td>3.600507</td>\n      <td>0.683663</td>\n      <td>2.732946</td>\n      <td>6.472891</td>\n      <td>4.166169</td>\n      <td>0.804925</td>\n    </tr>\n    <tr>\n      <th>NYU_1_29194</th>\n      <td>0.442522</td>\n      <td>0.806857</td>\n      <td>0.949495</td>\n      <td>0.620782</td>\n      <td>1.008944</td>\n      <td>0.767726</td>\n      <td>0.962077</td>\n      <td>0.786538</td>\n      <td>0.356588</td>\n      <td>0.571181</td>\n      <td>...</td>\n      <td>3.481484</td>\n      <td>2.466715</td>\n      <td>3.080608</td>\n      <td>2.439013</td>\n      <td>3.673253</td>\n      <td>0.832683</td>\n      <td>3.353953</td>\n      <td>4.999566</td>\n      <td>4.356665</td>\n      <td>0.765148</td>\n    </tr>\n    <tr>\n      <th>OHSU_1_28987</th>\n      <td>0.451809</td>\n      <td>0.794181</td>\n      <td>0.922682</td>\n      <td>0.591217</td>\n      <td>0.940065</td>\n      <td>0.735272</td>\n      <td>0.923287</td>\n      <td>0.723912</td>\n      <td>0.312253</td>\n      <td>0.500315</td>\n      <td>...</td>\n      <td>3.226116</td>\n      <td>3.288098</td>\n      <td>2.528215</td>\n      <td>2.366347</td>\n      <td>3.225922</td>\n      <td>0.841263</td>\n      <td>3.205217</td>\n      <td>4.288923</td>\n      <td>3.558860</td>\n      <td>0.765378</td>\n    </tr>\n    <tr>\n      <th>KKI_29393</th>\n      <td>0.385124</td>\n      <td>0.769144</td>\n      <td>0.942048</td>\n      <td>0.624207</td>\n      <td>1.009778</td>\n      <td>0.767182</td>\n      <td>0.967276</td>\n      <td>0.754234</td>\n      <td>0.357468</td>\n      <td>0.580646</td>\n      <td>...</td>\n      <td>3.424543</td>\n      <td>2.594172</td>\n      <td>2.495086</td>\n      <td>1.953830</td>\n      <td>3.311451</td>\n      <td>0.931516</td>\n      <td>3.973969</td>\n      <td>5.404278</td>\n      <td>3.847251</td>\n      <td>0.928768</td>\n    </tr>\n    <tr>\n      <th>TCD_1_29096</th>\n      <td>0.447873</td>\n      <td>0.792640</td>\n      <td>0.936872</td>\n      <td>0.622678</td>\n      <td>1.012486</td>\n      <td>0.780137</td>\n      <td>0.984089</td>\n      <td>0.793882</td>\n      <td>0.363551</td>\n      <td>0.563091</td>\n      <td>...</td>\n      <td>3.516568</td>\n      <td>2.863656</td>\n      <td>2.412265</td>\n      <td>1.996041</td>\n      <td>3.094408</td>\n      <td>0.815096</td>\n      <td>3.411021</td>\n      <td>5.245967</td>\n      <td>4.013608</td>\n      <td>0.772198</td>\n    </tr>\n    <tr>\n      <th>...</th>\n      <td>...</td>\n      <td>...</td>\n      <td>...</td>\n      <td>...</td>\n      <td>...</td>\n      <td>...</td>\n      <td>...</td>\n      <td>...</td>\n      <td>...</td>\n      <td>...</td>\n      <td>...</td>\n      <td>...</td>\n      <td>...</td>\n      <td>...</td>\n      <td>...</td>\n      <td>...</td>\n      <td>...</td>\n      <td>...</td>\n      <td>...</td>\n      <td>...</td>\n      <td>...</td>\n    </tr>\n    <tr>\n      <th>KKI_29442</th>\n      <td>0.427423</td>\n      <td>0.799410</td>\n      <td>0.944582</td>\n      <td>0.576907</td>\n      <td>0.980006</td>\n      <td>0.747623</td>\n      <td>0.947135</td>\n      <td>0.753068</td>\n      <td>0.323458</td>\n      <td>0.514181</td>\n      <td>...</td>\n      <td>3.265309</td>\n      <td>3.269646</td>\n      <td>2.641657</td>\n      <td>2.348416</td>\n      <td>3.233477</td>\n      <td>0.855393</td>\n      <td>3.304828</td>\n      <td>4.182753</td>\n      <td>3.301636</td>\n      <td>0.829448</td>\n    </tr>\n    <tr>\n      <th>KKI_29357</th>\n      <td>0.395082</td>\n      <td>0.765502</td>\n      <td>0.930529</td>\n      <td>0.606829</td>\n      <td>0.935128</td>\n      <td>0.754487</td>\n      <td>0.931458</td>\n      <td>0.741934</td>\n      <td>0.341402</td>\n      <td>0.537614</td>\n      <td>...</td>\n      <td>3.551058</td>\n      <td>3.102281</td>\n      <td>2.610434</td>\n      <td>2.454821</td>\n      <td>3.038855</td>\n      <td>0.884094</td>\n      <td>3.983093</td>\n      <td>4.583903</td>\n      <td>3.250320</td>\n      <td>0.872899</td>\n    </tr>\n    <tr>\n      <th>GU_1_28786</th>\n      <td>0.412694</td>\n      <td>0.820341</td>\n      <td>0.958457</td>\n      <td>0.601765</td>\n      <td>0.911506</td>\n      <td>0.742665</td>\n      <td>0.942035</td>\n      <td>0.738024</td>\n      <td>0.358867</td>\n      <td>0.555426</td>\n      <td>...</td>\n      <td>3.169122</td>\n      <td>3.037010</td>\n      <td>2.420666</td>\n      <td>2.352403</td>\n      <td>3.305272</td>\n      <td>0.856567</td>\n      <td>3.577724</td>\n      <td>4.003357</td>\n      <td>3.722314</td>\n      <td>0.802226</td>\n    </tr>\n    <tr>\n      <th>TCD_1_29121</th>\n      <td>0.449504</td>\n      <td>0.812920</td>\n      <td>0.971209</td>\n      <td>0.593670</td>\n      <td>1.032790</td>\n      <td>0.776601</td>\n      <td>0.978138</td>\n      <td>0.806237</td>\n      <td>0.373159</td>\n      <td>0.581450</td>\n      <td>...</td>\n      <td>3.245388</td>\n      <td>2.532937</td>\n      <td>2.708239</td>\n      <td>2.012580</td>\n      <td>3.389018</td>\n      <td>0.849250</td>\n      <td>3.523644</td>\n      <td>4.282467</td>\n      <td>3.327824</td>\n      <td>1.079282</td>\n    </tr>\n    <tr>\n      <th>OHSU_1_28970</th>\n      <td>0.408150</td>\n      <td>0.748275</td>\n      <td>0.884352</td>\n      <td>0.595617</td>\n      <td>0.909799</td>\n      <td>0.747134</td>\n      <td>0.923942</td>\n      <td>0.758208</td>\n      <td>0.336543</td>\n      <td>0.540450</td>\n      <td>...</td>\n      <td>3.408042</td>\n      <td>3.330886</td>\n      <td>3.116171</td>\n      <td>2.554460</td>\n      <td>3.624456</td>\n      <td>0.795735</td>\n      <td>4.026141</td>\n      <td>4.830297</td>\n      <td>3.656362</td>\n      <td>0.916057</td>\n    </tr>\n  </tbody>\n</table>\n<p>232 rows × 77 columns</p>\n</div>"
     },
     "metadata": {},
     "execution_count": 83
    }
   ],
   "source": [
    "rfe.transform(df)"
   ]
  },
  {
   "cell_type": "code",
   "execution_count": 85,
   "metadata": {},
   "outputs": [],
   "source": [
    "with open(\"../models/20210815_170500_perc_ubuntu_mot/selected_feats.json\", 'r') as f:\n",
    "    data = json.load(f)"
   ]
  },
  {
   "cell_type": "code",
   "execution_count": 88,
   "metadata": {},
   "outputs": [
    {
     "output_type": "execute_result",
     "data": {
      "text/plain": "77"
     },
     "metadata": {},
     "execution_count": 88
    }
   ],
   "source": [
    "len(data['xgb'])"
   ]
  },
  {
   "cell_type": "code",
   "execution_count": 89,
   "metadata": {},
   "outputs": [
    {
     "output_type": "execute_result",
     "data": {
      "text/plain": "array([ True,  True,  True,  True,  True,  True,  True,  True,  True,\n        True,  True,  True,  True,  True,  True,  True,  True,  True,\n        True,  True,  True,  True,  True,  True,  True,  True,  True,\n        True,  True,  True,  True,  True,  True,  True,  True,  True,\n        True,  True,  True,  True,  True,  True,  True,  True,  True,\n        True,  True,  True,  True,  True,  True,  True,  True,  True,\n        True,  True,  True,  True,  True,  True,  True,  True,  True,\n        True,  True,  True,  True,  True,  True,  True,  True,  True,\n        True,  True,  True,  True,  True])"
     },
     "metadata": {},
     "execution_count": 89
    }
   ],
   "source": [
    "data['xgb']==rfe.transform(df).columns"
   ]
  },
  {
   "cell_type": "code",
   "execution_count": null,
   "metadata": {},
   "outputs": [],
   "source": []
  }
 ],
 "metadata": {
  "kernelspec": {
   "name": "python37964bitbraintorchconda42063450aa4b44b98f543a93d12833bd",
   "display_name": "Python 3.7.9 64-bit ('brain_torch': conda)"
  },
  "language_info": {
   "codemirror_mode": {
    "name": "ipython",
    "version": 3
   },
   "file_extension": ".py",
   "mimetype": "text/x-python",
   "name": "python",
   "nbconvert_exporter": "python",
   "pygments_lexer": "ipython3",
   "version": "3.7.9-final"
  },
  "interpreter": {
   "hash": "1a82c7c5c2c1ca5c567685f6020713dbf746aa30dfff06c3ab1c596cb7b80d0e"
  }
 },
 "nbformat": 4,
 "nbformat_minor": 4
}