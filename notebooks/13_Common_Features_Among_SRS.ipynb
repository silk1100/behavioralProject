{
 "cells": [
  {
   "cell_type": "code",
   "execution_count": 1,
   "metadata": {},
   "outputs": [],
   "source": [
    "MAIN_DIR = \"../output/bigdatacluster/randomizedOutput/\""
   ]
  },
  {
   "cell_type": "code",
   "execution_count": 69,
   "metadata": {},
   "outputs": [],
   "source": [
    "import os\n",
    "import pandas as pd\n",
    "import dill\n",
    "import json\n",
    "import numpy as np\n",
    "import warnings; warnings.simplefilter('ignore')\n",
    "from collections import defaultdict\n",
    "import matplotlib.pyplot as plt\n",
    "import seaborn as sns\n",
    "sns.set()"
   ]
  },
  {
   "cell_type": "code",
   "execution_count": 70,
   "metadata": {},
   "outputs": [],
   "source": [
    "experiment_folders = [x for x in os.listdir(MAIN_DIR) if os.path.isdir(os.path.join(MAIN_DIR, x))]"
   ]
  },
  {
   "cell_type": "code",
   "execution_count": 71,
   "metadata": {},
   "outputs": [
    {
     "data": {
      "text/plain": [
       "(['experiment_adj1',\n",
       "  'experiment_adj10',\n",
       "  'experiment_adj11',\n",
       "  'experiment_adj12',\n",
       "  'experiment_adj13',\n",
       "  'experiment_adj14',\n",
       "  'experiment_adj15',\n",
       "  'experiment_adj16',\n",
       "  'experiment_adj17',\n",
       "  'experiment_adj18',\n",
       "  'experiment_adj19',\n",
       "  'experiment_adj2',\n",
       "  'experiment_adj20',\n",
       "  'experiment_adj21',\n",
       "  'experiment_adj24',\n",
       "  'experiment_adj25',\n",
       "  'experiment_adj26',\n",
       "  'experiment_adj27',\n",
       "  'experiment_adj28',\n",
       "  'experiment_adj29',\n",
       "  'experiment_adj3',\n",
       "  'experiment_adj30',\n",
       "  'experiment_adj31',\n",
       "  'experiment_adj32',\n",
       "  'experiment_adj33',\n",
       "  'experiment_adj34',\n",
       "  'experiment_adj35',\n",
       "  'experiment_adj4',\n",
       "  'experiment_adj5',\n",
       "  'experiment_adj6',\n",
       "  'experiment_adj7',\n",
       "  'experiment_adj8',\n",
       "  'experiment_adj9'],\n",
       " 33)"
      ]
     },
     "execution_count": 71,
     "metadata": {},
     "output_type": "execute_result"
    }
   ],
   "source": [
    "experiment_folders, len(experiment_folders)"
   ]
  },
  {
   "cell_type": "code",
   "execution_count": 72,
   "metadata": {},
   "outputs": [],
   "source": [
    "data_dict = defaultdict(list)"
   ]
  },
  {
   "cell_type": "code",
   "execution_count": 73,
   "metadata": {},
   "outputs": [],
   "source": [
    "for experiment in experiment_folders:\n",
    "    full_dir = os.path.join(MAIN_DIR, experiment)\n",
    "    for severity_dir in [x for x in os.listdir(full_dir) if os.path.isdir(os.path.join(full_dir, x))]:\n",
    "        full_seve_dir = os.path.join(full_dir, severity_dir, f\"AgebetweenNonetNone_{severity_dir}_percentile_minmax\")\n",
    "        for beh_dir in [x for x in os.listdir(full_seve_dir) if os.path.isdir(os.path.join(full_seve_dir, x))]:\n",
    "            full_beh_dir = os.path.join(full_seve_dir, beh_dir)\n",
    "            \n",
    "            df_pseudo = pd.read_csv(os.path.join(full_beh_dir, \"pseudo_metrics.csv\"))\n",
    "            df_pseudo['avg'] = df_pseudo[['acc','f1']].mean(axis=1)\n",
    "            best_rfe, best_clc = df_pseudo[['RFE','Metrics']].iloc[df_pseudo['avg'].argmax()]\n",
    "            \n",
    "            with open(os.path.join(full_beh_dir, \"selected_feats.json\"), 'r') as f:\n",
    "                rfe_dict = json.load(f)\n",
    "            feats = rfe_dict[best_rfe]\n",
    "            \n",
    "            with open(os.path.join(full_beh_dir, \"ML_obj.p\"), 'rb') as f:\n",
    "                ML_obj = dill.load(f)\n",
    "            \n",
    "            clc = ML_obj[best_rfe][best_clc]\n",
    "            data_dict['exp'].append(experiment)\n",
    "            data_dict['sev'].append(severity_dir)\n",
    "            data_dict['beh'].append(beh_dir.split('_')[-1])\n",
    "            data_dict['rfe'].append(best_rfe)\n",
    "            data_dict['clc'].append(best_clc)\n",
    "            data_dict['feats'].append(feats)\n",
    "            data_dict['hyper_params'].append(clc.best_params_)\n",
    "            data_dict['clc_score'].append(clc.best_score_)\n",
    "            data_dict['pseudo_acc'].append(df_pseudo['acc'].iloc[df_pseudo['avg'].argmax()])\n",
    "            data_dict['pseudo_f1'].append(df_pseudo['f1'].iloc[df_pseudo['avg'].argmax()])\n",
    "            \n",
    "\n",
    "            \n",
    "df_results = pd.DataFrame(data_dict)"
   ]
  },
  {
   "cell_type": "code",
   "execution_count": 79,
   "metadata": {},
   "outputs": [
    {
     "data": {
      "text/plain": [
       "(504, 10)"
      ]
     },
     "execution_count": 79,
     "metadata": {},
     "output_type": "execute_result"
    }
   ],
   "source": [
    "df_results.shape"
   ]
  },
  {
   "cell_type": "code",
   "execution_count": 80,
   "metadata": {},
   "outputs": [
    {
     "data": {
      "text/html": [
       "<div>\n",
       "<style scoped>\n",
       "    .dataframe tbody tr th:only-of-type {\n",
       "        vertical-align: middle;\n",
       "    }\n",
       "\n",
       "    .dataframe tbody tr th {\n",
       "        vertical-align: top;\n",
       "    }\n",
       "\n",
       "    .dataframe thead th {\n",
       "        text-align: right;\n",
       "    }\n",
       "</style>\n",
       "<table border=\"1\" class=\"dataframe\">\n",
       "  <thead>\n",
       "    <tr style=\"text-align: right;\">\n",
       "      <th></th>\n",
       "      <th>exp</th>\n",
       "      <th>sev</th>\n",
       "      <th>beh</th>\n",
       "      <th>rfe</th>\n",
       "      <th>clc</th>\n",
       "      <th>feats</th>\n",
       "      <th>hyper_params</th>\n",
       "      <th>clc_score</th>\n",
       "      <th>pseudo_acc</th>\n",
       "      <th>pseudo_f1</th>\n",
       "    </tr>\n",
       "  </thead>\n",
       "  <tbody>\n",
       "    <tr>\n",
       "      <th>0</th>\n",
       "      <td>experiment_adj1</td>\n",
       "      <td>mild_TD</td>\n",
       "      <td>awa</td>\n",
       "      <td>lsvm</td>\n",
       "      <td>svm</td>\n",
       "      <td>[area_lentorhinal_PERC60, area_lfusiform_PERC6...</td>\n",
       "      <td>{'kernel': 'poly', 'gamma': 'auto', 'degree': ...</td>\n",
       "      <td>0.860529</td>\n",
       "      <td>0.932692</td>\n",
       "      <td>0.740741</td>\n",
       "    </tr>\n",
       "    <tr>\n",
       "      <th>1</th>\n",
       "      <td>experiment_adj1</td>\n",
       "      <td>mild_TD</td>\n",
       "      <td>cog</td>\n",
       "      <td>lsvm</td>\n",
       "      <td>lsvm</td>\n",
       "      <td>[area_lcaudalanteriorcingulate_PERC20, area_lc...</td>\n",
       "      <td>{'penalty': 'l2', 'loss': 'hinge', 'C': 5}</td>\n",
       "      <td>0.884848</td>\n",
       "      <td>0.980000</td>\n",
       "      <td>0.909091</td>\n",
       "    </tr>\n",
       "    <tr>\n",
       "      <th>2</th>\n",
       "      <td>experiment_adj1</td>\n",
       "      <td>mild_TD</td>\n",
       "      <td>comm</td>\n",
       "      <td>lsvm</td>\n",
       "      <td>lsvm</td>\n",
       "      <td>[area_lbankssts_PERC60, area_lcaudalmiddlefron...</td>\n",
       "      <td>{'penalty': 'l2', 'loss': 'hinge', 'C': 5}</td>\n",
       "      <td>0.858837</td>\n",
       "      <td>0.968750</td>\n",
       "      <td>0.842105</td>\n",
       "    </tr>\n",
       "    <tr>\n",
       "      <th>3</th>\n",
       "      <td>experiment_adj1</td>\n",
       "      <td>mild_TD</td>\n",
       "      <td>man</td>\n",
       "      <td>lsvm</td>\n",
       "      <td>lr</td>\n",
       "      <td>[area_lcaudalmiddlefrontal_PERC60, area_lfront...</td>\n",
       "      <td>{'solver': 'newton-cg', 'penalty': 'none', 'C'...</td>\n",
       "      <td>0.916667</td>\n",
       "      <td>0.978495</td>\n",
       "      <td>0.888889</td>\n",
       "    </tr>\n",
       "    <tr>\n",
       "      <th>4</th>\n",
       "      <td>experiment_adj1</td>\n",
       "      <td>mild_TD</td>\n",
       "      <td>mot</td>\n",
       "      <td>lgbm</td>\n",
       "      <td>lgbm</td>\n",
       "      <td>[area_lbankssts_PERC40, area_lcaudalanteriorci...</td>\n",
       "      <td>{'reg_lambda': 0.7000000000000001, 'reg_alpha'...</td>\n",
       "      <td>0.613217</td>\n",
       "      <td>0.901961</td>\n",
       "      <td>0.375000</td>\n",
       "    </tr>\n",
       "    <tr>\n",
       "      <th>...</th>\n",
       "      <td>...</td>\n",
       "      <td>...</td>\n",
       "      <td>...</td>\n",
       "      <td>...</td>\n",
       "      <td>...</td>\n",
       "      <td>...</td>\n",
       "      <td>...</td>\n",
       "      <td>...</td>\n",
       "      <td>...</td>\n",
       "      <td>...</td>\n",
       "    </tr>\n",
       "    <tr>\n",
       "      <th>499</th>\n",
       "      <td>experiment_adj9</td>\n",
       "      <td>sever_TD</td>\n",
       "      <td>cog</td>\n",
       "      <td>lsvm</td>\n",
       "      <td>lsvm</td>\n",
       "      <td>[area_lcaudalanteriorcingulate_PERC60, area_lc...</td>\n",
       "      <td>{'penalty': 'l2', 'loss': 'hinge', 'C': 5}</td>\n",
       "      <td>0.866220</td>\n",
       "      <td>0.938596</td>\n",
       "      <td>0.851064</td>\n",
       "    </tr>\n",
       "    <tr>\n",
       "      <th>500</th>\n",
       "      <td>experiment_adj9</td>\n",
       "      <td>sever_TD</td>\n",
       "      <td>comm</td>\n",
       "      <td>lsvm</td>\n",
       "      <td>lr</td>\n",
       "      <td>[area_lcaudalanteriorcingulate_PERC80, area_lc...</td>\n",
       "      <td>{'solver': 'newton-cg', 'penalty': 'none', 'C'...</td>\n",
       "      <td>0.875782</td>\n",
       "      <td>0.907563</td>\n",
       "      <td>0.830769</td>\n",
       "    </tr>\n",
       "    <tr>\n",
       "      <th>501</th>\n",
       "      <td>experiment_adj9</td>\n",
       "      <td>sever_TD</td>\n",
       "      <td>man</td>\n",
       "      <td>lsvm</td>\n",
       "      <td>lsvm</td>\n",
       "      <td>[area_lcaudalanteriorcingulate_PERC80, area_lc...</td>\n",
       "      <td>{'penalty': 'l2', 'loss': 'squared_hinge', 'C'...</td>\n",
       "      <td>0.872691</td>\n",
       "      <td>0.909091</td>\n",
       "      <td>0.840580</td>\n",
       "    </tr>\n",
       "    <tr>\n",
       "      <th>502</th>\n",
       "      <td>experiment_adj9</td>\n",
       "      <td>sever_TD</td>\n",
       "      <td>mot</td>\n",
       "      <td>lsvm</td>\n",
       "      <td>lr</td>\n",
       "      <td>[area_lcaudalmiddlefrontal_PERC20, area_lcuneu...</td>\n",
       "      <td>{'solver': 'newton-cg', 'penalty': 'none', 'C'...</td>\n",
       "      <td>0.875183</td>\n",
       "      <td>0.930435</td>\n",
       "      <td>0.809524</td>\n",
       "    </tr>\n",
       "    <tr>\n",
       "      <th>503</th>\n",
       "      <td>experiment_adj9</td>\n",
       "      <td>sever_TD</td>\n",
       "      <td>tot</td>\n",
       "      <td>lsvm</td>\n",
       "      <td>lsvm</td>\n",
       "      <td>[area_lcaudalanteriorcingulate_PERC80, area_le...</td>\n",
       "      <td>{'penalty': 'l2', 'loss': 'squared_hinge', 'C'...</td>\n",
       "      <td>0.865734</td>\n",
       "      <td>0.886179</td>\n",
       "      <td>0.810811</td>\n",
       "    </tr>\n",
       "  </tbody>\n",
       "</table>\n",
       "<p>504 rows × 10 columns</p>\n",
       "</div>"
      ],
      "text/plain": [
       "                 exp       sev   beh   rfe   clc  \\\n",
       "0    experiment_adj1   mild_TD   awa  lsvm   svm   \n",
       "1    experiment_adj1   mild_TD   cog  lsvm  lsvm   \n",
       "2    experiment_adj1   mild_TD  comm  lsvm  lsvm   \n",
       "3    experiment_adj1   mild_TD   man  lsvm    lr   \n",
       "4    experiment_adj1   mild_TD   mot  lgbm  lgbm   \n",
       "..               ...       ...   ...   ...   ...   \n",
       "499  experiment_adj9  sever_TD   cog  lsvm  lsvm   \n",
       "500  experiment_adj9  sever_TD  comm  lsvm    lr   \n",
       "501  experiment_adj9  sever_TD   man  lsvm  lsvm   \n",
       "502  experiment_adj9  sever_TD   mot  lsvm    lr   \n",
       "503  experiment_adj9  sever_TD   tot  lsvm  lsvm   \n",
       "\n",
       "                                                 feats  \\\n",
       "0    [area_lentorhinal_PERC60, area_lfusiform_PERC6...   \n",
       "1    [area_lcaudalanteriorcingulate_PERC20, area_lc...   \n",
       "2    [area_lbankssts_PERC60, area_lcaudalmiddlefron...   \n",
       "3    [area_lcaudalmiddlefrontal_PERC60, area_lfront...   \n",
       "4    [area_lbankssts_PERC40, area_lcaudalanteriorci...   \n",
       "..                                                 ...   \n",
       "499  [area_lcaudalanteriorcingulate_PERC60, area_lc...   \n",
       "500  [area_lcaudalanteriorcingulate_PERC80, area_lc...   \n",
       "501  [area_lcaudalanteriorcingulate_PERC80, area_lc...   \n",
       "502  [area_lcaudalmiddlefrontal_PERC20, area_lcuneu...   \n",
       "503  [area_lcaudalanteriorcingulate_PERC80, area_le...   \n",
       "\n",
       "                                          hyper_params  clc_score  pseudo_acc  \\\n",
       "0    {'kernel': 'poly', 'gamma': 'auto', 'degree': ...   0.860529    0.932692   \n",
       "1           {'penalty': 'l2', 'loss': 'hinge', 'C': 5}   0.884848    0.980000   \n",
       "2           {'penalty': 'l2', 'loss': 'hinge', 'C': 5}   0.858837    0.968750   \n",
       "3    {'solver': 'newton-cg', 'penalty': 'none', 'C'...   0.916667    0.978495   \n",
       "4    {'reg_lambda': 0.7000000000000001, 'reg_alpha'...   0.613217    0.901961   \n",
       "..                                                 ...        ...         ...   \n",
       "499         {'penalty': 'l2', 'loss': 'hinge', 'C': 5}   0.866220    0.938596   \n",
       "500  {'solver': 'newton-cg', 'penalty': 'none', 'C'...   0.875782    0.907563   \n",
       "501  {'penalty': 'l2', 'loss': 'squared_hinge', 'C'...   0.872691    0.909091   \n",
       "502  {'solver': 'newton-cg', 'penalty': 'none', 'C'...   0.875183    0.930435   \n",
       "503  {'penalty': 'l2', 'loss': 'squared_hinge', 'C'...   0.865734    0.886179   \n",
       "\n",
       "     pseudo_f1  \n",
       "0     0.740741  \n",
       "1     0.909091  \n",
       "2     0.842105  \n",
       "3     0.888889  \n",
       "4     0.375000  \n",
       "..         ...  \n",
       "499   0.851064  \n",
       "500   0.830769  \n",
       "501   0.840580  \n",
       "502   0.809524  \n",
       "503   0.810811  \n",
       "\n",
       "[504 rows x 10 columns]"
      ]
     },
     "execution_count": 80,
     "metadata": {},
     "output_type": "execute_result"
    }
   ],
   "source": [
    "df_results"
   ]
  },
  {
   "cell_type": "markdown",
   "metadata": {},
   "source": [
    "# Pick the best trial for severity and behavioral models to be used for production (Phase II)"
   ]
  },
  {
   "cell_type": "code",
   "execution_count": 99,
   "metadata": {},
   "outputs": [],
   "source": [
    "def get_best_severity_behavioral(df, sev, beh):\n",
    "    sub_df = df[(df['sev']==sev)&(df['beh']==beh)]\n",
    "    sub_df['tot'] =  sub_df['clc_score']+ sub_df['pseudo_acc'] \n",
    "    return sub_df.iloc[sub_df['tot'].argmax()]\n",
    "        "
   ]
  },
  {
   "cell_type": "code",
   "execution_count": 107,
   "metadata": {},
   "outputs": [],
   "source": [
    "# Optimize wrt to the number of features\n",
    "def get_best_severity_behavioral(df, sev, beh):\n",
    "    sub_df = df[(df['sev']==sev)&(df['beh']==beh)]\n",
    "    sub_df['tot'] =  (sub_df['clc_score']+ sub_df['pseudo_acc'] + sub_df['pseudo_f1'])/3 - len(sub_df['feats'])/1088\n",
    "    return sub_df.iloc[sub_df['tot'].argmax()]\n",
    "        "
   ]
  },
  {
   "cell_type": "code",
   "execution_count": 108,
   "metadata": {},
   "outputs": [],
   "source": [
    "best_data_dict = defaultdict(dict)\n",
    "for sev in ['mild_TD', 'moderate_TD', 'sever_TD']:\n",
    "    for beh in ['awa','comm','man','cog','mot', 'tot']:\n",
    "        best_data_dict[sev][beh] = get_best_severity_behavioral(df_results, sev, beh).to_dict()"
   ]
  },
  {
   "cell_type": "code",
   "execution_count": 109,
   "metadata": {},
   "outputs": [],
   "source": [
    "with open('best_results_dict.json', 'w') as f:\n",
    "    json.dump(best_data_dict, f)"
   ]
  },
  {
   "cell_type": "code",
   "execution_count": 106,
   "metadata": {},
   "outputs": [
    {
     "data": {
      "text/plain": [
       "(141, 0.9625, 0.9166666666666666)"
      ]
     },
     "execution_count": 106,
     "metadata": {},
     "output_type": "execute_result"
    }
   ],
   "source": [
    "len(best_data_dict['mild_TD']['cog']['feats']),best_data_dict['mild_TD']['cog']['clc_score'], best_data_dict['mild_TD']['cog']['pseudo_f1']"
   ]
  },
  {
   "cell_type": "markdown",
   "metadata": {},
   "source": [
    "# `severity_dict` is the base of the analysis "
   ]
  },
  {
   "cell_type": "markdown",
   "metadata": {},
   "source": [
    "# Question #1  "
   ]
  },
  {
   "cell_type": "code",
   "execution_count": 23,
   "metadata": {},
   "outputs": [
    {
     "data": {
      "text/html": [
       "<div>\n",
       "<style scoped>\n",
       "    .dataframe tbody tr th:only-of-type {\n",
       "        vertical-align: middle;\n",
       "    }\n",
       "\n",
       "    .dataframe tbody tr th {\n",
       "        vertical-align: top;\n",
       "    }\n",
       "\n",
       "    .dataframe thead th {\n",
       "        text-align: right;\n",
       "    }\n",
       "</style>\n",
       "<table border=\"1\" class=\"dataframe\">\n",
       "  <thead>\n",
       "    <tr style=\"text-align: right;\">\n",
       "      <th></th>\n",
       "      <th>clc_score</th>\n",
       "      <th>pseudo_acc</th>\n",
       "      <th>pseudo_f1</th>\n",
       "    </tr>\n",
       "    <tr>\n",
       "      <th>sev</th>\n",
       "      <th></th>\n",
       "      <th></th>\n",
       "      <th></th>\n",
       "    </tr>\n",
       "  </thead>\n",
       "  <tbody>\n",
       "    <tr>\n",
       "      <th>mild_TD</th>\n",
       "      <td>0.807724</td>\n",
       "      <td>0.950365</td>\n",
       "      <td>0.746540</td>\n",
       "    </tr>\n",
       "    <tr>\n",
       "      <th>moderate_TD</th>\n",
       "      <td>0.791393</td>\n",
       "      <td>0.902976</td>\n",
       "      <td>0.723463</td>\n",
       "    </tr>\n",
       "    <tr>\n",
       "      <th>sever_TD</th>\n",
       "      <td>0.821807</td>\n",
       "      <td>0.889343</td>\n",
       "      <td>0.768660</td>\n",
       "    </tr>\n",
       "  </tbody>\n",
       "</table>\n",
       "</div>"
      ],
      "text/plain": [
       "             clc_score  pseudo_acc  pseudo_f1\n",
       "sev                                          \n",
       "mild_TD       0.807724    0.950365   0.746540\n",
       "moderate_TD   0.791393    0.902976   0.723463\n",
       "sever_TD      0.821807    0.889343   0.768660"
      ]
     },
     "execution_count": 23,
     "metadata": {},
     "output_type": "execute_result"
    }
   ],
   "source": [
    "df_results.groupby('sev')[['clc_score','pseudo_acc', 'pseudo_f1']].mean()"
   ]
  },
  {
   "cell_type": "code",
   "execution_count": 64,
   "metadata": {},
   "outputs": [
    {
     "data": {
      "text/html": [
       "<div>\n",
       "<style scoped>\n",
       "    .dataframe tbody tr th:only-of-type {\n",
       "        vertical-align: middle;\n",
       "    }\n",
       "\n",
       "    .dataframe tbody tr th {\n",
       "        vertical-align: top;\n",
       "    }\n",
       "\n",
       "    .dataframe thead th {\n",
       "        text-align: right;\n",
       "    }\n",
       "</style>\n",
       "<table border=\"1\" class=\"dataframe\">\n",
       "  <thead>\n",
       "    <tr style=\"text-align: right;\">\n",
       "      <th></th>\n",
       "      <th>clc_score</th>\n",
       "      <th>pseudo_acc</th>\n",
       "      <th>pseudo_f1</th>\n",
       "    </tr>\n",
       "    <tr>\n",
       "      <th>sev</th>\n",
       "      <th></th>\n",
       "      <th></th>\n",
       "      <th></th>\n",
       "    </tr>\n",
       "  </thead>\n",
       "  <tbody>\n",
       "    <tr>\n",
       "      <th>mild_TD</th>\n",
       "      <td>0.975397</td>\n",
       "      <td>1.000000</td>\n",
       "      <td>1.000000</td>\n",
       "    </tr>\n",
       "    <tr>\n",
       "      <th>moderate_TD</th>\n",
       "      <td>0.926419</td>\n",
       "      <td>0.980583</td>\n",
       "      <td>0.950000</td>\n",
       "    </tr>\n",
       "    <tr>\n",
       "      <th>sever_TD</th>\n",
       "      <td>0.907761</td>\n",
       "      <td>0.965217</td>\n",
       "      <td>0.914286</td>\n",
       "    </tr>\n",
       "  </tbody>\n",
       "</table>\n",
       "</div>"
      ],
      "text/plain": [
       "             clc_score  pseudo_acc  pseudo_f1\n",
       "sev                                          \n",
       "mild_TD       0.975397    1.000000   1.000000\n",
       "moderate_TD   0.926419    0.980583   0.950000\n",
       "sever_TD      0.907761    0.965217   0.914286"
      ]
     },
     "execution_count": 64,
     "metadata": {},
     "output_type": "execute_result"
    }
   ],
   "source": [
    "df_results.groupby('sev')[['clc_score','pseudo_acc', 'pseudo_f1']].max()"
   ]
  },
  {
   "cell_type": "code",
   "execution_count": null,
   "metadata": {},
   "outputs": [],
   "source": []
  },
  {
   "cell_type": "code",
   "execution_count": 72,
   "metadata": {},
   "outputs": [
    {
     "data": {
      "text/plain": [
       "(      clc_score  pseudo_acc  pseudo_f1\n",
       " beh                                   \n",
       " mot    0.715832    0.925245   0.579821\n",
       " comm   0.725616    0.916667   0.594613\n",
       " awa    0.822882    0.941106   0.748138\n",
       " man    0.844172    0.966398   0.809436\n",
       " cog    0.884659    0.976250   0.897069\n",
       " tot    0.860959    0.990591   0.928821,\n",
       "       clc_score  pseudo_acc  pseudo_f1\n",
       " beh                                   \n",
       " cog    0.067404    0.015980   0.073865\n",
       " tot    0.061392    0.012107   0.097168\n",
       " man    0.077426    0.019438   0.111573\n",
       " comm   0.113848    0.032466   0.146461\n",
       " mot    0.130388    0.025639   0.168522\n",
       " awa    0.111116    0.032277   0.173435)"
      ]
     },
     "execution_count": 72,
     "metadata": {},
     "output_type": "execute_result"
    }
   ],
   "source": [
    "df_results[df_results['sev']=='mild_TD'].groupby('beh')[['clc_score','pseudo_acc', 'pseudo_f1']].mean().sort_values(by=\"pseudo_f1\"), df_results[df_results['sev']=='mild_TD'].groupby('beh')[['clc_score','pseudo_acc', 'pseudo_f1']].std().sort_values(by=\"pseudo_f1\")"
   ]
  },
  {
   "cell_type": "code",
   "execution_count": 70,
   "metadata": {},
   "outputs": [
    {
     "data": {
      "text/html": [
       "<div>\n",
       "<style scoped>\n",
       "    .dataframe tbody tr th:only-of-type {\n",
       "        vertical-align: middle;\n",
       "    }\n",
       "\n",
       "    .dataframe tbody tr th {\n",
       "        vertical-align: top;\n",
       "    }\n",
       "\n",
       "    .dataframe thead th {\n",
       "        text-align: right;\n",
       "    }\n",
       "</style>\n",
       "<table border=\"1\" class=\"dataframe\">\n",
       "  <thead>\n",
       "    <tr style=\"text-align: right;\">\n",
       "      <th></th>\n",
       "      <th>clc_score</th>\n",
       "      <th>pseudo_acc</th>\n",
       "      <th>pseudo_f1</th>\n",
       "    </tr>\n",
       "    <tr>\n",
       "      <th>beh</th>\n",
       "      <th></th>\n",
       "      <th></th>\n",
       "      <th></th>\n",
       "    </tr>\n",
       "  </thead>\n",
       "  <tbody>\n",
       "    <tr>\n",
       "      <th>awa</th>\n",
       "      <td>0.748909</td>\n",
       "      <td>0.863532</td>\n",
       "      <td>0.600882</td>\n",
       "    </tr>\n",
       "    <tr>\n",
       "      <th>mot</th>\n",
       "      <td>0.750832</td>\n",
       "      <td>0.866304</td>\n",
       "      <td>0.644425</td>\n",
       "    </tr>\n",
       "    <tr>\n",
       "      <th>comm</th>\n",
       "      <td>0.808881</td>\n",
       "      <td>0.903302</td>\n",
       "      <td>0.732130</td>\n",
       "    </tr>\n",
       "    <tr>\n",
       "      <th>cog</th>\n",
       "      <td>0.788693</td>\n",
       "      <td>0.924769</td>\n",
       "      <td>0.779233</td>\n",
       "    </tr>\n",
       "    <tr>\n",
       "      <th>tot</th>\n",
       "      <td>0.827745</td>\n",
       "      <td>0.931604</td>\n",
       "      <td>0.804481</td>\n",
       "    </tr>\n",
       "    <tr>\n",
       "      <th>man</th>\n",
       "      <td>0.835560</td>\n",
       "      <td>0.935680</td>\n",
       "      <td>0.819339</td>\n",
       "    </tr>\n",
       "  </tbody>\n",
       "</table>\n",
       "</div>"
      ],
      "text/plain": [
       "      clc_score  pseudo_acc  pseudo_f1\n",
       "beh                                   \n",
       "awa    0.748909    0.863532   0.600882\n",
       "mot    0.750832    0.866304   0.644425\n",
       "comm   0.808881    0.903302   0.732130\n",
       "cog    0.788693    0.924769   0.779233\n",
       "tot    0.827745    0.931604   0.804481\n",
       "man    0.835560    0.935680   0.819339"
      ]
     },
     "execution_count": 70,
     "metadata": {},
     "output_type": "execute_result"
    }
   ],
   "source": [
    "df_results[df_results['sev']=='moderate_TD'].groupby('beh')[['clc_score','pseudo_acc', 'pseudo_f1']].mean().sort_values(by=\"pseudo_f1\")"
   ]
  },
  {
   "cell_type": "code",
   "execution_count": 71,
   "metadata": {},
   "outputs": [
    {
     "data": {
      "text/html": [
       "<div>\n",
       "<style scoped>\n",
       "    .dataframe tbody tr th:only-of-type {\n",
       "        vertical-align: middle;\n",
       "    }\n",
       "\n",
       "    .dataframe tbody tr th {\n",
       "        vertical-align: top;\n",
       "    }\n",
       "\n",
       "    .dataframe thead th {\n",
       "        text-align: right;\n",
       "    }\n",
       "</style>\n",
       "<table border=\"1\" class=\"dataframe\">\n",
       "  <thead>\n",
       "    <tr style=\"text-align: right;\">\n",
       "      <th></th>\n",
       "      <th>clc_score</th>\n",
       "      <th>pseudo_acc</th>\n",
       "      <th>pseudo_f1</th>\n",
       "    </tr>\n",
       "    <tr>\n",
       "      <th>beh</th>\n",
       "      <th></th>\n",
       "      <th></th>\n",
       "      <th></th>\n",
       "    </tr>\n",
       "  </thead>\n",
       "  <tbody>\n",
       "    <tr>\n",
       "      <th>awa</th>\n",
       "      <td>0.852750</td>\n",
       "      <td>0.901136</td>\n",
       "      <td>0.717578</td>\n",
       "    </tr>\n",
       "    <tr>\n",
       "      <th>tot</th>\n",
       "      <td>0.796316</td>\n",
       "      <td>0.847561</td>\n",
       "      <td>0.746961</td>\n",
       "    </tr>\n",
       "    <tr>\n",
       "      <th>comm</th>\n",
       "      <td>0.840792</td>\n",
       "      <td>0.870798</td>\n",
       "      <td>0.774083</td>\n",
       "    </tr>\n",
       "    <tr>\n",
       "      <th>cog</th>\n",
       "      <td>0.813304</td>\n",
       "      <td>0.911184</td>\n",
       "      <td>0.792893</td>\n",
       "    </tr>\n",
       "    <tr>\n",
       "      <th>mot</th>\n",
       "      <td>0.827635</td>\n",
       "      <td>0.931522</td>\n",
       "      <td>0.824504</td>\n",
       "    </tr>\n",
       "    <tr>\n",
       "      <th>man</th>\n",
       "      <td>0.838471</td>\n",
       "      <td>0.900826</td>\n",
       "      <td>0.825419</td>\n",
       "    </tr>\n",
       "  </tbody>\n",
       "</table>\n",
       "</div>"
      ],
      "text/plain": [
       "      clc_score  pseudo_acc  pseudo_f1\n",
       "beh                                   \n",
       "awa    0.852750    0.901136   0.717578\n",
       "tot    0.796316    0.847561   0.746961\n",
       "comm   0.840792    0.870798   0.774083\n",
       "cog    0.813304    0.911184   0.792893\n",
       "mot    0.827635    0.931522   0.824504\n",
       "man    0.838471    0.900826   0.825419"
      ]
     },
     "execution_count": 71,
     "metadata": {},
     "output_type": "execute_result"
    }
   ],
   "source": [
    "df_results[df_results['sev']=='sever_TD'].groupby('beh')[['clc_score','pseudo_acc', 'pseudo_f1']].mean().sort_values(by=\"pseudo_f1\")"
   ]
  },
  {
   "cell_type": "code",
   "execution_count": 73,
   "metadata": {},
   "outputs": [
    {
     "data": {
      "text/html": [
       "<div>\n",
       "<style scoped>\n",
       "    .dataframe tbody tr th:only-of-type {\n",
       "        vertical-align: middle;\n",
       "    }\n",
       "\n",
       "    .dataframe tbody tr th {\n",
       "        vertical-align: top;\n",
       "    }\n",
       "\n",
       "    .dataframe thead th {\n",
       "        text-align: right;\n",
       "    }\n",
       "</style>\n",
       "<table border=\"1\" class=\"dataframe\">\n",
       "  <thead>\n",
       "    <tr style=\"text-align: right;\">\n",
       "      <th></th>\n",
       "      <th>exp</th>\n",
       "      <th>sev</th>\n",
       "      <th>beh</th>\n",
       "      <th>rfe</th>\n",
       "      <th>clc</th>\n",
       "      <th>feats</th>\n",
       "      <th>hyper_params</th>\n",
       "      <th>clc_score</th>\n",
       "      <th>pseudo_acc</th>\n",
       "      <th>pseudo_f1</th>\n",
       "    </tr>\n",
       "  </thead>\n",
       "  <tbody>\n",
       "    <tr>\n",
       "      <th>0</th>\n",
       "      <td>experiment_adj24</td>\n",
       "      <td>mild_TD</td>\n",
       "      <td>awa</td>\n",
       "      <td>lsvm</td>\n",
       "      <td>lsvm</td>\n",
       "      <td>[area_lentorhinal_PERC60, area_lfusiform_PERC6...</td>\n",
       "      <td>{'penalty': 'l2', 'loss': 'hinge', 'C': 10}</td>\n",
       "      <td>0.889666</td>\n",
       "      <td>0.942308</td>\n",
       "      <td>0.769231</td>\n",
       "    </tr>\n",
       "    <tr>\n",
       "      <th>1</th>\n",
       "      <td>experiment_adj24</td>\n",
       "      <td>mild_TD</td>\n",
       "      <td>cog</td>\n",
       "      <td>lsvm</td>\n",
       "      <td>lr</td>\n",
       "      <td>[area_lmiddletemporal_PERC60, area_lparsopercu...</td>\n",
       "      <td>{'solver': 'newton-cg', 'penalty': 'none', 'C'...</td>\n",
       "      <td>0.737500</td>\n",
       "      <td>0.940000</td>\n",
       "      <td>0.727273</td>\n",
       "    </tr>\n",
       "    <tr>\n",
       "      <th>2</th>\n",
       "      <td>experiment_adj24</td>\n",
       "      <td>mild_TD</td>\n",
       "      <td>comm</td>\n",
       "      <td>lsvm</td>\n",
       "      <td>svm</td>\n",
       "      <td>[area_lentorhinal_PERC80, area_lfusiform_PERC6...</td>\n",
       "      <td>{'kernel': 'poly', 'gamma': 'scale', 'degree':...</td>\n",
       "      <td>0.720834</td>\n",
       "      <td>0.927083</td>\n",
       "      <td>0.695652</td>\n",
       "    </tr>\n",
       "    <tr>\n",
       "      <th>3</th>\n",
       "      <td>experiment_adj24</td>\n",
       "      <td>mild_TD</td>\n",
       "      <td>man</td>\n",
       "      <td>lr</td>\n",
       "      <td>lr</td>\n",
       "      <td>[area_lbankssts_PERC60, area_lcaudalmiddlefron...</td>\n",
       "      <td>{'solver': 'newton-cg', 'penalty': 'none', 'C'...</td>\n",
       "      <td>0.774798</td>\n",
       "      <td>0.946237</td>\n",
       "      <td>0.705882</td>\n",
       "    </tr>\n",
       "    <tr>\n",
       "      <th>4</th>\n",
       "      <td>experiment_adj24</td>\n",
       "      <td>mild_TD</td>\n",
       "      <td>mot</td>\n",
       "      <td>lsvm</td>\n",
       "      <td>lr</td>\n",
       "      <td>[area_lentorhinal_PERC60, area_linferiorpariet...</td>\n",
       "      <td>{'solver': 'newton-cg', 'penalty': 'none', 'C'...</td>\n",
       "      <td>0.841129</td>\n",
       "      <td>0.970588</td>\n",
       "      <td>0.869565</td>\n",
       "    </tr>\n",
       "    <tr>\n",
       "      <th>...</th>\n",
       "      <td>...</td>\n",
       "      <td>...</td>\n",
       "      <td>...</td>\n",
       "      <td>...</td>\n",
       "      <td>...</td>\n",
       "      <td>...</td>\n",
       "      <td>...</td>\n",
       "      <td>...</td>\n",
       "      <td>...</td>\n",
       "      <td>...</td>\n",
       "    </tr>\n",
       "    <tr>\n",
       "      <th>139</th>\n",
       "      <td>experiment_adj31</td>\n",
       "      <td>sever_TD</td>\n",
       "      <td>cog</td>\n",
       "      <td>lr</td>\n",
       "      <td>svm</td>\n",
       "      <td>[area_lcaudalanteriorcingulate_PERC40, area_le...</td>\n",
       "      <td>{'kernel': 'poly', 'gamma': 'auto', 'degree': ...</td>\n",
       "      <td>0.795850</td>\n",
       "      <td>0.929825</td>\n",
       "      <td>0.840000</td>\n",
       "    </tr>\n",
       "    <tr>\n",
       "      <th>140</th>\n",
       "      <td>experiment_adj31</td>\n",
       "      <td>sever_TD</td>\n",
       "      <td>comm</td>\n",
       "      <td>lsvm</td>\n",
       "      <td>lsvm</td>\n",
       "      <td>[area_lcaudalanteriorcingulate_PERC80, area_lc...</td>\n",
       "      <td>{'penalty': 'l2', 'loss': 'hinge', 'C': 5}</td>\n",
       "      <td>0.903436</td>\n",
       "      <td>0.890756</td>\n",
       "      <td>0.805970</td>\n",
       "    </tr>\n",
       "    <tr>\n",
       "      <th>141</th>\n",
       "      <td>experiment_adj31</td>\n",
       "      <td>sever_TD</td>\n",
       "      <td>man</td>\n",
       "      <td>lr</td>\n",
       "      <td>ridge</td>\n",
       "      <td>[area_lbankssts_PERC60, area_lcaudalanteriorci...</td>\n",
       "      <td>{'normalize': False, 'alpha': 0.2}</td>\n",
       "      <td>0.793503</td>\n",
       "      <td>0.900826</td>\n",
       "      <td>0.812500</td>\n",
       "    </tr>\n",
       "    <tr>\n",
       "      <th>142</th>\n",
       "      <td>experiment_adj31</td>\n",
       "      <td>sever_TD</td>\n",
       "      <td>mot</td>\n",
       "      <td>lsvm</td>\n",
       "      <td>lr</td>\n",
       "      <td>[area_linsula_PERC80, area_listhmuscingulate_P...</td>\n",
       "      <td>{'solver': 'newton-cg', 'penalty': 'none', 'C'...</td>\n",
       "      <td>0.801613</td>\n",
       "      <td>0.930435</td>\n",
       "      <td>0.826087</td>\n",
       "    </tr>\n",
       "    <tr>\n",
       "      <th>143</th>\n",
       "      <td>experiment_adj31</td>\n",
       "      <td>sever_TD</td>\n",
       "      <td>tot</td>\n",
       "      <td>lsvm</td>\n",
       "      <td>lsvm</td>\n",
       "      <td>[area_lcaudalanteriorcingulate_PERC80, area_le...</td>\n",
       "      <td>{'penalty': 'l2', 'loss': 'squared_hinge', 'C'...</td>\n",
       "      <td>0.863514</td>\n",
       "      <td>0.910569</td>\n",
       "      <td>0.857143</td>\n",
       "    </tr>\n",
       "  </tbody>\n",
       "</table>\n",
       "<p>144 rows × 10 columns</p>\n",
       "</div>"
      ],
      "text/plain": [
       "                  exp       sev   beh   rfe    clc  \\\n",
       "0    experiment_adj24   mild_TD   awa  lsvm   lsvm   \n",
       "1    experiment_adj24   mild_TD   cog  lsvm     lr   \n",
       "2    experiment_adj24   mild_TD  comm  lsvm    svm   \n",
       "3    experiment_adj24   mild_TD   man    lr     lr   \n",
       "4    experiment_adj24   mild_TD   mot  lsvm     lr   \n",
       "..                ...       ...   ...   ...    ...   \n",
       "139  experiment_adj31  sever_TD   cog    lr    svm   \n",
       "140  experiment_adj31  sever_TD  comm  lsvm   lsvm   \n",
       "141  experiment_adj31  sever_TD   man    lr  ridge   \n",
       "142  experiment_adj31  sever_TD   mot  lsvm     lr   \n",
       "143  experiment_adj31  sever_TD   tot  lsvm   lsvm   \n",
       "\n",
       "                                                 feats  \\\n",
       "0    [area_lentorhinal_PERC60, area_lfusiform_PERC6...   \n",
       "1    [area_lmiddletemporal_PERC60, area_lparsopercu...   \n",
       "2    [area_lentorhinal_PERC80, area_lfusiform_PERC6...   \n",
       "3    [area_lbankssts_PERC60, area_lcaudalmiddlefron...   \n",
       "4    [area_lentorhinal_PERC60, area_linferiorpariet...   \n",
       "..                                                 ...   \n",
       "139  [area_lcaudalanteriorcingulate_PERC40, area_le...   \n",
       "140  [area_lcaudalanteriorcingulate_PERC80, area_lc...   \n",
       "141  [area_lbankssts_PERC60, area_lcaudalanteriorci...   \n",
       "142  [area_linsula_PERC80, area_listhmuscingulate_P...   \n",
       "143  [area_lcaudalanteriorcingulate_PERC80, area_le...   \n",
       "\n",
       "                                          hyper_params  clc_score  pseudo_acc  \\\n",
       "0          {'penalty': 'l2', 'loss': 'hinge', 'C': 10}   0.889666    0.942308   \n",
       "1    {'solver': 'newton-cg', 'penalty': 'none', 'C'...   0.737500    0.940000   \n",
       "2    {'kernel': 'poly', 'gamma': 'scale', 'degree':...   0.720834    0.927083   \n",
       "3    {'solver': 'newton-cg', 'penalty': 'none', 'C'...   0.774798    0.946237   \n",
       "4    {'solver': 'newton-cg', 'penalty': 'none', 'C'...   0.841129    0.970588   \n",
       "..                                                 ...        ...         ...   \n",
       "139  {'kernel': 'poly', 'gamma': 'auto', 'degree': ...   0.795850    0.929825   \n",
       "140         {'penalty': 'l2', 'loss': 'hinge', 'C': 5}   0.903436    0.890756   \n",
       "141                 {'normalize': False, 'alpha': 0.2}   0.793503    0.900826   \n",
       "142  {'solver': 'newton-cg', 'penalty': 'none', 'C'...   0.801613    0.930435   \n",
       "143  {'penalty': 'l2', 'loss': 'squared_hinge', 'C'...   0.863514    0.910569   \n",
       "\n",
       "     pseudo_f1  \n",
       "0     0.769231  \n",
       "1     0.727273  \n",
       "2     0.695652  \n",
       "3     0.705882  \n",
       "4     0.869565  \n",
       "..         ...  \n",
       "139   0.840000  \n",
       "140   0.805970  \n",
       "141   0.812500  \n",
       "142   0.826087  \n",
       "143   0.857143  \n",
       "\n",
       "[144 rows x 10 columns]"
      ]
     },
     "execution_count": 73,
     "metadata": {},
     "output_type": "execute_result"
    }
   ],
   "source": [
    "df_results"
   ]
  },
  {
   "cell_type": "code",
   "execution_count": 89,
   "metadata": {},
   "outputs": [
    {
     "data": {
      "text/plain": [
       "<AxesSubplot:ylabel='Frequency'>"
      ]
     },
     "execution_count": 89,
     "metadata": {},
     "output_type": "execute_result"
    },
    {
     "data": {
      "image/png": "[encoded data removed]",
      "text/plain": [
       "<Figure size 432x288 with 1 Axes>"
      ]
     },
     "metadata": {},
     "output_type": "display_data"
    }
   ],
   "source": [
    "df_results[df_results['sev']=='sever_TD'][['pseudo_acc', 'pseudo_f1']].plot.hist(bins=16, density=True, alpha=0.4)"
   ]
  },
  {
   "cell_type": "code",
   "execution_count": 91,
   "metadata": {},
   "outputs": [
    {
     "data": {
      "text/plain": [
       "<AxesSubplot:ylabel='Frequency'>"
      ]
     },
     "execution_count": 91,
     "metadata": {},
     "output_type": "execute_result"
    },
    {
     "data": {
      "image/png": "[encoded data removed]",
      "text/plain": [
       "<Figure size 432x288 with 1 Axes>"
      ]
     },
     "metadata": {},
     "output_type": "display_data"
    }
   ],
   "source": [
    "df_results[(df_results['sev']=='sever_TD')&(df_results['beh']=='awa')][['pseudo_acc', 'pseudo_f1']].plot.hist(bins=16, density=True, alpha=0.4)"
   ]
  },
  {
   "cell_type": "code",
   "execution_count": 92,
   "metadata": {},
   "outputs": [
    {
     "data": {
      "text/plain": [
       "<AxesSubplot:ylabel='Frequency'>"
      ]
     },
     "execution_count": 92,
     "metadata": {},
     "output_type": "execute_result"
    },
    {
     "data": {
      "image/png": "[encoded data removed]",
      "text/plain": [
       "<Figure size 432x288 with 1 Axes>"
      ]
     },
     "metadata": {},
     "output_type": "display_data"
    }
   ],
   "source": [
    "df_results[(df_results['sev']=='sever_TD')&(df_results['beh']=='cog')][['pseudo_acc', 'pseudo_f1']].plot.hist(bins=16, density=True, alpha=0.4)"
   ]
  },
  {
   "cell_type": "code",
   "execution_count": 93,
   "metadata": {},
   "outputs": [
    {
     "data": {
      "text/plain": [
       "<AxesSubplot:ylabel='Frequency'>"
      ]
     },
     "execution_count": 93,
     "metadata": {},
     "output_type": "execute_result"
    },
    {
     "data": {
      "image/png": "[encoded data removed]",
      "text/plain": [
       "<Figure size 432x288 with 1 Axes>"
      ]
     },
     "metadata": {},
     "output_type": "display_data"
    }
   ],
   "source": [
    "df_results[(df_results['sev']=='sever_TD')&(df_results['beh']=='comm')][['pseudo_acc', 'pseudo_f1']].plot.hist(bins=16, density=True, alpha=0.4)"
   ]
  },
  {
   "cell_type": "code",
   "execution_count": 94,
   "metadata": {},
   "outputs": [
    {
     "data": {
      "text/plain": [
       "<AxesSubplot:ylabel='Frequency'>"
      ]
     },
     "execution_count": 94,
     "metadata": {},
     "output_type": "execute_result"
    },
    {
     "data": {
      "image/png": "[encoded data removed]",
      "text/plain": [
       "<Figure size 432x288 with 1 Axes>"
      ]
     },
     "metadata": {},
     "output_type": "display_data"
    }
   ],
   "source": [
    "df_results[(df_results['sev']=='sever_TD')&(df_results['beh']=='man')][['pseudo_acc', 'pseudo_f1']].plot.hist(bins=16, density=True, alpha=0.4)"
   ]
  },
  {
   "cell_type": "code",
   "execution_count": 95,
   "metadata": {},
   "outputs": [
    {
     "data": {
      "text/plain": [
       "<AxesSubplot:ylabel='Frequency'>"
      ]
     },
     "execution_count": 95,
     "metadata": {},
     "output_type": "execute_result"
    },
    {
     "data": {
      "image/png": "[encoded data removed]",
      "text/plain": [
       "<Figure size 432x288 with 1 Axes>"
      ]
     },
     "metadata": {},
     "output_type": "display_data"
    }
   ],
   "source": [
    "df_results[(df_results['sev']=='sever_TD')&(df_results['beh']=='tot')][['pseudo_acc', 'pseudo_f1']].plot.hist(bins=16, density=True, alpha=0.4)"
   ]
  },
  {
   "cell_type": "code",
   "execution_count": 96,
   "metadata": {},
   "outputs": [
    {
     "data": {
      "text/plain": [
       "<AxesSubplot:ylabel='Frequency'>"
      ]
     },
     "execution_count": 96,
     "metadata": {},
     "output_type": "execute_result"
    },
    {
     "data": {
      "image/png": "[encoded data removed]",
      "text/plain": [
       "<Figure size 432x288 with 1 Axes>"
      ]
     },
     "metadata": {},
     "output_type": "display_data"
    }
   ],
   "source": [
    "df_results[(df_results['sev']=='sever_TD')&(df_results['beh']=='mot')][['pseudo_acc', 'pseudo_f1']].plot.hist(bins=16, density=True, alpha=0.4)"
   ]
  },
  {
   "cell_type": "code",
   "execution_count": null,
   "metadata": {},
   "outputs": [],
   "source": []
  },
  {
   "cell_type": "code",
   "execution_count": null,
   "metadata": {},
   "outputs": [],
   "source": []
  },
  {
   "cell_type": "code",
   "execution_count": null,
   "metadata": {},
   "outputs": [],
   "source": []
  },
  {
   "cell_type": "code",
   "execution_count": null,
   "metadata": {},
   "outputs": [],
   "source": []
  },
  {
   "cell_type": "code",
   "execution_count": 87,
   "metadata": {},
   "outputs": [
    {
     "data": {
      "text/plain": [
       "<AxesSubplot:ylabel='Frequency'>"
      ]
     },
     "execution_count": 87,
     "metadata": {},
     "output_type": "execute_result"
    },
    {
     "data": {
      "image/png": "[encoded data removed]",
      "text/plain": [
       "<Figure size 432x288 with 1 Axes>"
      ]
     },
     "metadata": {},
     "output_type": "display_data"
    }
   ],
   "source": [
    "df_results[df_results['sev']=='moderate_TD'][['pseudo_acc', 'pseudo_f1']].plot.hist(bins=16, density=True, alpha=0.4)"
   ]
  },
  {
   "cell_type": "code",
   "execution_count": 90,
   "metadata": {},
   "outputs": [
    {
     "data": {
      "text/plain": [
       "<AxesSubplot:ylabel='Frequency'>"
      ]
     },
     "execution_count": 90,
     "metadata": {},
     "output_type": "execute_result"
    },
    {
     "data": {
      "image/png": "[encoded data removed]",
      "text/plain": [
       "<Figure size 432x288 with 1 Axes>"
      ]
     },
     "metadata": {},
     "output_type": "display_data"
    }
   ],
   "source": [
    "df_results[df_results['sev']=='mild_TD'][['pseudo_acc', 'pseudo_f1']].plot.hist(bins=16, density=True, alpha=0.4)"
   ]
  },
  {
   "cell_type": "code",
   "execution_count": null,
   "metadata": {},
   "outputs": [],
   "source": []
  }
 ],
 "metadata": {
  "kernelspec": {
   "display_name": "Python 3",
   "language": "python",
   "name": "python3"
  },
  "language_info": {
   "codemirror_mode": {
    "name": "ipython",
    "version": 3
   },
   "file_extension": ".py",
   "mimetype": "text/x-python",
   "name": "python",
   "nbconvert_exporter": "python",
   "pygments_lexer": "ipython3",
   "version": "3.7.9"
  }
 },
 "nbformat": 4,
 "nbformat_minor": 5
}
