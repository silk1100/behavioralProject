{
 "cells": [
  {
   "cell_type": "code",
   "execution_count": 2,
   "id": "cfdede75",
   "metadata": {},
   "outputs": [],
   "source": [
    "MAIN_DIR = \"../output/bigdatacluster/randomizedOutput/\""
   ]
  },
  {
   "cell_type": "code",
   "execution_count": 3,
   "id": "6e7b4bc4",
   "metadata": {},
   "outputs": [],
   "source": [
    "import os\n",
    "import pandas as pd\n",
    "import dill\n",
    "import json\n",
    "import numpy as np\n",
    "import warnings; warnings.simplefilter('ignore')\n",
    "from collections import defaultdict\n",
    "import matplotlib.pyplot as plt\n",
    "import seaborn as sns\n",
    "sns.set()"
   ]
  },
  {
   "cell_type": "code",
   "execution_count": 14,
   "id": "bb7da325",
   "metadata": {},
   "outputs": [],
   "source": [
    "experiment_folders = [x for x in os.listdir(MAIN_DIR) if os.path.isdir(os.path.join(MAIN_DIR, x))]"
   ]
  },
  {
   "cell_type": "code",
   "execution_count": 15,
   "id": "fdd92e78",
   "metadata": {},
   "outputs": [
    {
     "data": {
      "text/plain": [
       "(['experiment_adj23',\n",
       "  'experiment_adj29',\n",
       "  'experiment_adj20',\n",
       "  'experiment_adj21',\n",
       "  'experiment_adj44',\n",
       "  'experiment_adj36',\n",
       "  'experiment_adj18',\n",
       "  'experiment_adj17',\n",
       "  'experiment_adj53',\n",
       "  'experiment_adj34',\n",
       "  'experiment_adj49',\n",
       "  'experiment_adj35',\n",
       "  'experiment_adj31',\n",
       "  'experiment_adj55',\n",
       "  'experiment_adj9',\n",
       "  'experiment_adj26',\n",
       "  'experiment_adj38',\n",
       "  'experiment_adj54',\n",
       "  'experiment_adj10',\n",
       "  'experiment_adj25',\n",
       "  'experiment_adj39',\n",
       "  'experiment_adj30',\n",
       "  'experiment_adj52',\n",
       "  'experiment_adj4',\n",
       "  'experiment_adj58',\n",
       "  'experiment_adj37',\n",
       "  'experiment_adj46',\n",
       "  'experiment_adj5',\n",
       "  'experiment_adj27',\n",
       "  'experiment_adj48',\n",
       "  'experiment_adj7',\n",
       "  'experiment_adj47',\n",
       "  'experiment_adj41',\n",
       "  'experiment_adj24',\n",
       "  'experiment_adj57',\n",
       "  'experiment_adj3',\n",
       "  'experiment_adj8',\n",
       "  'experiment_adj60',\n",
       "  'experiment_adj6',\n",
       "  'experiment_adj42',\n",
       "  'experiment_adj16',\n",
       "  'experiment_adj28',\n",
       "  'experiment_adj59',\n",
       "  'experiment_adj51',\n",
       "  'experiment_adj2',\n",
       "  'experiment_adj33',\n",
       "  'experiment_adj50',\n",
       "  'experiment_adj22',\n",
       "  'experiment_adj56',\n",
       "  'experiment_adj43',\n",
       "  'experiment_adj19',\n",
       "  'experiment_adj32',\n",
       "  'experiment_adj1',\n",
       "  'experiment_adj40',\n",
       "  'experiment_adj45'],\n",
       " 55)"
      ]
     },
     "execution_count": 15,
     "metadata": {},
     "output_type": "execute_result"
    }
   ],
   "source": [
    "experiment_folders, len(experiment_folders)"
   ]
  },
  {
   "cell_type": "code",
   "execution_count": 6,
   "id": "fbe36559",
   "metadata": {},
   "outputs": [],
   "source": [
    "data_dict = defaultdict(list)"
   ]
  },
  {
   "cell_type": "code",
   "execution_count": 7,
   "id": "b5606628",
   "metadata": {},
   "outputs": [],
   "source": [
    "for experiment in experiment_folders:\n",
    "    full_dir = os.path.join(MAIN_DIR, experiment)\n",
    "    for severity_dir in [x for x in os.listdir(full_dir) if os.path.isdir(os.path.join(full_dir, x))]:\n",
    "        full_seve_dir = os.path.join(full_dir, severity_dir, f\"AgebetweenNonetNone_{severity_dir}_percentile_minmax\")\n",
    "        for beh_dir in [x for x in os.listdir(full_seve_dir) if os.path.isdir(os.path.join(full_seve_dir, x))]:\n",
    "            full_beh_dir = os.path.join(full_seve_dir, beh_dir)\n",
    "            \n",
    "            df_pseudo = pd.read_csv(os.path.join(full_beh_dir, \"pseudo_metrics.csv\"))\n",
    "            df_pseudo['avg'] = df_pseudo[['acc','f1']].mean(axis=1)\n",
    "            best_rfe, best_clc = df_pseudo[['RFE','Metrics']].iloc[df_pseudo['avg'].argmax()]\n",
    "            \n",
    "            with open(os.path.join(full_beh_dir, \"selected_feats.json\"), 'r') as f:\n",
    "                rfe_dict = json.load(f)\n",
    "            feats = rfe_dict[best_rfe]\n",
    "            \n",
    "            with open(os.path.join(full_beh_dir, \"ML_obj.p\"), 'rb') as f:\n",
    "                ML_obj = dill.load(f)\n",
    "            \n",
    "            clc = ML_obj[best_rfe][best_clc]\n",
    "            data_dict['exp'].append(experiment)\n",
    "            data_dict['sev'].append(severity_dir)\n",
    "            data_dict['beh'].append(beh_dir.split('_')[-1])\n",
    "            data_dict['rfe'].append(best_rfe)\n",
    "            data_dict['clc'].append(best_clc)\n",
    "            data_dict['feats'].append(feats)\n",
    "            data_dict['hyper_params'].append(clc.best_params_)\n",
    "            data_dict['clc_score'].append(clc.best_score_)\n",
    "            data_dict['pseudo_acc'].append(df_pseudo['acc'].iloc[df_pseudo['avg'].argmax()])\n",
    "            data_dict['pseudo_f1'].append(df_pseudo['f1'].iloc[df_pseudo['avg'].argmax()])\n",
    "            \n",
    "\n",
    "            \n",
    "df_results = pd.DataFrame(data_dict)"
   ]
  },
  {
   "cell_type": "code",
   "execution_count": 8,
   "id": "41a16f69",
   "metadata": {},
   "outputs": [
    {
     "data": {
      "text/plain": [
       "(918, 10)"
      ]
     },
     "execution_count": 8,
     "metadata": {},
     "output_type": "execute_result"
    }
   ],
   "source": [
    "df_results.shape"
   ]
  },
  {
   "cell_type": "code",
   "execution_count": 9,
   "id": "41144f80",
   "metadata": {},
   "outputs": [
    {
     "data": {
      "text/html": [
       "<div>\n",
       "<style scoped>\n",
       "    .dataframe tbody tr th:only-of-type {\n",
       "        vertical-align: middle;\n",
       "    }\n",
       "\n",
       "    .dataframe tbody tr th {\n",
       "        vertical-align: top;\n",
       "    }\n",
       "\n",
       "    .dataframe thead th {\n",
       "        text-align: right;\n",
       "    }\n",
       "</style>\n",
       "<table border=\"1\" class=\"dataframe\">\n",
       "  <thead>\n",
       "    <tr style=\"text-align: right;\">\n",
       "      <th></th>\n",
       "      <th>exp</th>\n",
       "      <th>sev</th>\n",
       "      <th>beh</th>\n",
       "      <th>rfe</th>\n",
       "      <th>clc</th>\n",
       "      <th>feats</th>\n",
       "      <th>hyper_params</th>\n",
       "      <th>clc_score</th>\n",
       "      <th>pseudo_acc</th>\n",
       "      <th>pseudo_f1</th>\n",
       "    </tr>\n",
       "  </thead>\n",
       "  <tbody>\n",
       "    <tr>\n",
       "      <th>0</th>\n",
       "      <td>experiment_adj23</td>\n",
       "      <td>mild_TD</td>\n",
       "      <td>mot</td>\n",
       "      <td>lgbm</td>\n",
       "      <td>svm</td>\n",
       "      <td>[area_lcaudalanteriorcingulate_PERC20, area_rp...</td>\n",
       "      <td>{'kernel': 'poly', 'gamma': 'scale', 'degree':...</td>\n",
       "      <td>0.655584</td>\n",
       "      <td>0.872549</td>\n",
       "      <td>0.480000</td>\n",
       "    </tr>\n",
       "    <tr>\n",
       "      <th>1</th>\n",
       "      <td>experiment_adj23</td>\n",
       "      <td>mild_TD</td>\n",
       "      <td>tot</td>\n",
       "      <td>lsvm</td>\n",
       "      <td>lsvm</td>\n",
       "      <td>[area_lbankssts_PERC60, area_lcaudalmiddlefron...</td>\n",
       "      <td>{'penalty': 'l2', 'loss': 'hinge', 'C': 5}</td>\n",
       "      <td>0.916071</td>\n",
       "      <td>0.989247</td>\n",
       "      <td>0.933333</td>\n",
       "    </tr>\n",
       "    <tr>\n",
       "      <th>2</th>\n",
       "      <td>experiment_adj23</td>\n",
       "      <td>mild_TD</td>\n",
       "      <td>awa</td>\n",
       "      <td>lsvm</td>\n",
       "      <td>lr</td>\n",
       "      <td>[area_lbankssts_PERC20, area_lcuneus_PERC60, a...</td>\n",
       "      <td>{'solver': 'newton-cg', 'penalty': 'none', 'C'...</td>\n",
       "      <td>0.853747</td>\n",
       "      <td>0.971154</td>\n",
       "      <td>0.888889</td>\n",
       "    </tr>\n",
       "    <tr>\n",
       "      <th>3</th>\n",
       "      <td>experiment_adj23</td>\n",
       "      <td>mild_TD</td>\n",
       "      <td>cog</td>\n",
       "      <td>lr</td>\n",
       "      <td>lr</td>\n",
       "      <td>[area_lcaudalanteriorcingulate_PERC20, area_lc...</td>\n",
       "      <td>{'solver': 'newton-cg', 'penalty': 'none', 'C'...</td>\n",
       "      <td>0.759470</td>\n",
       "      <td>0.910000</td>\n",
       "      <td>0.571429</td>\n",
       "    </tr>\n",
       "    <tr>\n",
       "      <th>4</th>\n",
       "      <td>experiment_adj23</td>\n",
       "      <td>mild_TD</td>\n",
       "      <td>man</td>\n",
       "      <td>lsvm</td>\n",
       "      <td>lsvm</td>\n",
       "      <td>[area_lbankssts_PERC20, area_lcaudalmiddlefron...</td>\n",
       "      <td>{'penalty': 'l2', 'loss': 'hinge', 'C': 5}</td>\n",
       "      <td>0.928889</td>\n",
       "      <td>0.989247</td>\n",
       "      <td>0.941176</td>\n",
       "    </tr>\n",
       "    <tr>\n",
       "      <th>...</th>\n",
       "      <td>...</td>\n",
       "      <td>...</td>\n",
       "      <td>...</td>\n",
       "      <td>...</td>\n",
       "      <td>...</td>\n",
       "      <td>...</td>\n",
       "      <td>...</td>\n",
       "      <td>...</td>\n",
       "      <td>...</td>\n",
       "      <td>...</td>\n",
       "    </tr>\n",
       "    <tr>\n",
       "      <th>913</th>\n",
       "      <td>experiment_adj45</td>\n",
       "      <td>moderate_TD</td>\n",
       "      <td>cog</td>\n",
       "      <td>lsvm</td>\n",
       "      <td>lsvm</td>\n",
       "      <td>[area_lbankssts_PERC60, area_lcaudalanteriorci...</td>\n",
       "      <td>{'penalty': 'l2', 'loss': 'hinge', 'C': 5}</td>\n",
       "      <td>0.766818</td>\n",
       "      <td>0.888889</td>\n",
       "      <td>0.600000</td>\n",
       "    </tr>\n",
       "    <tr>\n",
       "      <th>914</th>\n",
       "      <td>experiment_adj45</td>\n",
       "      <td>moderate_TD</td>\n",
       "      <td>man</td>\n",
       "      <td>lsvm</td>\n",
       "      <td>lsvm</td>\n",
       "      <td>[area_lentorhinal_PERC20, area_lfusiform_PERC2...</td>\n",
       "      <td>{'penalty': 'l2', 'loss': 'squared_hinge', 'C'...</td>\n",
       "      <td>0.762736</td>\n",
       "      <td>0.893204</td>\n",
       "      <td>0.685714</td>\n",
       "    </tr>\n",
       "    <tr>\n",
       "      <th>915</th>\n",
       "      <td>experiment_adj45</td>\n",
       "      <td>moderate_TD</td>\n",
       "      <td>mot</td>\n",
       "      <td>lsvm</td>\n",
       "      <td>svm</td>\n",
       "      <td>[area_lbankssts_PERC20, area_lbankssts_PERC40,...</td>\n",
       "      <td>{'kernel': 'poly', 'gamma': 'auto', 'degree': ...</td>\n",
       "      <td>0.870847</td>\n",
       "      <td>0.947826</td>\n",
       "      <td>0.863636</td>\n",
       "    </tr>\n",
       "    <tr>\n",
       "      <th>916</th>\n",
       "      <td>experiment_adj45</td>\n",
       "      <td>moderate_TD</td>\n",
       "      <td>comm</td>\n",
       "      <td>lr</td>\n",
       "      <td>lsvm</td>\n",
       "      <td>[area_lbankssts_PERC60, area_lfusiform_PERC60,...</td>\n",
       "      <td>{'penalty': 'l2', 'loss': 'hinge', 'C': 10}</td>\n",
       "      <td>0.796479</td>\n",
       "      <td>0.896226</td>\n",
       "      <td>0.702703</td>\n",
       "    </tr>\n",
       "    <tr>\n",
       "      <th>917</th>\n",
       "      <td>experiment_adj45</td>\n",
       "      <td>moderate_TD</td>\n",
       "      <td>tot</td>\n",
       "      <td>lsvm</td>\n",
       "      <td>ridge</td>\n",
       "      <td>[area_lbankssts_PERC60, area_lcaudalanteriorci...</td>\n",
       "      <td>{'normalize': False, 'alpha': 0.1}</td>\n",
       "      <td>0.819958</td>\n",
       "      <td>0.971698</td>\n",
       "      <td>0.923077</td>\n",
       "    </tr>\n",
       "  </tbody>\n",
       "</table>\n",
       "<p>918 rows × 10 columns</p>\n",
       "</div>"
      ],
      "text/plain": [
       "                  exp          sev   beh   rfe    clc  \\\n",
       "0    experiment_adj23      mild_TD   mot  lgbm    svm   \n",
       "1    experiment_adj23      mild_TD   tot  lsvm   lsvm   \n",
       "2    experiment_adj23      mild_TD   awa  lsvm     lr   \n",
       "3    experiment_adj23      mild_TD   cog    lr     lr   \n",
       "4    experiment_adj23      mild_TD   man  lsvm   lsvm   \n",
       "..                ...          ...   ...   ...    ...   \n",
       "913  experiment_adj45  moderate_TD   cog  lsvm   lsvm   \n",
       "914  experiment_adj45  moderate_TD   man  lsvm   lsvm   \n",
       "915  experiment_adj45  moderate_TD   mot  lsvm    svm   \n",
       "916  experiment_adj45  moderate_TD  comm    lr   lsvm   \n",
       "917  experiment_adj45  moderate_TD   tot  lsvm  ridge   \n",
       "\n",
       "                                                 feats  \\\n",
       "0    [area_lcaudalanteriorcingulate_PERC20, area_rp...   \n",
       "1    [area_lbankssts_PERC60, area_lcaudalmiddlefron...   \n",
       "2    [area_lbankssts_PERC20, area_lcuneus_PERC60, a...   \n",
       "3    [area_lcaudalanteriorcingulate_PERC20, area_lc...   \n",
       "4    [area_lbankssts_PERC20, area_lcaudalmiddlefron...   \n",
       "..                                                 ...   \n",
       "913  [area_lbankssts_PERC60, area_lcaudalanteriorci...   \n",
       "914  [area_lentorhinal_PERC20, area_lfusiform_PERC2...   \n",
       "915  [area_lbankssts_PERC20, area_lbankssts_PERC40,...   \n",
       "916  [area_lbankssts_PERC60, area_lfusiform_PERC60,...   \n",
       "917  [area_lbankssts_PERC60, area_lcaudalanteriorci...   \n",
       "\n",
       "                                          hyper_params  clc_score  pseudo_acc  \\\n",
       "0    {'kernel': 'poly', 'gamma': 'scale', 'degree':...   0.655584    0.872549   \n",
       "1           {'penalty': 'l2', 'loss': 'hinge', 'C': 5}   0.916071    0.989247   \n",
       "2    {'solver': 'newton-cg', 'penalty': 'none', 'C'...   0.853747    0.971154   \n",
       "3    {'solver': 'newton-cg', 'penalty': 'none', 'C'...   0.759470    0.910000   \n",
       "4           {'penalty': 'l2', 'loss': 'hinge', 'C': 5}   0.928889    0.989247   \n",
       "..                                                 ...        ...         ...   \n",
       "913         {'penalty': 'l2', 'loss': 'hinge', 'C': 5}   0.766818    0.888889   \n",
       "914  {'penalty': 'l2', 'loss': 'squared_hinge', 'C'...   0.762736    0.893204   \n",
       "915  {'kernel': 'poly', 'gamma': 'auto', 'degree': ...   0.870847    0.947826   \n",
       "916        {'penalty': 'l2', 'loss': 'hinge', 'C': 10}   0.796479    0.896226   \n",
       "917                 {'normalize': False, 'alpha': 0.1}   0.819958    0.971698   \n",
       "\n",
       "     pseudo_f1  \n",
       "0     0.480000  \n",
       "1     0.933333  \n",
       "2     0.888889  \n",
       "3     0.571429  \n",
       "4     0.941176  \n",
       "..         ...  \n",
       "913   0.600000  \n",
       "914   0.685714  \n",
       "915   0.863636  \n",
       "916   0.702703  \n",
       "917   0.923077  \n",
       "\n",
       "[918 rows x 10 columns]"
      ]
     },
     "execution_count": 9,
     "metadata": {},
     "output_type": "execute_result"
    }
   ],
   "source": [
    "df_results"
   ]
  },
  {
   "cell_type": "markdown",
   "id": "156d440b",
   "metadata": {},
   "source": [
    "# Pick the best trial for severity and behavioral models to be used for production (Phase II)"
   ]
  },
  {
   "cell_type": "code",
   "execution_count": 10,
   "id": "41ba0387",
   "metadata": {},
   "outputs": [],
   "source": [
    "def get_best_severity_behavioral(df, sev, beh):\n",
    "    sub_df = df[(df['sev']==sev)&(df['beh']==beh)]\n",
    "    sub_df['tot'] =  sub_df['clc_score']+ sub_df['pseudo_acc'] \n",
    "    return sub_df.iloc[sub_df['tot'].argmax()]\n",
    "        "
   ]
  },
  {
   "cell_type": "code",
   "execution_count": 11,
   "id": "92ec3452",
   "metadata": {},
   "outputs": [],
   "source": [
    "# Optimize wrt to the number of features\n",
    "def get_best_severity_behavioral(df, sev, beh):\n",
    "    sub_df = df[(df['sev']==sev)&(df['beh']==beh)]\n",
    "    sub_df['tot'] =  (sub_df['clc_score']+ sub_df['pseudo_acc'] + sub_df['pseudo_f1'])/3 - len(sub_df['feats'])/1088\n",
    "    return sub_df.iloc[sub_df['tot'].argmax()]\n",
    "        "
   ]
  },
  {
   "cell_type": "code",
   "execution_count": 12,
   "id": "0f4ac806",
   "metadata": {},
   "outputs": [],
   "source": [
    "best_data_dict = defaultdict(dict)\n",
    "for sev in ['mild_TD', 'moderate_TD', 'sever_TD']:\n",
    "    for beh in ['awa','comm','man','cog','mot', 'tot']:\n",
    "        best_data_dict[sev][beh] = get_best_severity_behavioral(df_results, sev, beh).to_dict()"
   ]
  },
  {
   "cell_type": "code",
   "execution_count": 13,
   "id": "7ba86e3b",
   "metadata": {},
   "outputs": [],
   "source": [
    "with open('best_results_dict.json', 'w') as f:\n",
    "    json.dump(best_data_dict, f)"
   ]
  },
  {
   "cell_type": "code",
   "execution_count": 14,
   "id": "fc65d43a",
   "metadata": {},
   "outputs": [
    {
     "data": {
      "text/plain": [
       "(96, 0.9397727272727273, 0.9565217391304348)"
      ]
     },
     "execution_count": 14,
     "metadata": {},
     "output_type": "execute_result"
    }
   ],
   "source": [
    "len(best_data_dict['mild_TD']['cog']['feats']),best_data_dict['mild_TD']['cog']['clc_score'], best_data_dict['mild_TD']['cog']['pseudo_f1']"
   ]
  },
  {
   "cell_type": "markdown",
   "id": "9c70d523",
   "metadata": {},
   "source": [
    "# `severity_dict` is the base of the analysis "
   ]
  },
  {
   "cell_type": "markdown",
   "id": "9bbb1a14",
   "metadata": {},
   "source": [
    "# Question #1  "
   ]
  },
  {
   "cell_type": "code",
   "execution_count": 15,
   "id": "66f25e8f",
   "metadata": {},
   "outputs": [
    {
     "data": {
      "text/html": [
       "<div>\n",
       "<style scoped>\n",
       "    .dataframe tbody tr th:only-of-type {\n",
       "        vertical-align: middle;\n",
       "    }\n",
       "\n",
       "    .dataframe tbody tr th {\n",
       "        vertical-align: top;\n",
       "    }\n",
       "\n",
       "    .dataframe thead th {\n",
       "        text-align: right;\n",
       "    }\n",
       "</style>\n",
       "<table border=\"1\" class=\"dataframe\">\n",
       "  <thead>\n",
       "    <tr style=\"text-align: right;\">\n",
       "      <th></th>\n",
       "      <th>clc_score</th>\n",
       "      <th>pseudo_acc</th>\n",
       "      <th>pseudo_f1</th>\n",
       "    </tr>\n",
       "    <tr>\n",
       "      <th>sev</th>\n",
       "      <th></th>\n",
       "      <th></th>\n",
       "      <th></th>\n",
       "    </tr>\n",
       "  </thead>\n",
       "  <tbody>\n",
       "    <tr>\n",
       "      <th>mild_TD</th>\n",
       "      <td>0.809762</td>\n",
       "      <td>0.949962</td>\n",
       "      <td>0.741832</td>\n",
       "    </tr>\n",
       "    <tr>\n",
       "      <th>moderate_TD</th>\n",
       "      <td>0.784512</td>\n",
       "      <td>0.898685</td>\n",
       "      <td>0.708267</td>\n",
       "    </tr>\n",
       "    <tr>\n",
       "      <th>sever_TD</th>\n",
       "      <td>0.811907</td>\n",
       "      <td>0.884919</td>\n",
       "      <td>0.756750</td>\n",
       "    </tr>\n",
       "  </tbody>\n",
       "</table>\n",
       "</div>"
      ],
      "text/plain": [
       "             clc_score  pseudo_acc  pseudo_f1\n",
       "sev                                          \n",
       "mild_TD       0.809762    0.949962   0.741832\n",
       "moderate_TD   0.784512    0.898685   0.708267\n",
       "sever_TD      0.811907    0.884919   0.756750"
      ]
     },
     "execution_count": 15,
     "metadata": {},
     "output_type": "execute_result"
    }
   ],
   "source": [
    "df_results.groupby('sev')[['clc_score','pseudo_acc', 'pseudo_f1']].mean()"
   ]
  },
  {
   "cell_type": "code",
   "execution_count": 16,
   "id": "e095be27",
   "metadata": {},
   "outputs": [
    {
     "data": {
      "text/html": [
       "<div>\n",
       "<style scoped>\n",
       "    .dataframe tbody tr th:only-of-type {\n",
       "        vertical-align: middle;\n",
       "    }\n",
       "\n",
       "    .dataframe tbody tr th {\n",
       "        vertical-align: top;\n",
       "    }\n",
       "\n",
       "    .dataframe thead th {\n",
       "        text-align: right;\n",
       "    }\n",
       "</style>\n",
       "<table border=\"1\" class=\"dataframe\">\n",
       "  <thead>\n",
       "    <tr style=\"text-align: right;\">\n",
       "      <th></th>\n",
       "      <th>clc_score</th>\n",
       "      <th>pseudo_acc</th>\n",
       "      <th>pseudo_f1</th>\n",
       "    </tr>\n",
       "    <tr>\n",
       "      <th>sev</th>\n",
       "      <th></th>\n",
       "      <th></th>\n",
       "      <th></th>\n",
       "    </tr>\n",
       "  </thead>\n",
       "  <tbody>\n",
       "    <tr>\n",
       "      <th>mild_TD</th>\n",
       "      <td>0.976573</td>\n",
       "      <td>1.000000</td>\n",
       "      <td>1.000000</td>\n",
       "    </tr>\n",
       "    <tr>\n",
       "      <th>moderate_TD</th>\n",
       "      <td>0.928182</td>\n",
       "      <td>0.981481</td>\n",
       "      <td>0.950000</td>\n",
       "    </tr>\n",
       "    <tr>\n",
       "      <th>sever_TD</th>\n",
       "      <td>0.921406</td>\n",
       "      <td>0.965217</td>\n",
       "      <td>0.914286</td>\n",
       "    </tr>\n",
       "  </tbody>\n",
       "</table>\n",
       "</div>"
      ],
      "text/plain": [
       "             clc_score  pseudo_acc  pseudo_f1\n",
       "sev                                          \n",
       "mild_TD       0.976573    1.000000   1.000000\n",
       "moderate_TD   0.928182    0.981481   0.950000\n",
       "sever_TD      0.921406    0.965217   0.914286"
      ]
     },
     "execution_count": 16,
     "metadata": {},
     "output_type": "execute_result"
    }
   ],
   "source": [
    "df_results.groupby('sev')[['clc_score','pseudo_acc', 'pseudo_f1']].max()"
   ]
  },
  {
   "cell_type": "code",
   "execution_count": null,
   "id": "78e7477c",
   "metadata": {},
   "outputs": [],
   "source": []
  },
  {
   "cell_type": "code",
   "execution_count": 17,
   "id": "cc9b4631",
   "metadata": {},
   "outputs": [
    {
     "data": {
      "text/plain": [
       "(      clc_score  pseudo_acc  pseudo_f1\n",
       " beh                                   \n",
       " mot    0.750604    0.921953   0.580943\n",
       " comm   0.775008    0.938113   0.692704\n",
       " cog    0.824324    0.943529   0.709760\n",
       " awa    0.828893    0.945513   0.775171\n",
       " man    0.832211    0.966266   0.805268\n",
       " tot    0.847535    0.984398   0.887143,\n",
       "       clc_score  pseudo_acc  pseudo_f1\n",
       " beh                                   \n",
       " tot    0.074592    0.014153   0.101419\n",
       " awa    0.074454    0.024070   0.113311\n",
       " man    0.097422    0.019476   0.113463\n",
       " mot    0.123316    0.028815   0.162780\n",
       " comm   0.119917    0.034699   0.170160\n",
       " cog    0.090609    0.037354   0.209597)"
      ]
     },
     "execution_count": 17,
     "metadata": {},
     "output_type": "execute_result"
    }
   ],
   "source": [
    "df_results[df_results['sev']=='mild_TD'].groupby('beh')[['clc_score','pseudo_acc', 'pseudo_f1']].mean().sort_values(by=\"pseudo_f1\"), df_results[df_results['sev']=='mild_TD'].groupby('beh')[['clc_score','pseudo_acc', 'pseudo_f1']].std().sort_values(by=\"pseudo_f1\")"
   ]
  },
  {
   "cell_type": "code",
   "execution_count": 70,
   "id": "d2060fac",
   "metadata": {},
   "outputs": [
    {
     "data": {
      "text/html": [
       "<div>\n",
       "<style scoped>\n",
       "    .dataframe tbody tr th:only-of-type {\n",
       "        vertical-align: middle;\n",
       "    }\n",
       "\n",
       "    .dataframe tbody tr th {\n",
       "        vertical-align: top;\n",
       "    }\n",
       "\n",
       "    .dataframe thead th {\n",
       "        text-align: right;\n",
       "    }\n",
       "</style>\n",
       "<table border=\"1\" class=\"dataframe\">\n",
       "  <thead>\n",
       "    <tr style=\"text-align: right;\">\n",
       "      <th></th>\n",
       "      <th>clc_score</th>\n",
       "      <th>pseudo_acc</th>\n",
       "      <th>pseudo_f1</th>\n",
       "    </tr>\n",
       "    <tr>\n",
       "      <th>beh</th>\n",
       "      <th></th>\n",
       "      <th></th>\n",
       "      <th></th>\n",
       "    </tr>\n",
       "  </thead>\n",
       "  <tbody>\n",
       "    <tr>\n",
       "      <th>awa</th>\n",
       "      <td>0.748909</td>\n",
       "      <td>0.863532</td>\n",
       "      <td>0.600882</td>\n",
       "    </tr>\n",
       "    <tr>\n",
       "      <th>mot</th>\n",
       "      <td>0.750832</td>\n",
       "      <td>0.866304</td>\n",
       "      <td>0.644425</td>\n",
       "    </tr>\n",
       "    <tr>\n",
       "      <th>comm</th>\n",
       "      <td>0.808881</td>\n",
       "      <td>0.903302</td>\n",
       "      <td>0.732130</td>\n",
       "    </tr>\n",
       "    <tr>\n",
       "      <th>cog</th>\n",
       "      <td>0.788693</td>\n",
       "      <td>0.924769</td>\n",
       "      <td>0.779233</td>\n",
       "    </tr>\n",
       "    <tr>\n",
       "      <th>tot</th>\n",
       "      <td>0.827745</td>\n",
       "      <td>0.931604</td>\n",
       "      <td>0.804481</td>\n",
       "    </tr>\n",
       "    <tr>\n",
       "      <th>man</th>\n",
       "      <td>0.835560</td>\n",
       "      <td>0.935680</td>\n",
       "      <td>0.819339</td>\n",
       "    </tr>\n",
       "  </tbody>\n",
       "</table>\n",
       "</div>"
      ],
      "text/plain": [
       "      clc_score  pseudo_acc  pseudo_f1\n",
       "beh                                   \n",
       "awa    0.748909    0.863532   0.600882\n",
       "mot    0.750832    0.866304   0.644425\n",
       "comm   0.808881    0.903302   0.732130\n",
       "cog    0.788693    0.924769   0.779233\n",
       "tot    0.827745    0.931604   0.804481\n",
       "man    0.835560    0.935680   0.819339"
      ]
     },
     "execution_count": 70,
     "metadata": {},
     "output_type": "execute_result"
    }
   ],
   "source": [
    "df_results[df_results['sev']=='moderate_TD'].groupby('beh')[['clc_score','pseudo_acc', 'pseudo_f1']].mean().sort_values(by=\"pseudo_f1\")"
   ]
  },
  {
   "cell_type": "code",
   "execution_count": 71,
   "id": "d6ac83a2",
   "metadata": {},
   "outputs": [
    {
     "data": {
      "text/html": [
       "<div>\n",
       "<style scoped>\n",
       "    .dataframe tbody tr th:only-of-type {\n",
       "        vertical-align: middle;\n",
       "    }\n",
       "\n",
       "    .dataframe tbody tr th {\n",
       "        vertical-align: top;\n",
       "    }\n",
       "\n",
       "    .dataframe thead th {\n",
       "        text-align: right;\n",
       "    }\n",
       "</style>\n",
       "<table border=\"1\" class=\"dataframe\">\n",
       "  <thead>\n",
       "    <tr style=\"text-align: right;\">\n",
       "      <th></th>\n",
       "      <th>clc_score</th>\n",
       "      <th>pseudo_acc</th>\n",
       "      <th>pseudo_f1</th>\n",
       "    </tr>\n",
       "    <tr>\n",
       "      <th>beh</th>\n",
       "      <th></th>\n",
       "      <th></th>\n",
       "      <th></th>\n",
       "    </tr>\n",
       "  </thead>\n",
       "  <tbody>\n",
       "    <tr>\n",
       "      <th>awa</th>\n",
       "      <td>0.852750</td>\n",
       "      <td>0.901136</td>\n",
       "      <td>0.717578</td>\n",
       "    </tr>\n",
       "    <tr>\n",
       "      <th>tot</th>\n",
       "      <td>0.796316</td>\n",
       "      <td>0.847561</td>\n",
       "      <td>0.746961</td>\n",
       "    </tr>\n",
       "    <tr>\n",
       "      <th>comm</th>\n",
       "      <td>0.840792</td>\n",
       "      <td>0.870798</td>\n",
       "      <td>0.774083</td>\n",
       "    </tr>\n",
       "    <tr>\n",
       "      <th>cog</th>\n",
       "      <td>0.813304</td>\n",
       "      <td>0.911184</td>\n",
       "      <td>0.792893</td>\n",
       "    </tr>\n",
       "    <tr>\n",
       "      <th>mot</th>\n",
       "      <td>0.827635</td>\n",
       "      <td>0.931522</td>\n",
       "      <td>0.824504</td>\n",
       "    </tr>\n",
       "    <tr>\n",
       "      <th>man</th>\n",
       "      <td>0.838471</td>\n",
       "      <td>0.900826</td>\n",
       "      <td>0.825419</td>\n",
       "    </tr>\n",
       "  </tbody>\n",
       "</table>\n",
       "</div>"
      ],
      "text/plain": [
       "      clc_score  pseudo_acc  pseudo_f1\n",
       "beh                                   \n",
       "awa    0.852750    0.901136   0.717578\n",
       "tot    0.796316    0.847561   0.746961\n",
       "comm   0.840792    0.870798   0.774083\n",
       "cog    0.813304    0.911184   0.792893\n",
       "mot    0.827635    0.931522   0.824504\n",
       "man    0.838471    0.900826   0.825419"
      ]
     },
     "execution_count": 71,
     "metadata": {},
     "output_type": "execute_result"
    }
   ],
   "source": [
    "df_results[df_results['sev']=='sever_TD'].groupby('beh')[['clc_score','pseudo_acc', 'pseudo_f1']].mean().sort_values(by=\"pseudo_f1\")"
   ]
  },
  {
   "cell_type": "code",
   "execution_count": 73,
   "id": "001f8bae",
   "metadata": {},
   "outputs": [
    {
     "data": {
      "text/html": [
       "<div>\n",
       "<style scoped>\n",
       "    .dataframe tbody tr th:only-of-type {\n",
       "        vertical-align: middle;\n",
       "    }\n",
       "\n",
       "    .dataframe tbody tr th {\n",
       "        vertical-align: top;\n",
       "    }\n",
       "\n",
       "    .dataframe thead th {\n",
       "        text-align: right;\n",
       "    }\n",
       "</style>\n",
       "<table border=\"1\" class=\"dataframe\">\n",
       "  <thead>\n",
       "    <tr style=\"text-align: right;\">\n",
       "      <th></th>\n",
       "      <th>exp</th>\n",
       "      <th>sev</th>\n",
       "      <th>beh</th>\n",
       "      <th>rfe</th>\n",
       "      <th>clc</th>\n",
       "      <th>feats</th>\n",
       "      <th>hyper_params</th>\n",
       "      <th>clc_score</th>\n",
       "      <th>pseudo_acc</th>\n",
       "      <th>pseudo_f1</th>\n",
       "    </tr>\n",
       "  </thead>\n",
       "  <tbody>\n",
       "    <tr>\n",
       "      <th>0</th>\n",
       "      <td>experiment_adj24</td>\n",
       "      <td>mild_TD</td>\n",
       "      <td>awa</td>\n",
       "      <td>lsvm</td>\n",
       "      <td>lsvm</td>\n",
       "      <td>[area_lentorhinal_PERC60, area_lfusiform_PERC6...</td>\n",
       "      <td>{'penalty': 'l2', 'loss': 'hinge', 'C': 10}</td>\n",
       "      <td>0.889666</td>\n",
       "      <td>0.942308</td>\n",
       "      <td>0.769231</td>\n",
       "    </tr>\n",
       "    <tr>\n",
       "      <th>1</th>\n",
       "      <td>experiment_adj24</td>\n",
       "      <td>mild_TD</td>\n",
       "      <td>cog</td>\n",
       "      <td>lsvm</td>\n",
       "      <td>lr</td>\n",
       "      <td>[area_lmiddletemporal_PERC60, area_lparsopercu...</td>\n",
       "      <td>{'solver': 'newton-cg', 'penalty': 'none', 'C'...</td>\n",
       "      <td>0.737500</td>\n",
       "      <td>0.940000</td>\n",
       "      <td>0.727273</td>\n",
       "    </tr>\n",
       "    <tr>\n",
       "      <th>2</th>\n",
       "      <td>experiment_adj24</td>\n",
       "      <td>mild_TD</td>\n",
       "      <td>comm</td>\n",
       "      <td>lsvm</td>\n",
       "      <td>svm</td>\n",
       "      <td>[area_lentorhinal_PERC80, area_lfusiform_PERC6...</td>\n",
       "      <td>{'kernel': 'poly', 'gamma': 'scale', 'degree':...</td>\n",
       "      <td>0.720834</td>\n",
       "      <td>0.927083</td>\n",
       "      <td>0.695652</td>\n",
       "    </tr>\n",
       "    <tr>\n",
       "      <th>3</th>\n",
       "      <td>experiment_adj24</td>\n",
       "      <td>mild_TD</td>\n",
       "      <td>man</td>\n",
       "      <td>lr</td>\n",
       "      <td>lr</td>\n",
       "      <td>[area_lbankssts_PERC60, area_lcaudalmiddlefron...</td>\n",
       "      <td>{'solver': 'newton-cg', 'penalty': 'none', 'C'...</td>\n",
       "      <td>0.774798</td>\n",
       "      <td>0.946237</td>\n",
       "      <td>0.705882</td>\n",
       "    </tr>\n",
       "    <tr>\n",
       "      <th>4</th>\n",
       "      <td>experiment_adj24</td>\n",
       "      <td>mild_TD</td>\n",
       "      <td>mot</td>\n",
       "      <td>lsvm</td>\n",
       "      <td>lr</td>\n",
       "      <td>[area_lentorhinal_PERC60, area_linferiorpariet...</td>\n",
       "      <td>{'solver': 'newton-cg', 'penalty': 'none', 'C'...</td>\n",
       "      <td>0.841129</td>\n",
       "      <td>0.970588</td>\n",
       "      <td>0.869565</td>\n",
       "    </tr>\n",
       "    <tr>\n",
       "      <th>...</th>\n",
       "      <td>...</td>\n",
       "      <td>...</td>\n",
       "      <td>...</td>\n",
       "      <td>...</td>\n",
       "      <td>...</td>\n",
       "      <td>...</td>\n",
       "      <td>...</td>\n",
       "      <td>...</td>\n",
       "      <td>...</td>\n",
       "      <td>...</td>\n",
       "    </tr>\n",
       "    <tr>\n",
       "      <th>139</th>\n",
       "      <td>experiment_adj31</td>\n",
       "      <td>sever_TD</td>\n",
       "      <td>cog</td>\n",
       "      <td>lr</td>\n",
       "      <td>svm</td>\n",
       "      <td>[area_lcaudalanteriorcingulate_PERC40, area_le...</td>\n",
       "      <td>{'kernel': 'poly', 'gamma': 'auto', 'degree': ...</td>\n",
       "      <td>0.795850</td>\n",
       "      <td>0.929825</td>\n",
       "      <td>0.840000</td>\n",
       "    </tr>\n",
       "    <tr>\n",
       "      <th>140</th>\n",
       "      <td>experiment_adj31</td>\n",
       "      <td>sever_TD</td>\n",
       "      <td>comm</td>\n",
       "      <td>lsvm</td>\n",
       "      <td>lsvm</td>\n",
       "      <td>[area_lcaudalanteriorcingulate_PERC80, area_lc...</td>\n",
       "      <td>{'penalty': 'l2', 'loss': 'hinge', 'C': 5}</td>\n",
       "      <td>0.903436</td>\n",
       "      <td>0.890756</td>\n",
       "      <td>0.805970</td>\n",
       "    </tr>\n",
       "    <tr>\n",
       "      <th>141</th>\n",
       "      <td>experiment_adj31</td>\n",
       "      <td>sever_TD</td>\n",
       "      <td>man</td>\n",
       "      <td>lr</td>\n",
       "      <td>ridge</td>\n",
       "      <td>[area_lbankssts_PERC60, area_lcaudalanteriorci...</td>\n",
       "      <td>{'normalize': False, 'alpha': 0.2}</td>\n",
       "      <td>0.793503</td>\n",
       "      <td>0.900826</td>\n",
       "      <td>0.812500</td>\n",
       "    </tr>\n",
       "    <tr>\n",
       "      <th>142</th>\n",
       "      <td>experiment_adj31</td>\n",
       "      <td>sever_TD</td>\n",
       "      <td>mot</td>\n",
       "      <td>lsvm</td>\n",
       "      <td>lr</td>\n",
       "      <td>[area_linsula_PERC80, area_listhmuscingulate_P...</td>\n",
       "      <td>{'solver': 'newton-cg', 'penalty': 'none', 'C'...</td>\n",
       "      <td>0.801613</td>\n",
       "      <td>0.930435</td>\n",
       "      <td>0.826087</td>\n",
       "    </tr>\n",
       "    <tr>\n",
       "      <th>143</th>\n",
       "      <td>experiment_adj31</td>\n",
       "      <td>sever_TD</td>\n",
       "      <td>tot</td>\n",
       "      <td>lsvm</td>\n",
       "      <td>lsvm</td>\n",
       "      <td>[area_lcaudalanteriorcingulate_PERC80, area_le...</td>\n",
       "      <td>{'penalty': 'l2', 'loss': 'squared_hinge', 'C'...</td>\n",
       "      <td>0.863514</td>\n",
       "      <td>0.910569</td>\n",
       "      <td>0.857143</td>\n",
       "    </tr>\n",
       "  </tbody>\n",
       "</table>\n",
       "<p>144 rows × 10 columns</p>\n",
       "</div>"
      ],
      "text/plain": [
       "                  exp       sev   beh   rfe    clc  \\\n",
       "0    experiment_adj24   mild_TD   awa  lsvm   lsvm   \n",
       "1    experiment_adj24   mild_TD   cog  lsvm     lr   \n",
       "2    experiment_adj24   mild_TD  comm  lsvm    svm   \n",
       "3    experiment_adj24   mild_TD   man    lr     lr   \n",
       "4    experiment_adj24   mild_TD   mot  lsvm     lr   \n",
       "..                ...       ...   ...   ...    ...   \n",
       "139  experiment_adj31  sever_TD   cog    lr    svm   \n",
       "140  experiment_adj31  sever_TD  comm  lsvm   lsvm   \n",
       "141  experiment_adj31  sever_TD   man    lr  ridge   \n",
       "142  experiment_adj31  sever_TD   mot  lsvm     lr   \n",
       "143  experiment_adj31  sever_TD   tot  lsvm   lsvm   \n",
       "\n",
       "                                                 feats  \\\n",
       "0    [area_lentorhinal_PERC60, area_lfusiform_PERC6...   \n",
       "1    [area_lmiddletemporal_PERC60, area_lparsopercu...   \n",
       "2    [area_lentorhinal_PERC80, area_lfusiform_PERC6...   \n",
       "3    [area_lbankssts_PERC60, area_lcaudalmiddlefron...   \n",
       "4    [area_lentorhinal_PERC60, area_linferiorpariet...   \n",
       "..                                                 ...   \n",
       "139  [area_lcaudalanteriorcingulate_PERC40, area_le...   \n",
       "140  [area_lcaudalanteriorcingulate_PERC80, area_lc...   \n",
       "141  [area_lbankssts_PERC60, area_lcaudalanteriorci...   \n",
       "142  [area_linsula_PERC80, area_listhmuscingulate_P...   \n",
       "143  [area_lcaudalanteriorcingulate_PERC80, area_le...   \n",
       "\n",
       "                                          hyper_params  clc_score  pseudo_acc  \\\n",
       "0          {'penalty': 'l2', 'loss': 'hinge', 'C': 10}   0.889666    0.942308   \n",
       "1    {'solver': 'newton-cg', 'penalty': 'none', 'C'...   0.737500    0.940000   \n",
       "2    {'kernel': 'poly', 'gamma': 'scale', 'degree':...   0.720834    0.927083   \n",
       "3    {'solver': 'newton-cg', 'penalty': 'none', 'C'...   0.774798    0.946237   \n",
       "4    {'solver': 'newton-cg', 'penalty': 'none', 'C'...   0.841129    0.970588   \n",
       "..                                                 ...        ...         ...   \n",
       "139  {'kernel': 'poly', 'gamma': 'auto', 'degree': ...   0.795850    0.929825   \n",
       "140         {'penalty': 'l2', 'loss': 'hinge', 'C': 5}   0.903436    0.890756   \n",
       "141                 {'normalize': False, 'alpha': 0.2}   0.793503    0.900826   \n",
       "142  {'solver': 'newton-cg', 'penalty': 'none', 'C'...   0.801613    0.930435   \n",
       "143  {'penalty': 'l2', 'loss': 'squared_hinge', 'C'...   0.863514    0.910569   \n",
       "\n",
       "     pseudo_f1  \n",
       "0     0.769231  \n",
       "1     0.727273  \n",
       "2     0.695652  \n",
       "3     0.705882  \n",
       "4     0.869565  \n",
       "..         ...  \n",
       "139   0.840000  \n",
       "140   0.805970  \n",
       "141   0.812500  \n",
       "142   0.826087  \n",
       "143   0.857143  \n",
       "\n",
       "[144 rows x 10 columns]"
      ]
     },
     "execution_count": 73,
     "metadata": {},
     "output_type": "execute_result"
    }
   ],
   "source": [
    "df_results"
   ]
  },
  {
   "cell_type": "code",
   "execution_count": 18,
   "id": "527d92a2",
   "metadata": {},
   "outputs": [
    {
     "data": {
      "text/plain": [
       "<AxesSubplot:ylabel='Frequency'>"
      ]
     },
     "execution_count": 18,
     "metadata": {},
     "output_type": "execute_result"
    },
    {
     "data": {
      "image/png": "[encoded data removed]",
      "text/plain": [
       "<Figure size 432x288 with 1 Axes>"
      ]
     },
     "metadata": {},
     "output_type": "display_data"
    }
   ],
   "source": [
    "df_results[df_results['sev']=='sever_TD'][['pseudo_acc', 'pseudo_f1']].plot.hist(bins=16, density=True, alpha=0.4)"
   ]
  },
  {
   "cell_type": "code",
   "execution_count": 19,
   "id": "10b0c26e",
   "metadata": {},
   "outputs": [
    {
     "data": {
      "text/plain": [
       "<AxesSubplot:ylabel='Frequency'>"
      ]
     },
     "execution_count": 19,
     "metadata": {},
     "output_type": "execute_result"
    },
    {
     "data": {
      "image/png": "[encoded data removed]",
      "text/plain": [
       "<Figure size 432x288 with 1 Axes>"
      ]
     },
     "metadata": {},
     "output_type": "display_data"
    }
   ],
   "source": [
    "df_results[(df_results['sev']=='sever_TD')&(df_results['beh']=='awa')][['pseudo_acc', 'pseudo_f1']].plot.hist(bins=16, density=True, alpha=0.4)"
   ]
  },
  {
   "cell_type": "code",
   "execution_count": 20,
   "id": "f51e4338",
   "metadata": {},
   "outputs": [
    {
     "data": {
      "text/plain": [
       "<AxesSubplot:ylabel='Frequency'>"
      ]
     },
     "execution_count": 20,
     "metadata": {},
     "output_type": "execute_result"
    },
    {
     "data": {
      "image/png": "[encoded data removed]",
      "text/plain": [
       "<Figure size 432x288 with 1 Axes>"
      ]
     },
     "metadata": {},
     "output_type": "display_data"
    }
   ],
   "source": [
    "df_results[(df_results['sev']=='sever_TD')&(df_results['beh']=='cog')][['pseudo_acc', 'pseudo_f1']].plot.hist(bins=16, density=True, alpha=0.4)"
   ]
  },
  {
   "cell_type": "code",
   "execution_count": 93,
   "id": "20b35423",
   "metadata": {},
   "outputs": [
    {
     "data": {
      "text/plain": [
       "<AxesSubplot:ylabel='Frequency'>"
      ]
     },
     "execution_count": 93,
     "metadata": {},
     "output_type": "execute_result"
    },
    {
     "data": {
      "image/png": "[encoded data removed]",
      "text/plain": [
       "<Figure size 432x288 with 1 Axes>"
      ]
     },
     "metadata": {},
     "output_type": "display_data"
    }
   ],
   "source": [
    "df_results[(df_results['sev']=='sever_TD')&(df_results['beh']=='comm')][['pseudo_acc', 'pseudo_f1']].plot.hist(bins=16, density=True, alpha=0.4)"
   ]
  },
  {
   "cell_type": "code",
   "execution_count": 94,
   "id": "941ccf2c",
   "metadata": {},
   "outputs": [
    {
     "data": {
      "text/plain": [
       "<AxesSubplot:ylabel='Frequency'>"
      ]
     },
     "execution_count": 94,
     "metadata": {},
     "output_type": "execute_result"
    },
    {
     "data": {
      "image/png": "[encoded data removed]",
      "text/plain": [
       "<Figure size 432x288 with 1 Axes>"
      ]
     },
     "metadata": {},
     "output_type": "display_data"
    }
   ],
   "source": [
    "df_results[(df_results['sev']=='sever_TD')&(df_results['beh']=='man')][['pseudo_acc', 'pseudo_f1']].plot.hist(bins=16, density=True, alpha=0.4)"
   ]
  },
  {
   "cell_type": "code",
   "execution_count": 21,
   "id": "040cbd17",
   "metadata": {},
   "outputs": [
    {
     "data": {
      "text/plain": [
       "<AxesSubplot:ylabel='Frequency'>"
      ]
     },
     "execution_count": 21,
     "metadata": {},
     "output_type": "execute_result"
    },
    {
     "data": {
      "image/png": "[encoded data removed]",
      "text/plain": [
       "<Figure size 432x288 with 1 Axes>"
      ]
     },
     "metadata": {},
     "output_type": "display_data"
    }
   ],
   "source": [
    "df_results[(df_results['sev']=='sever_TD')&(df_results['beh']=='tot')][['pseudo_acc', 'pseudo_f1']].plot.hist(bins=16, density=True, alpha=0.4)"
   ]
  },
  {
   "cell_type": "code",
   "execution_count": 22,
   "id": "43007288",
   "metadata": {},
   "outputs": [
    {
     "data": {
      "text/plain": [
       "<AxesSubplot:ylabel='Frequency'>"
      ]
     },
     "execution_count": 22,
     "metadata": {},
     "output_type": "execute_result"
    },
    {
     "data": {
      "image/png": "[encoded data removed]",
      "text/plain": [
       "<Figure size 432x288 with 1 Axes>"
      ]
     },
     "metadata": {},
     "output_type": "display_data"
    }
   ],
   "source": [
    "df_results[(df_results['sev']=='sever_TD')&(df_results['beh']=='mot')][['pseudo_acc', 'pseudo_f1']].plot.hist(bins=16, density=True, alpha=0.4)"
   ]
  },
  {
   "cell_type": "code",
   "execution_count": 23,
   "id": "7f1c1980",
   "metadata": {},
   "outputs": [
    {
     "data": {
      "text/plain": [
       "<AxesSubplot:ylabel='Frequency'>"
      ]
     },
     "execution_count": 23,
     "metadata": {},
     "output_type": "execute_result"
    },
    {
     "data": {
      "image/png": "[encoded data removed]",
      "text/plain": [
       "<Figure size 432x288 with 1 Axes>"
      ]
     },
     "metadata": {},
     "output_type": "display_data"
    }
   ],
   "source": [
    "df_results[df_results['sev']=='moderate_TD'][['pseudo_acc', 'pseudo_f1']].plot.hist(bins=16, density=True, alpha=0.4)"
   ]
  },
  {
   "cell_type": "code",
   "execution_count": 24,
   "id": "f375e919",
   "metadata": {},
   "outputs": [
    {
     "data": {
      "text/plain": [
       "<AxesSubplot:ylabel='Frequency'>"
      ]
     },
     "execution_count": 24,
     "metadata": {},
     "output_type": "execute_result"
    },
    {
     "data": {
      "image/png": "[encoded data removed]",
      "text/plain": [
       "<Figure size 432x288 with 1 Axes>"
      ]
     },
     "metadata": {},
     "output_type": "display_data"
    }
   ],
   "source": [
    "df_results[df_results['sev']=='mild_TD'][['pseudo_acc', 'pseudo_f1']].plot.hist(bins=16, density=True, alpha=0.4)"
   ]
  },
  {
   "cell_type": "markdown",
   "id": "d8063063-568f-4929-9acb-d620b8f23f09",
   "metadata": {},
   "source": [
    "# Features Analyzer"
   ]
  },
  {
   "cell_type": "markdown",
   "id": "d64d2412-bec3-4997-b325-aee0497e43e1",
   "metadata": {},
   "source": [
    "## Analyze common features among the 50 experiments "
   ]
  },
  {
   "cell_type": "code",
   "execution_count": 47,
   "id": "58b0354d-b27e-4143-a16d-1f457ca7d07e",
   "metadata": {
    "tags": []
   },
   "outputs": [],
   "source": [
    "feats_sev_beh_counter = defaultdict(dict)\n",
    "def _get_best_model(path):\n",
    "    df = pd.read_csv(os.path.join(path, \"group_df_beforeFixation.csv\"), index_col=0)\n",
    "    df = df.iloc[:, :df.columns.get_loc('volume_rtransversetemporal_PERC80')+1]\n",
    "    df_pseudo = pd.read_csv(os.path.join(path, \"pseudo_metrics.csv\"))\n",
    "    df_pseudo['avg'] = df_pseudo[['acc','f1']].mean(axis=1)\n",
    "    best_rfe, best_clc = df_pseudo[['RFE','Metrics']].iloc[df_pseudo['avg'].argmax()]\n",
    "    \n",
    "    with open(os.path.join(path, 'FS_obj.p'), 'rb') as f:\n",
    "        rfe_obj = dill.load(f)\n",
    "    \n",
    "    return df.columns[rfe_obj[best_rfe].support_]\n",
    "    \n",
    "for exp in experiment_folders:\n",
    "    expfullpath = os.path.join(MAIN_DIR, exp)\n",
    "    sever_fldrs = [x for x in os.listdir(expfullpath) if os.path.isdir(os.path.join(expfullpath, x))]\n",
    "    for sev in sever_fldrs:\n",
    "        sevfullpath = os.path.join(expfullpath, sev, f\"AgebetweenNonetNone_{sev}_percentile_minmax\")\n",
    "        beh_fldr = [x for x in os.listdir(sevfullpath) if os.path.isdir(os.path.join(sevfullpath, x))]\n",
    "        for beh in beh_fldr:\n",
    "            behfullpath = os.path.join(sevfullpath, beh)\n",
    "            feats = _get_best_model(behfullpath)\n",
    "            if beh.split('_')[-1] not in feats_sev_beh_counter[sev.split('_')[0]]:\n",
    "                feats_sev_beh_counter[sev.split('_')[0]][beh.split('_')[-1]] = dict()\n",
    "                \n",
    "            for f in feats:\n",
    "                if f in feats_sev_beh_counter[sev.split('_')[0]][beh.split('_')[-1]]:\n",
    "                    feats_sev_beh_counter[sev.split('_')[0]][beh.split('_')[-1]][f] += 1\n",
    "                else:\n",
    "                    feats_sev_beh_counter[sev.split('_')[0]][beh.split('_')[-1]][f] = 1\n",
    "            \n",
    "    "
   ]
  },
  {
   "cell_type": "code",
   "execution_count": 60,
   "id": "4af0e79d-95bf-443f-a9c9-cb105a264282",
   "metadata": {},
   "outputs": [],
   "source": [
    "def feats_2_breg_cntr(feats_cntr_dict):\n",
    "    breg = list(map(lambda kv: kv[0].split('_')[1], feats_cntr_dict.items()))\n",
    "    breg = list(set(breg))\n",
    "    breg_dict = {x: 0 for x in breg}\n",
    "    for f, cnt in feats_cntr_dict.items():\n",
    "        breg_dict[f.split('_')[1]] += cnt\n",
    "    return breg_dict"
   ]
  },
  {
   "cell_type": "code",
   "execution_count": 51,
   "id": "18aa4277-25f1-4671-9f09-282662daf9ad",
   "metadata": {},
   "outputs": [],
   "source": [
    "sorted_feats_mild_mot = sorted(feats_sev_beh_counter['mild']['mot'].items(), key=lambda kv: kv[1], reverse=True)"
   ]
  },
  {
   "cell_type": "code",
   "execution_count": 61,
   "id": "df47e010-b5d4-4f89-b40d-43e842a706a0",
   "metadata": {},
   "outputs": [],
   "source": [
    "breg_dict = feats_2_breg_cntr(feats_sev_beh_counter['mild']['mot'])"
   ]
  },
  {
   "cell_type": "code",
   "execution_count": 64,
   "id": "00a454b3-aa28-4c80-98cb-59a295dd0207",
   "metadata": {},
   "outputs": [],
   "source": [
    "sorted_breg = sorted(breg_dict.items(), key=lambda kv: kv[1],reverse=True)"
   ]
  },
  {
   "cell_type": "code",
   "execution_count": 66,
   "id": "4a0fbc22-1a3f-4495-8d3c-bee831033aff",
   "metadata": {},
   "outputs": [],
   "source": [
    "bname = list(map(lambda x: x[0], sorted_breg))\n",
    "cnt = list(map(lambda x: x[1], sorted_breg))"
   ]
  },
  {
   "cell_type": "code",
   "execution_count": 72,
   "id": "222ca871-6785-4c2a-b77c-ccf652024cc5",
   "metadata": {},
   "outputs": [
    {
     "data": {
      "text/plain": [
       "3.4000000000000004"
      ]
     },
     "execution_count": 72,
     "metadata": {},
     "output_type": "execute_result"
    }
   ],
   "source": [
    "len(bname)*0.05"
   ]
  },
  {
   "cell_type": "code",
   "execution_count": 69,
   "id": "9fd2b17a-0787-45d1-867e-73b237c26be9",
   "metadata": {},
   "outputs": [
    {
     "data": {
      "text/plain": [
       "<AxesSubplot:>"
      ]
     },
     "execution_count": 69,
     "metadata": {},
     "output_type": "execute_result"
    },
    {
     "data": {
      "image/png": "[encoded data removed]",
      "text/plain": [
       "<Figure size 864x1584 with 1 Axes>"
      ]
     },
     "metadata": {},
     "output_type": "display_data"
    }
   ],
   "source": [
    "plt.figure(figsize=(12, 22))\n",
    "sns.barplot(y=bname, x=cnt)"
   ]
  },
  {
   "cell_type": "markdown",
   "id": "587aad4e-0703-4b2c-895d-e4415ccedf3f",
   "metadata": {},
   "source": [
    "# Analyzing features of best_data_dict "
   ]
  },
  {
   "cell_type": "code",
   "execution_count": 35,
   "id": "f5c13901-11d7-45fa-9c54-28ada8eb3759",
   "metadata": {},
   "outputs": [],
   "source": [
    "def feats_analyze(sev_data_dict: dict) -> dict:\n",
    "    # for behavioral\n",
    "    breg_cntr = {beh: defaultdict(int) for beh in sev_data_dict.keys()}\n",
    "    for beh, beh_dict in sev_data_dict.items():\n",
    "        brain_regions = list(map(lambda x: x.split('_')[1], beh_dict['feats']))\n",
    "        for b in brain_regions:\n",
    "            breg_cntr[beh][b] += 1\n",
    "    return breg_cntr"
   ]
  },
  {
   "cell_type": "code",
   "execution_count": 40,
   "id": "03da17be-66b6-4999-a129-ca535d70a876",
   "metadata": {},
   "outputs": [],
   "source": [
    "breg_mild = feats_analyze(best_data_dict['mild_TD'])\n",
    "breg_mod = feats_analyze(best_data_dict['moderate_TD'])\n",
    "breg_sever = feats_analyze(best_data_dict['sever_TD'])"
   ]
  },
  {
   "cell_type": "code",
   "execution_count": 38,
   "id": "7579b1e3-78f4-40cf-9fcf-1f7075068c19",
   "metadata": {},
   "outputs": [
    {
     "data": {
      "text/plain": [
       "(64, 44, 64, 58, 53, 50, 59)"
      ]
     },
     "execution_count": 38,
     "metadata": {},
     "output_type": "execute_result"
    }
   ],
   "source": [
    "len(breg_mild['awa']), len(breg_mild['comm']), len(breg_mild['awa']),len(breg_mild['man']), len(breg_mild['cog']), len(breg_mild['mot']), len(breg_mild['tot'])"
   ]
  },
  {
   "cell_type": "code",
   "execution_count": 41,
   "id": "ac665c1b-f775-4d7a-a773-5fb996aa461a",
   "metadata": {},
   "outputs": [
    {
     "data": {
      "text/plain": [
       "(68, 54, 68, 64, 62, 64, 64)"
      ]
     },
     "execution_count": 41,
     "metadata": {},
     "output_type": "execute_result"
    }
   ],
   "source": [
    "len(breg_mod['awa']), len(breg_mod['comm']), len(breg_mod['awa']),len(breg_mod['man']), len(breg_mod['cog']), len(breg_mod['mot']), len(breg_mod['tot'])"
   ]
  },
  {
   "cell_type": "code",
   "execution_count": 42,
   "id": "29b3a372-9a95-492a-af75-975e96d1dd65",
   "metadata": {},
   "outputs": [
    {
     "data": {
      "text/plain": [
       "(62, 65, 62, 63, 68, 63, 66)"
      ]
     },
     "execution_count": 42,
     "metadata": {},
     "output_type": "execute_result"
    }
   ],
   "source": [
    "len(breg_sever['awa']), len(breg_sever['comm']), len(breg_sever['awa']),len(breg_sever['man']), len(breg_sever['cog']), len(breg_sever['mot']), len(breg_sever['tot'])"
   ]
  },
  {
   "cell_type": "code",
   "execution_count": 48,
   "id": "a7f91b8c-b0e7-4f9e-a8b2-cd7f0b134123",
   "metadata": {},
   "outputs": [
    {
     "data": {
      "text/plain": [
       "{'exp': 'experiment_adj59',\n",
       " 'sev': 'mild_TD',\n",
       " 'beh': 'awa',\n",
       " 'rfe': 'lsvm',\n",
       " 'clc': 'svm',\n",
       " 'feats': ['area_lbankssts_PERC20',\n",
       "  'area_lentorhinal_PERC60',\n",
       "  'area_lentorhinal_PERC80',\n",
       "  'area_lfusiform_PERC60',\n",
       "  'area_lfusiform_PERC80',\n",
       "  'area_linferiortemporal_PERC80',\n",
       "  'area_listhmuscingulate_PERC40',\n",
       "  'area_llateralorbitofrontal_PERC20',\n",
       "  'area_llateralorbitofrontal_PERC60',\n",
       "  'area_llateralorbitofrontal_PERC80',\n",
       "  'area_llingual_PERC60',\n",
       "  'area_llingual_PERC80',\n",
       "  'area_lparsopercularis_PERC20',\n",
       "  'area_lparsopercularis_PERC40',\n",
       "  'area_lparstriangularis_PERC40',\n",
       "  'area_lparstriangularis_PERC60',\n",
       "  'area_lparstriangularis_PERC80',\n",
       "  'area_lpostcentral_PERC40',\n",
       "  'area_lpostcentral_PERC60',\n",
       "  'area_lpostcentral_PERC80',\n",
       "  'area_lprecentral_PERC20',\n",
       "  'area_lprecuneus_PERC20',\n",
       "  'area_lrostralanteriorcingulate_PERC60',\n",
       "  'area_lsupramarginal_PERC60',\n",
       "  'area_ltemporalpole_PERC40',\n",
       "  'area_ltemporalpole_PERC60',\n",
       "  'area_ltransversetemporal_PERC20',\n",
       "  'area_ltransversetemporal_PERC40',\n",
       "  'area_rcaudalanteriorcingulate_PERC80',\n",
       "  'area_rcaudalmiddlefrontal_PERC60',\n",
       "  'area_rfusiform_PERC40',\n",
       "  'area_risthmuscingulate_PERC40',\n",
       "  'area_rlateraloccipital_PERC60',\n",
       "  'area_rlateraloccipital_PERC80',\n",
       "  'area_rlingual_PERC40',\n",
       "  'area_rparacentral_PERC80',\n",
       "  'area_rparahippocampal_PERC40',\n",
       "  'area_rparsorbitalis_PERC20',\n",
       "  'area_rposteriorcingulate_PERC40',\n",
       "  'area_rposteriorcingulate_PERC80',\n",
       "  'area_rprecuneus_PERC20',\n",
       "  'area_rprecuneus_PERC40',\n",
       "  'area_rrostralanteriorcingulate_PERC40',\n",
       "  'area_rrostralanteriorcingulate_PERC60',\n",
       "  'area_rsuperiortemporal_PERC40',\n",
       "  'area_rsuperiortemporal_PERC60',\n",
       "  'area_rsuperiortemporal_PERC80',\n",
       "  'area_rtransversetemporal_PERC40',\n",
       "  'area_rtransversetemporal_PERC80',\n",
       "  'curv_lbankssts_PERC40',\n",
       "  'curv_lbankssts_PERC80',\n",
       "  'curv_lcaudalanteriorcingulate_PERC20',\n",
       "  'curv_lcaudalmiddlefrontal_PERC40',\n",
       "  'curv_lcaudalmiddlefrontal_PERC80',\n",
       "  'curv_lcuneus_PERC40',\n",
       "  'curv_lentorhinal_PERC60',\n",
       "  'curv_lentorhinal_PERC80',\n",
       "  'curv_linferiortemporal_PERC40',\n",
       "  'curv_linferiortemporal_PERC80',\n",
       "  'curv_linsula_PERC80',\n",
       "  'curv_listhmuscingulate_PERC20',\n",
       "  'curv_listhmuscingulate_PERC80',\n",
       "  'curv_llateraloccipital_PERC20',\n",
       "  'curv_llateralorbitofrontal_PERC40',\n",
       "  'curv_llateralorbitofrontal_PERC80',\n",
       "  'curv_llingual_PERC40',\n",
       "  'curv_lmedialorbitofrontal_PERC20',\n",
       "  'curv_lmedialorbitofrontal_PERC80',\n",
       "  'curv_lparahippocampal_PERC60',\n",
       "  'curv_lparstriangularis_PERC20',\n",
       "  'curv_lparstriangularis_PERC60',\n",
       "  'curv_lparstriangularis_PERC80',\n",
       "  'curv_lpostcentral_PERC60',\n",
       "  'curv_lposteriorcingulate_PERC80',\n",
       "  'curv_lsuperiorfrontal_PERC20',\n",
       "  'curv_lsuperiorfrontal_PERC60',\n",
       "  'curv_lsuperiorparietal_PERC60',\n",
       "  'curv_lsuperiortemporal_PERC40',\n",
       "  'curv_lsupramarginal_PERC40',\n",
       "  'curv_ltemporalpole_PERC20',\n",
       "  'curv_ltransversetemporal_PERC20',\n",
       "  'curv_rcaudalanteriorcingulate_PERC40',\n",
       "  'curv_rcaudalanteriorcingulate_PERC80',\n",
       "  'curv_rcuneus_PERC80',\n",
       "  'curv_rfrontalpole_PERC20',\n",
       "  'curv_rfusiform_PERC20',\n",
       "  'curv_rinferiorparietal_PERC60',\n",
       "  'curv_rinferiortemporal_PERC20',\n",
       "  'curv_rinferiortemporal_PERC40',\n",
       "  'curv_rinferiortemporal_PERC60',\n",
       "  'curv_rinferiortemporal_PERC80',\n",
       "  'curv_rinsula_PERC20',\n",
       "  'curv_rinsula_PERC60',\n",
       "  'curv_risthmuscingulate_PERC60',\n",
       "  'curv_rlateraloccipital_PERC60',\n",
       "  'curv_rlateralorbitofrontal_PERC60',\n",
       "  'curv_rlingual_PERC80',\n",
       "  'curv_rmedialorbitofrontal_PERC40',\n",
       "  'curv_rmiddletemporal_PERC60',\n",
       "  'curv_rparacentral_PERC20',\n",
       "  'curv_rparacentral_PERC60',\n",
       "  'curv_rparahippocampal_PERC20',\n",
       "  'curv_rparsorbitalis_PERC20',\n",
       "  'curv_rparsorbitalis_PERC80',\n",
       "  'curv_rparstriangularis_PERC20',\n",
       "  'curv_rpostcentral_PERC20',\n",
       "  'curv_rposteriorcingulate_PERC20',\n",
       "  'curv_rposteriorcingulate_PERC60',\n",
       "  'curv_rprecuneus_PERC20',\n",
       "  'curv_rprecuneus_PERC80',\n",
       "  'curv_rrostralanteriorcingulate_PERC20',\n",
       "  'curv_rrostralanteriorcingulate_PERC60',\n",
       "  'curv_rrostralmiddlefrontal_PERC60',\n",
       "  'curv_rsuperiorfrontal_PERC40',\n",
       "  'curv_rsuperiorparietal_PERC80',\n",
       "  'curv_rsuperiortemporal_PERC60',\n",
       "  'curv_rsuperiortemporal_PERC80',\n",
       "  'curv_rtemporalpole_PERC20',\n",
       "  'curv_rtemporalpole_PERC60',\n",
       "  'curv_rtemporalpole_PERC80',\n",
       "  'curv_rtransversetemporal_PERC20',\n",
       "  'curv_rtransversetemporal_PERC80',\n",
       "  'thickness_lcaudalmiddlefrontal_PERC60',\n",
       "  'thickness_lentorhinal_PERC40',\n",
       "  'thickness_lentorhinal_PERC60',\n",
       "  'thickness_lmiddletemporal_PERC20',\n",
       "  'thickness_lparacentral_PERC20',\n",
       "  'thickness_lparsopercularis_PERC40',\n",
       "  'thickness_lpericalcarine_PERC40',\n",
       "  'thickness_lpericalcarine_PERC60',\n",
       "  'thickness_ltemporalpole_PERC80',\n",
       "  'thickness_rcaudalanteriorcingulate_PERC80',\n",
       "  'thickness_rcuneus_PERC20',\n",
       "  'thickness_rentorhinal_PERC20',\n",
       "  'thickness_rentorhinal_PERC60',\n",
       "  'thickness_risthmuscingulate_PERC20',\n",
       "  'thickness_rlingual_PERC20',\n",
       "  'thickness_rmiddletemporal_PERC80',\n",
       "  'thickness_rparacentral_PERC20',\n",
       "  'thickness_rparsopercularis_PERC60',\n",
       "  'thickness_rparsopercularis_PERC80',\n",
       "  'thickness_rpericalcarine_PERC20',\n",
       "  'thickness_rpericalcarine_PERC80',\n",
       "  'thickness_rposteriorcingulate_PERC20',\n",
       "  'thickness_rrostralanteriorcingulate_PERC40',\n",
       "  'thickness_rsuperiorparietal_PERC20',\n",
       "  'thickness_rsuperiorparietal_PERC40',\n",
       "  'thickness_rsuperiorparietal_PERC60',\n",
       "  'thickness_rsuperiorparietal_PERC80',\n",
       "  'thickness_rsuperiortemporal_PERC60',\n",
       "  'thickness_rsupramarginal_PERC80',\n",
       "  'thickness_rtemporalpole_PERC20',\n",
       "  'thickness_rtemporalpole_PERC40',\n",
       "  'volume_lcaudalanteriorcingulate_PERC60',\n",
       "  'volume_lentorhinal_PERC80',\n",
       "  'volume_lfusiform_PERC80',\n",
       "  'volume_listhmuscingulate_PERC80',\n",
       "  'volume_llateralorbitofrontal_PERC20',\n",
       "  'volume_lmedialorbitofrontal_PERC40',\n",
       "  'volume_lmedialorbitofrontal_PERC80',\n",
       "  'volume_lparsopercularis_PERC80',\n",
       "  'volume_lparsorbitalis_PERC40',\n",
       "  'volume_lrostralmiddlefrontal_PERC40',\n",
       "  'volume_lsuperiortemporal_PERC80',\n",
       "  'volume_ltemporalpole_PERC20',\n",
       "  'volume_ltransversetemporal_PERC80',\n",
       "  'volume_rcaudalmiddlefrontal_PERC80',\n",
       "  'volume_rentorhinal_PERC60',\n",
       "  'volume_rinferiortemporal_PERC20',\n",
       "  'volume_rinferiortemporal_PERC40',\n",
       "  'volume_rlateralorbitofrontal_PERC80',\n",
       "  'volume_rlingual_PERC60',\n",
       "  'volume_rmedialorbitofrontal_PERC40',\n",
       "  'volume_rparsorbitalis_PERC20',\n",
       "  'volume_rparsorbitalis_PERC80',\n",
       "  'volume_rparstriangularis_PERC60',\n",
       "  'volume_rpostcentral_PERC20',\n",
       "  'volume_rpostcentral_PERC60',\n",
       "  'volume_rposteriorcingulate_PERC40',\n",
       "  'volume_rrostralanteriorcingulate_PERC20',\n",
       "  'volume_rrostralanteriorcingulate_PERC80',\n",
       "  'volume_rsuperiorparietal_PERC20',\n",
       "  'volume_rsupramarginal_PERC80'],\n",
       " 'hyper_params': {'kernel': 'poly',\n",
       "  'gamma': 'auto',\n",
       "  'degree': 3,\n",
       "  'coef0': 50,\n",
       "  'C': 0.1},\n",
       " 'clc_score': 0.9574350649350649,\n",
       " 'pseudo_acc': 0.9807692307692308,\n",
       " 'pseudo_f1': 0.9285714285714286,\n",
       " 'tot': 0.9087169080919081}"
      ]
     },
     "execution_count": 48,
     "metadata": {},
     "output_type": "execute_result"
    }
   ],
   "source": [
    "best_data_dict['mild_TD']['awa']"
   ]
  },
  {
   "cell_type": "code",
   "execution_count": null,
   "id": "9142f951-13bc-4171-a87b-5c807db4d625",
   "metadata": {},
   "outputs": [],
   "source": []
  },
  {
   "cell_type": "code",
   "execution_count": null,
   "id": "2eda222c-a1aa-4e6c-89cb-d8f55ae6b9b7",
   "metadata": {},
   "outputs": [],
   "source": []
  },
  {
   "cell_type": "code",
   "execution_count": 26,
   "id": "b5d2e066",
   "metadata": {},
   "outputs": [
    {
     "data": {
      "text/plain": [
       "{'exp': 'experiment_adj59',\n",
       " 'sev': 'mild_TD',\n",
       " 'beh': 'awa',\n",
       " 'rfe': 'lsvm',\n",
       " 'clc': 'svm',\n",
       " 'feats': ['area_lbankssts_PERC20',\n",
       "  'area_lentorhinal_PERC60',\n",
       "  'area_lentorhinal_PERC80',\n",
       "  'area_lfusiform_PERC60',\n",
       "  'area_lfusiform_PERC80',\n",
       "  'area_linferiortemporal_PERC80',\n",
       "  'area_listhmuscingulate_PERC40',\n",
       "  'area_llateralorbitofrontal_PERC20',\n",
       "  'area_llateralorbitofrontal_PERC60',\n",
       "  'area_llateralorbitofrontal_PERC80',\n",
       "  'area_llingual_PERC60',\n",
       "  'area_llingual_PERC80',\n",
       "  'area_lparsopercularis_PERC20',\n",
       "  'area_lparsopercularis_PERC40',\n",
       "  'area_lparstriangularis_PERC40',\n",
       "  'area_lparstriangularis_PERC60',\n",
       "  'area_lparstriangularis_PERC80',\n",
       "  'area_lpostcentral_PERC40',\n",
       "  'area_lpostcentral_PERC60',\n",
       "  'area_lpostcentral_PERC80',\n",
       "  'area_lprecentral_PERC20',\n",
       "  'area_lprecuneus_PERC20',\n",
       "  'area_lrostralanteriorcingulate_PERC60',\n",
       "  'area_lsupramarginal_PERC60',\n",
       "  'area_ltemporalpole_PERC40',\n",
       "  'area_ltemporalpole_PERC60',\n",
       "  'area_ltransversetemporal_PERC20',\n",
       "  'area_ltransversetemporal_PERC40',\n",
       "  'area_rcaudalanteriorcingulate_PERC80',\n",
       "  'area_rcaudalmiddlefrontal_PERC60',\n",
       "  'area_rfusiform_PERC40',\n",
       "  'area_risthmuscingulate_PERC40',\n",
       "  'area_rlateraloccipital_PERC60',\n",
       "  'area_rlateraloccipital_PERC80',\n",
       "  'area_rlingual_PERC40',\n",
       "  'area_rparacentral_PERC80',\n",
       "  'area_rparahippocampal_PERC40',\n",
       "  'area_rparsorbitalis_PERC20',\n",
       "  'area_rposteriorcingulate_PERC40',\n",
       "  'area_rposteriorcingulate_PERC80',\n",
       "  'area_rprecuneus_PERC20',\n",
       "  'area_rprecuneus_PERC40',\n",
       "  'area_rrostralanteriorcingulate_PERC40',\n",
       "  'area_rrostralanteriorcingulate_PERC60',\n",
       "  'area_rsuperiortemporal_PERC40',\n",
       "  'area_rsuperiortemporal_PERC60',\n",
       "  'area_rsuperiortemporal_PERC80',\n",
       "  'area_rtransversetemporal_PERC40',\n",
       "  'area_rtransversetemporal_PERC80',\n",
       "  'curv_lbankssts_PERC40',\n",
       "  'curv_lbankssts_PERC80',\n",
       "  'curv_lcaudalanteriorcingulate_PERC20',\n",
       "  'curv_lcaudalmiddlefrontal_PERC40',\n",
       "  'curv_lcaudalmiddlefrontal_PERC80',\n",
       "  'curv_lcuneus_PERC40',\n",
       "  'curv_lentorhinal_PERC60',\n",
       "  'curv_lentorhinal_PERC80',\n",
       "  'curv_linferiortemporal_PERC40',\n",
       "  'curv_linferiortemporal_PERC80',\n",
       "  'curv_linsula_PERC80',\n",
       "  'curv_listhmuscingulate_PERC20',\n",
       "  'curv_listhmuscingulate_PERC80',\n",
       "  'curv_llateraloccipital_PERC20',\n",
       "  'curv_llateralorbitofrontal_PERC40',\n",
       "  'curv_llateralorbitofrontal_PERC80',\n",
       "  'curv_llingual_PERC40',\n",
       "  'curv_lmedialorbitofrontal_PERC20',\n",
       "  'curv_lmedialorbitofrontal_PERC80',\n",
       "  'curv_lparahippocampal_PERC60',\n",
       "  'curv_lparstriangularis_PERC20',\n",
       "  'curv_lparstriangularis_PERC60',\n",
       "  'curv_lparstriangularis_PERC80',\n",
       "  'curv_lpostcentral_PERC60',\n",
       "  'curv_lposteriorcingulate_PERC80',\n",
       "  'curv_lsuperiorfrontal_PERC20',\n",
       "  'curv_lsuperiorfrontal_PERC60',\n",
       "  'curv_lsuperiorparietal_PERC60',\n",
       "  'curv_lsuperiortemporal_PERC40',\n",
       "  'curv_lsupramarginal_PERC40',\n",
       "  'curv_ltemporalpole_PERC20',\n",
       "  'curv_ltransversetemporal_PERC20',\n",
       "  'curv_rcaudalanteriorcingulate_PERC40',\n",
       "  'curv_rcaudalanteriorcingulate_PERC80',\n",
       "  'curv_rcuneus_PERC80',\n",
       "  'curv_rfrontalpole_PERC20',\n",
       "  'curv_rfusiform_PERC20',\n",
       "  'curv_rinferiorparietal_PERC60',\n",
       "  'curv_rinferiortemporal_PERC20',\n",
       "  'curv_rinferiortemporal_PERC40',\n",
       "  'curv_rinferiortemporal_PERC60',\n",
       "  'curv_rinferiortemporal_PERC80',\n",
       "  'curv_rinsula_PERC20',\n",
       "  'curv_rinsula_PERC60',\n",
       "  'curv_risthmuscingulate_PERC60',\n",
       "  'curv_rlateraloccipital_PERC60',\n",
       "  'curv_rlateralorbitofrontal_PERC60',\n",
       "  'curv_rlingual_PERC80',\n",
       "  'curv_rmedialorbitofrontal_PERC40',\n",
       "  'curv_rmiddletemporal_PERC60',\n",
       "  'curv_rparacentral_PERC20',\n",
       "  'curv_rparacentral_PERC60',\n",
       "  'curv_rparahippocampal_PERC20',\n",
       "  'curv_rparsorbitalis_PERC20',\n",
       "  'curv_rparsorbitalis_PERC80',\n",
       "  'curv_rparstriangularis_PERC20',\n",
       "  'curv_rpostcentral_PERC20',\n",
       "  'curv_rposteriorcingulate_PERC20',\n",
       "  'curv_rposteriorcingulate_PERC60',\n",
       "  'curv_rprecuneus_PERC20',\n",
       "  'curv_rprecuneus_PERC80',\n",
       "  'curv_rrostralanteriorcingulate_PERC20',\n",
       "  'curv_rrostralanteriorcingulate_PERC60',\n",
       "  'curv_rrostralmiddlefrontal_PERC60',\n",
       "  'curv_rsuperiorfrontal_PERC40',\n",
       "  'curv_rsuperiorparietal_PERC80',\n",
       "  'curv_rsuperiortemporal_PERC60',\n",
       "  'curv_rsuperiortemporal_PERC80',\n",
       "  'curv_rtemporalpole_PERC20',\n",
       "  'curv_rtemporalpole_PERC60',\n",
       "  'curv_rtemporalpole_PERC80',\n",
       "  'curv_rtransversetemporal_PERC20',\n",
       "  'curv_rtransversetemporal_PERC80',\n",
       "  'thickness_lcaudalmiddlefrontal_PERC60',\n",
       "  'thickness_lentorhinal_PERC40',\n",
       "  'thickness_lentorhinal_PERC60',\n",
       "  'thickness_lmiddletemporal_PERC20',\n",
       "  'thickness_lparacentral_PERC20',\n",
       "  'thickness_lparsopercularis_PERC40',\n",
       "  'thickness_lpericalcarine_PERC40',\n",
       "  'thickness_lpericalcarine_PERC60',\n",
       "  'thickness_ltemporalpole_PERC80',\n",
       "  'thickness_rcaudalanteriorcingulate_PERC80',\n",
       "  'thickness_rcuneus_PERC20',\n",
       "  'thickness_rentorhinal_PERC20',\n",
       "  'thickness_rentorhinal_PERC60',\n",
       "  'thickness_risthmuscingulate_PERC20',\n",
       "  'thickness_rlingual_PERC20',\n",
       "  'thickness_rmiddletemporal_PERC80',\n",
       "  'thickness_rparacentral_PERC20',\n",
       "  'thickness_rparsopercularis_PERC60',\n",
       "  'thickness_rparsopercularis_PERC80',\n",
       "  'thickness_rpericalcarine_PERC20',\n",
       "  'thickness_rpericalcarine_PERC80',\n",
       "  'thickness_rposteriorcingulate_PERC20',\n",
       "  'thickness_rrostralanteriorcingulate_PERC40',\n",
       "  'thickness_rsuperiorparietal_PERC20',\n",
       "  'thickness_rsuperiorparietal_PERC40',\n",
       "  'thickness_rsuperiorparietal_PERC60',\n",
       "  'thickness_rsuperiorparietal_PERC80',\n",
       "  'thickness_rsuperiortemporal_PERC60',\n",
       "  'thickness_rsupramarginal_PERC80',\n",
       "  'thickness_rtemporalpole_PERC20',\n",
       "  'thickness_rtemporalpole_PERC40',\n",
       "  'volume_lcaudalanteriorcingulate_PERC60',\n",
       "  'volume_lentorhinal_PERC80',\n",
       "  'volume_lfusiform_PERC80',\n",
       "  'volume_listhmuscingulate_PERC80',\n",
       "  'volume_llateralorbitofrontal_PERC20',\n",
       "  'volume_lmedialorbitofrontal_PERC40',\n",
       "  'volume_lmedialorbitofrontal_PERC80',\n",
       "  'volume_lparsopercularis_PERC80',\n",
       "  'volume_lparsorbitalis_PERC40',\n",
       "  'volume_lrostralmiddlefrontal_PERC40',\n",
       "  'volume_lsuperiortemporal_PERC80',\n",
       "  'volume_ltemporalpole_PERC20',\n",
       "  'volume_ltransversetemporal_PERC80',\n",
       "  'volume_rcaudalmiddlefrontal_PERC80',\n",
       "  'volume_rentorhinal_PERC60',\n",
       "  'volume_rinferiortemporal_PERC20',\n",
       "  'volume_rinferiortemporal_PERC40',\n",
       "  'volume_rlateralorbitofrontal_PERC80',\n",
       "  'volume_rlingual_PERC60',\n",
       "  'volume_rmedialorbitofrontal_PERC40',\n",
       "  'volume_rparsorbitalis_PERC20',\n",
       "  'volume_rparsorbitalis_PERC80',\n",
       "  'volume_rparstriangularis_PERC60',\n",
       "  'volume_rpostcentral_PERC20',\n",
       "  'volume_rpostcentral_PERC60',\n",
       "  'volume_rposteriorcingulate_PERC40',\n",
       "  'volume_rrostralanteriorcingulate_PERC20',\n",
       "  'volume_rrostralanteriorcingulate_PERC80',\n",
       "  'volume_rsuperiorparietal_PERC20',\n",
       "  'volume_rsupramarginal_PERC80'],\n",
       " 'hyper_params': {'kernel': 'poly',\n",
       "  'gamma': 'auto',\n",
       "  'degree': 3,\n",
       "  'coef0': 50,\n",
       "  'C': 0.1},\n",
       " 'clc_score': 0.9574350649350649,\n",
       " 'pseudo_acc': 0.9807692307692308,\n",
       " 'pseudo_f1': 0.9285714285714286,\n",
       " 'tot': 0.9087169080919081}"
      ]
     },
     "execution_count": 26,
     "metadata": {},
     "output_type": "execute_result"
    }
   ],
   "source": [
    "best_data_dict['mild_TD']['awa']"
   ]
  },
  {
   "cell_type": "code",
   "execution_count": null,
   "id": "279a1e71-dde8-40ad-ae40-5359fc92a02c",
   "metadata": {},
   "outputs": [],
   "source": []
  }
 ],
 "metadata": {
  "kernelspec": {
   "display_name": "Python 3 (ipykernel)",
   "language": "python",
   "name": "python3"
  },
  "language_info": {
   "codemirror_mode": {
    "name": "ipython",
    "version": 3
   },
   "file_extension": ".py",
   "mimetype": "text/x-python",
   "name": "python",
   "nbconvert_exporter": "python",
   "pygments_lexer": "ipython3",
   "version": "3.9.7"
  }
 },
 "nbformat": 4,
 "nbformat_minor": 5
}
