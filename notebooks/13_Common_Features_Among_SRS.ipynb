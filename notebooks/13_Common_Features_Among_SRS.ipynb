{
 "cells": [
  {
   "cell_type": "code",
   "execution_count": 42,
   "id": "41e4204e-5d0e-420d-9cce-20c26f6b8cac",
   "metadata": {},
   "outputs": [],
   "source": [
    "MAIN_DIR = \"../output/bigdatacluster/experiments_adj/\""
   ]
  },
  {
   "cell_type": "code",
   "execution_count": 43,
   "id": "29dbb0c7-34db-4ff6-8972-3ae295eec7a7",
   "metadata": {},
   "outputs": [],
   "source": [
    "import os\n",
    "import pandas as pd\n",
    "import dill\n",
    "import numpy as np"
   ]
  },
  {
   "cell_type": "code",
   "execution_count": 44,
   "id": "1b56194f-7223-4d04-a904-d20eaf005a2a",
   "metadata": {},
   "outputs": [],
   "source": [
    "severity_folders = [x for x in os.listdir(MAIN_DIR) if os.path.isdir(os.path.join(MAIN_DIR, x))]"
   ]
  },
  {
   "cell_type": "code",
   "execution_count": 51,
   "id": "03e3b4b2-37d0-4e8d-a4b5-4629141f2f88",
   "metadata": {},
   "outputs": [],
   "source": [
    "def analyze_rfe_features(path):\n",
    "    dillfiles = [x for x in os.listdir(path) if x.endswith('.p')]\n",
    "    csvfiles = [x for x in os.listdir(path) if x.endswith('.csv')]\n",
    "    with open(os.path.join(path, 'FS_obj.p'), 'rb') as f:\n",
    "        fs_obj = dill.load(f)\n",
    "        \n",
    "    df = pd.read_csv(os.path.join(path,'group_df_beforeFixation.csv'), index_col=0)\n",
    "    \n",
    "    df_score = pd.read_csv(os.path.join(path,'pseudo_metrics.csv'))\n",
    "    df_score['avg'] = 0.5*(df_score['acc']+df_score['f1'])\n",
    "    best_rfe = df_score.iloc[df_score['avg'].argmax()]['RFE']\n",
    "    \n",
    "    try:\n",
    "        return best_rfe, dict(zip(df.columns[np.where(fs_obj[best_rfe].support_)[0]],fs_obj[best_rfe].estimator_.coef_[0]))\n",
    "        \n",
    "    except:\n",
    "        return best_rfe, dict(zip(df.columns[np.where(fs_obj[best_rfe].support_)[0]],fs_obj[best_rfe].estimator_.feature_importances_))\n",
    "\n",
    "            "
   ]
  },
  {
   "cell_type": "code",
   "execution_count": 55,
   "id": "7359a1e1-933b-4383-836c-f52ed62b4e30",
   "metadata": {},
   "outputs": [],
   "source": [
    "severity_dict = {}"
   ]
  },
  {
   "cell_type": "code",
   "execution_count": 56,
   "id": "fe2bac79-ce82-4881-9786-ce553aaaed21",
   "metadata": {},
   "outputs": [],
   "source": [
    "for sfolder in severity_folders:\n",
    "    sev = sfolder.split('_')[0]\n",
    "    fullpath = os.path.join(MAIN_DIR, sfolder,f\"AgebetweenNonetNone_{sev}_TD_percentile_minmax\")\n",
    "    behavioral_folders = [x for x in os.listdir(fullpath) if os.path.isdir(os.path.join(fullpath, x))]\n",
    "    behavioral_dict = {}\n",
    "    for bfolder in behavioral_folders:\n",
    "        full_bpath = os.path.join(fullpath, bfolder)\n",
    "        best_rfe, rfe_dict = analyze_rfe_features(full_bpath)\n",
    "        behavioral_dict[bfolder.split('_')[-1]] = (best_rfe, rfe_dict)\n",
    "    severity_dict[sfolder] = behavioral_dict"
   ]
  },
  {
   "cell_type": "markdown",
   "id": "268ff6dd-b8c6-4bb6-b435-235ade1942f7",
   "metadata": {},
   "source": [
    "# `severity_dict` is the base of the analysis "
   ]
  },
  {
   "cell_type": "markdown",
   "id": "4dc95eeb-1155-4cdf-a178-f09d75160579",
   "metadata": {},
   "source": [
    "# Question #1  "
   ]
  },
  {
   "cell_type": "code",
   "execution_count": null,
   "id": "b1cfdc74-c931-4bbb-aee8-79b8749f255d",
   "metadata": {},
   "outputs": [],
   "source": []
  }
 ],
 "metadata": {
  "kernelspec": {
   "display_name": "Python 3 (ipykernel)",
   "language": "python",
   "name": "python3"
  },
  "language_info": {
   "codemirror_mode": {
    "name": "ipython",
    "version": 3
   },
   "file_extension": ".py",
   "mimetype": "text/x-python",
   "name": "python",
   "nbconvert_exporter": "python",
   "pygments_lexer": "ipython3",
   "version": "3.9.7"
  }
 },
 "nbformat": 4,
 "nbformat_minor": 5
}
