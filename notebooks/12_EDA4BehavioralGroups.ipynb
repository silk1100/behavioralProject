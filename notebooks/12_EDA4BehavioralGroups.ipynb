{
 "cells": [
  {
   "cell_type": "code",
   "execution_count": 27,
   "id": "6c1e9474-8372-40a2-a768-6ed4c1a814ef",
   "metadata": {},
   "outputs": [],
   "source": [
    "MAIN_DIR = \"../output/bigdatacluster/experiments_mult_200/\"\n",
    "RAW_DATA_DIR = \"../data/feature_extraction/percentile/raw.csv\""
   ]
  },
  {
   "cell_type": "code",
   "execution_count": 13,
   "id": "da03349a-60b8-42d2-a50d-9a0ad6de0479",
   "metadata": {},
   "outputs": [],
   "source": [
    "import os\n",
    "import pandas as pd\n",
    "import numpy as np\n",
    "import json\n",
    "import matplotlib.pyplot as plt\n",
    "import matplotlib as mpl\n",
    "import seaborn as sns\n",
    "from collections import defaultdict"
   ]
  },
  {
   "cell_type": "code",
   "execution_count": 3,
   "id": "70f47b65-cff8-485d-9a5b-4097f8e70580",
   "metadata": {},
   "outputs": [],
   "source": [
    "large=22; med=16; small=12\n",
    "params={\n",
    "    'axes.titlesize': med,\n",
    "    'legend.fontsize':med,\n",
    "    'figure.figsize':(16, 10),\n",
    "    'axes.labelsize': med,\n",
    "    'xtick.labelsize': med,\n",
    "    'ytick.labelsize':med,\n",
    "    'figure.titlesize':large\n",
    "}\n",
    "plt.rcParams.update(params)\n",
    "plt.style.use('seaborn-whitegrid')\n",
    "sns.set_style(\"white\")"
   ]
  },
  {
   "cell_type": "markdown",
   "id": "0e6b3e24-39c0-4fbf-a27a-7d59fd601ff6",
   "metadata": {},
   "source": [
    "# GOAL\n",
    "Perform the required EDA for the data section of my paper"
   ]
  },
  {
   "cell_type": "code",
   "execution_count": 28,
   "id": "5cc37b65-2795-4d54-a273-fc6957adf925",
   "metadata": {},
   "outputs": [],
   "source": [
    "df_raw = pd.read_csv(RAW_DATA_DIR, index_col=0)"
   ]
  },
  {
   "cell_type": "code",
   "execution_count": 30,
   "id": "f56867c7-a72a-4cee-b20e-0c6bee9b6719",
   "metadata": {},
   "outputs": [],
   "source": [
    "df_asd = df_raw[df_raw['DX_GROUP']==1][['AGE_AT_SCAN ','SEX']]\n",
    "df_td = df_raw[df_raw['DX_GROUP']==2][['AGE_AT_SCAN ','SEX']]"
   ]
  },
  {
   "cell_type": "code",
   "execution_count": null,
   "id": "8ad3a224-d91a-44f1-9e39-d9055c764437",
   "metadata": {},
   "outputs": [],
   "source": []
  },
  {
   "cell_type": "code",
   "execution_count": 24,
   "id": "40acf5c6-1cc8-4eff-9eeb-f2f9230af701",
   "metadata": {},
   "outputs": [],
   "source": [
    "severity_behavioral_dict = defaultdict(dict)\n",
    "for severity_level in [x for x in os.listdir(MAIN_DIR) if os.path.isdir(os.path.join(MAIN_DIR,x))]:\n",
    "    full_severity_path = os.path.join(MAIN_DIR, severity_level, f\"AgebetweenNonetNone_{severity_level}_percentile_minmax\")\n",
    "    for behavioral_dir in [x for x in os.listdir(full_severity_path) if os.path.isdir(os.path.join(full_severity_path,x))]:\n",
    "        df = pd.read_csv(os.path.join(full_severity_path, behavioral_dir, \"group_df_beforeFixation.csv\"), index_col=0)\n",
    "        df_behav_asd = df[df['mylabels']==1]\n",
    "        df_behav_td = df[df['mylabels']==2]\n",
    "        "
   ]
  },
  {
   "cell_type": "code",
   "execution_count": 26,
   "id": "266417e7-d8e7-4504-8548-b4fec619b5b0",
   "metadata": {},
   "outputs": [
    {
     "data": {
      "text/html": [
       "<div>\n",
       "<style scoped>\n",
       "    .dataframe tbody tr th:only-of-type {\n",
       "        vertical-align: middle;\n",
       "    }\n",
       "\n",
       "    .dataframe tbody tr th {\n",
       "        vertical-align: top;\n",
       "    }\n",
       "\n",
       "    .dataframe thead th {\n",
       "        text-align: right;\n",
       "    }\n",
       "</style>\n",
       "<table border=\"1\" class=\"dataframe\">\n",
       "  <thead>\n",
       "    <tr style=\"text-align: right;\">\n",
       "      <th></th>\n",
       "      <th>mild_TD</th>\n",
       "      <th>moderate_TD</th>\n",
       "      <th>sever_TD</th>\n",
       "    </tr>\n",
       "  </thead>\n",
       "  <tbody>\n",
       "    <tr>\n",
       "      <th>awa</th>\n",
       "      <td>[73, 443]</td>\n",
       "      <td>[102, 443]</td>\n",
       "      <td>[105, 443]</td>\n",
       "    </tr>\n",
       "    <tr>\n",
       "      <th>cog</th>\n",
       "      <td>[56, 440]</td>\n",
       "      <td>[100, 440]</td>\n",
       "      <td>[127, 440]</td>\n",
       "    </tr>\n",
       "    <tr>\n",
       "      <th>comm</th>\n",
       "      <td>[50, 429]</td>\n",
       "      <td>[99, 429]</td>\n",
       "      <td>[166, 429]</td>\n",
       "    </tr>\n",
       "    <tr>\n",
       "      <th>man</th>\n",
       "      <td>[47, 418]</td>\n",
       "      <td>[93, 418]</td>\n",
       "      <td>[186, 418]</td>\n",
       "    </tr>\n",
       "    <tr>\n",
       "      <th>mot</th>\n",
       "      <td>[54, 455]</td>\n",
       "      <td>[119, 455]</td>\n",
       "      <td>[116, 455]</td>\n",
       "    </tr>\n",
       "    <tr>\n",
       "      <th>tot</th>\n",
       "      <td>[36, 425]</td>\n",
       "      <td>[101, 425]</td>\n",
       "      <td>[189, 425]</td>\n",
       "    </tr>\n",
       "  </tbody>\n",
       "</table>\n",
       "</div>"
      ],
      "text/plain": [
       "        mild_TD moderate_TD    sever_TD\n",
       "awa   [73, 443]  [102, 443]  [105, 443]\n",
       "cog   [56, 440]  [100, 440]  [127, 440]\n",
       "comm  [50, 429]   [99, 429]  [166, 429]\n",
       "man   [47, 418]   [93, 418]  [186, 418]\n",
       "mot   [54, 455]  [119, 455]  [116, 455]\n",
       "tot   [36, 425]  [101, 425]  [189, 425]"
      ]
     },
     "execution_count": 26,
     "metadata": {},
     "output_type": "execute_result"
    }
   ],
   "source": [
    "pd.DataFrame(severity_behavioral_dict)"
   ]
  },
  {
   "cell_type": "code",
   "execution_count": null,
   "id": "1f5ba934-a406-4bad-a525-5d4454e40f58",
   "metadata": {},
   "outputs": [],
   "source": []
  },
  {
   "cell_type": "code",
   "execution_count": null,
   "id": "9839087a-b3d8-44cb-af5b-cd2905da0502",
   "metadata": {},
   "outputs": [],
   "source": []
  }
 ],
 "metadata": {
  "kernelspec": {
   "display_name": "Python 3 (ipykernel)",
   "language": "python",
   "name": "python3"
  },
  "language_info": {
   "codemirror_mode": {
    "name": "ipython",
    "version": 3
   },
   "file_extension": ".py",
   "mimetype": "text/x-python",
   "name": "python",
   "nbconvert_exporter": "python",
   "pygments_lexer": "ipython3",
   "version": "3.9.6"
  }
 },
 "nbformat": 4,
 "nbformat_minor": 5
}
