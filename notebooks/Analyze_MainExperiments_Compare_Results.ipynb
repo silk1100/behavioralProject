{
 "cells": [
  {
   "cell_type": "markdown",
   "source": [
    "# Goals:\n",
    "## 1. Design and implement an analysis pipeline to highlight the important findings of each experiment\n",
    "## 2. Visualize results in a way to make it ready for publications\n",
    "## 3. Compare different experiments based on a given factor to find the optimum pipeline for a given cohort"
   ],
   "metadata": {}
  },
  {
   "cell_type": "markdown",
   "source": [
    "### The idea is to create a draft for an analysis script to be added to the src folder"
   ],
   "metadata": {}
  },
  {
   "cell_type": "markdown",
   "source": [
    "## McNemar’s Test to Compare Two Machine Learning Classifiers"
   ],
   "metadata": {}
  },
  {
   "cell_type": "code",
   "execution_count": 1,
   "source": [
    "import pandas as pd\n",
    "import scipy.stats as stats\n",
    "import numpy as np\n",
    "import matplotlib.pyplot as plt\n",
    "import seaborn as sns\n",
    "import os\n",
    "import dill\n",
    "import nibabel.freesurfer.io as fio\n",
    "import sys\n",
    "import json\n",
    "sns.set()"
   ],
   "outputs": [],
   "metadata": {}
  },
  {
   "cell_type": "code",
   "execution_count": 2,
   "source": [
    "\"\"\"\n",
    "This directory is created when running python main.py -i ../experiments/whatevername -o ../output/whateverfolder. It assumes\n",
    "that inside this \"main_exp_directoriey\", There are multiple directories containing the results of different experiments being\n",
    "factored by a single factor (i.e. different behavioral test, different data representation, different normalization method,\n",
    " ... etc) JUST A SINGLE FACTOR\n",
    "\"\"\"\n",
    "main_exp_directory = \"../output/Agebetween10t13_severTD_alltests_percentile\" "
   ],
   "outputs": [],
   "metadata": {}
  },
  {
   "cell_type": "code",
   "execution_count": 3,
   "source": [
    "sub_exps = [x for x in os.listdir(main_exp_directory) if os.path.isdir(os.path.join(main_exp_directory, x))]"
   ],
   "outputs": [],
   "metadata": {}
  },
  {
   "cell_type": "code",
   "execution_count": 4,
   "source": [
    "sub_exps, len(sub_exps)"
   ],
   "outputs": [
    {
     "output_type": "execute_result",
     "data": {
      "text/plain": [
       "(['comm_median_std_sever_td',\n",
       "  'awa_median_std_sever_td',\n",
       "  'man_median_std_sever_td',\n",
       "  'cog_median_std_sever_td',\n",
       "  'tot_median_std_sever_td',\n",
       "  'mot_median_std_sever_td'],\n",
       " 6)"
      ]
     },
     "metadata": {},
     "execution_count": 4
    }
   ],
   "metadata": {}
  },
  {
   "cell_type": "code",
   "execution_count": 5,
   "source": [
    "# Main analyzing loop\n",
    "for exp in sub_exps:\n",
    "    exp_descr = exp.split('_')[0]\n",
    "    print(f\"Results of {exp_descr}\")\n",
    "    full_path = os.path.join(main_exp_directory, exp)\n"
   ],
   "outputs": [
    {
     "output_type": "stream",
     "name": "stdout",
     "text": [
      "Results of comm\n",
      "Results of awa\n",
      "Results of man\n",
      "Results of cog\n",
      "Results of tot\n",
      "Results of mot\n"
     ]
    }
   ],
   "metadata": {}
  },
  {
   "cell_type": "code",
   "execution_count": 6,
   "source": [
    "# Analysis of RFE\n",
    "def analyzeRFE(fldr):\n",
    "    with open(os.path.join(fldr, 'selected_feats.json'), 'r') as f:\n",
    "        feats_dict = json.load(f)\n",
    "\n",
    "    with open(os.path.join(fldr, 'FS_obj.p'), 'rb') as f:\n",
    "        rfe_dict = dill.load(f)\n",
    "\n",
    "    print(rfe_dict)\n",
    "    print(feats_dict)"
   ],
   "outputs": [],
   "metadata": {}
  },
  {
   "cell_type": "code",
   "execution_count": 12,
   "source": [
    "# Analysis of ML\n",
    "def analyzeML(fldr):\n",
    "    with open(os.path.join(fldr, 'ML_obj.p'), 'rb') as f:\n",
    "        ml_dict = dill.load(f)\n",
    "    return ml_dict"
   ],
   "outputs": [],
   "metadata": {}
  },
  {
   "cell_type": "code",
   "execution_count": 7,
   "source": [
    "analyzeRFE(os.path.join(main_exp_directory, \"comm_median_std_sever_td\"))"
   ],
   "outputs": [
    {
     "output_type": "error",
     "ename": "XGBoostError",
     "evalue": "[19:07:42] /home/conda/feedstock_root/build_artifacts/xgboost_1598185621802/work/include/xgboost/json.h:65: Invalid cast, from Null to Array\nStack trace:\n  [bt] (0) /home/tarek/anaconda3/envs/brain_torch/lib/libxgboost.so(xgboost::JsonArray const* xgboost::Cast<xgboost::JsonArray const, xgboost::Value>(xgboost::Value*)+0x7b9) [0x7fde19c60a19]\n  [bt] (1) /home/tarek/anaconda3/envs/brain_torch/lib/libxgboost.so(xgboost::RegTree::LoadModel(xgboost::Json const&)+0x419) [0x7fde19dd9949]\n  [bt] (2) /home/tarek/anaconda3/envs/brain_torch/lib/libxgboost.so(xgboost::gbm::GBTreeModel::LoadModel(xgboost::Json const&)+0x668) [0x7fde19ce59e8]\n  [bt] (3) /home/tarek/anaconda3/envs/brain_torch/lib/libxgboost.so(xgboost::gbm::GBTree::LoadModel(xgboost::Json const&)+0x13e) [0x7fde19cd01de]\n  [bt] (4) /home/tarek/anaconda3/envs/brain_torch/lib/libxgboost.so(+0x197e14) [0x7fde19cfee14]\n  [bt] (5) /home/tarek/anaconda3/envs/brain_torch/lib/libxgboost.so(+0x1a1e49) [0x7fde19d08e49]\n  [bt] (6) /home/tarek/anaconda3/envs/brain_torch/lib/libxgboost.so(XGBoosterUnserializeFromBuffer+0x5e) [0x7fde19bf1fbe]\n  [bt] (7) /home/tarek/anaconda3/envs/brain_torch/lib/python3.7/lib-dynload/../../libffi.so.7(+0x69dd) [0x7fde49ace9dd]\n  [bt] (8) /home/tarek/anaconda3/envs/brain_torch/lib/python3.7/lib-dynload/../../libffi.so.7(+0x6067) [0x7fde49ace067]\n\n",
     "traceback": [
      "\u001b[0;31m---------------------------------------------------------------------------\u001b[0m",
      "\u001b[0;31mXGBoostError\u001b[0m                              Traceback (most recent call last)",
      "\u001b[0;32m<ipython-input-7-a3ec83fea956>\u001b[0m in \u001b[0;36m<module>\u001b[0;34m()\u001b[0m\n\u001b[0;32m----> 1\u001b[0;31m \u001b[0manalyzeRFE\u001b[0m\u001b[0;34m(\u001b[0m\u001b[0mos\u001b[0m\u001b[0;34m.\u001b[0m\u001b[0mpath\u001b[0m\u001b[0;34m.\u001b[0m\u001b[0mjoin\u001b[0m\u001b[0;34m(\u001b[0m\u001b[0mmain_exp_directory\u001b[0m\u001b[0;34m,\u001b[0m \u001b[0;34m\"comm_median_std_sever_td\"\u001b[0m\u001b[0;34m)\u001b[0m\u001b[0;34m)\u001b[0m\u001b[0;34m\u001b[0m\u001b[0;34m\u001b[0m\u001b[0m\n\u001b[0m",
      "\u001b[0;32m<ipython-input-6-2ad1f31a8739>\u001b[0m in \u001b[0;36manalyzeRFE\u001b[0;34m(fldr)\u001b[0m\n\u001b[1;32m      5\u001b[0m \u001b[0;34m\u001b[0m\u001b[0m\n\u001b[1;32m      6\u001b[0m     \u001b[0;32mwith\u001b[0m \u001b[0mopen\u001b[0m\u001b[0;34m(\u001b[0m\u001b[0mos\u001b[0m\u001b[0;34m.\u001b[0m\u001b[0mpath\u001b[0m\u001b[0;34m.\u001b[0m\u001b[0mjoin\u001b[0m\u001b[0;34m(\u001b[0m\u001b[0mfldr\u001b[0m\u001b[0;34m,\u001b[0m \u001b[0;34m'FS_obj.p'\u001b[0m\u001b[0;34m)\u001b[0m\u001b[0;34m,\u001b[0m \u001b[0;34m'rb'\u001b[0m\u001b[0;34m)\u001b[0m \u001b[0;32mas\u001b[0m \u001b[0mf\u001b[0m\u001b[0;34m:\u001b[0m\u001b[0;34m\u001b[0m\u001b[0;34m\u001b[0m\u001b[0m\n\u001b[0;32m----> 7\u001b[0;31m         \u001b[0mrfe_dict\u001b[0m \u001b[0;34m=\u001b[0m \u001b[0mdill\u001b[0m\u001b[0;34m.\u001b[0m\u001b[0mload\u001b[0m\u001b[0;34m(\u001b[0m\u001b[0mf\u001b[0m\u001b[0;34m)\u001b[0m\u001b[0;34m\u001b[0m\u001b[0;34m\u001b[0m\u001b[0m\n\u001b[0m\u001b[1;32m      8\u001b[0m \u001b[0;34m\u001b[0m\u001b[0m\n\u001b[1;32m      9\u001b[0m     \u001b[0mprint\u001b[0m\u001b[0;34m(\u001b[0m\u001b[0mrfe_dict\u001b[0m\u001b[0;34m)\u001b[0m\u001b[0;34m\u001b[0m\u001b[0;34m\u001b[0m\u001b[0m\n",
      "\u001b[0;32m/home/tarek/anaconda3/envs/brain_torch/lib/python3.7/site-packages/dill/_dill.py\u001b[0m in \u001b[0;36mload\u001b[0;34m(file, ignore, **kwds)\u001b[0m\n\u001b[1;32m    311\u001b[0m     \u001b[0mSee\u001b[0m \u001b[0;34m:\u001b[0m\u001b[0mfunc\u001b[0m\u001b[0;34m:\u001b[0m\u001b[0;31m`\u001b[0m\u001b[0mloads\u001b[0m\u001b[0;31m`\u001b[0m \u001b[0;32mfor\u001b[0m \u001b[0mkeyword\u001b[0m \u001b[0marguments\u001b[0m\u001b[0;34m.\u001b[0m\u001b[0;34m\u001b[0m\u001b[0;34m\u001b[0m\u001b[0m\n\u001b[1;32m    312\u001b[0m     \"\"\"\n\u001b[0;32m--> 313\u001b[0;31m     \u001b[0;32mreturn\u001b[0m \u001b[0mUnpickler\u001b[0m\u001b[0;34m(\u001b[0m\u001b[0mfile\u001b[0m\u001b[0;34m,\u001b[0m \u001b[0mignore\u001b[0m\u001b[0;34m=\u001b[0m\u001b[0mignore\u001b[0m\u001b[0;34m,\u001b[0m \u001b[0;34m**\u001b[0m\u001b[0mkwds\u001b[0m\u001b[0;34m)\u001b[0m\u001b[0;34m.\u001b[0m\u001b[0mload\u001b[0m\u001b[0;34m(\u001b[0m\u001b[0;34m)\u001b[0m\u001b[0;34m\u001b[0m\u001b[0;34m\u001b[0m\u001b[0m\n\u001b[0m\u001b[1;32m    314\u001b[0m \u001b[0;34m\u001b[0m\u001b[0m\n\u001b[1;32m    315\u001b[0m \u001b[0;32mdef\u001b[0m \u001b[0mloads\u001b[0m\u001b[0;34m(\u001b[0m\u001b[0mstr\u001b[0m\u001b[0;34m,\u001b[0m \u001b[0mignore\u001b[0m\u001b[0;34m=\u001b[0m\u001b[0;32mNone\u001b[0m\u001b[0;34m,\u001b[0m \u001b[0;34m**\u001b[0m\u001b[0mkwds\u001b[0m\u001b[0;34m)\u001b[0m\u001b[0;34m:\u001b[0m\u001b[0;34m\u001b[0m\u001b[0;34m\u001b[0m\u001b[0m\n",
      "\u001b[0;32m/home/tarek/anaconda3/envs/brain_torch/lib/python3.7/site-packages/dill/_dill.py\u001b[0m in \u001b[0;36mload\u001b[0;34m(self)\u001b[0m\n\u001b[1;32m    523\u001b[0m \u001b[0;34m\u001b[0m\u001b[0m\n\u001b[1;32m    524\u001b[0m     \u001b[0;32mdef\u001b[0m \u001b[0mload\u001b[0m\u001b[0;34m(\u001b[0m\u001b[0mself\u001b[0m\u001b[0;34m)\u001b[0m\u001b[0;34m:\u001b[0m \u001b[0;31m#NOTE: if settings change, need to update attributes\u001b[0m\u001b[0;34m\u001b[0m\u001b[0;34m\u001b[0m\u001b[0m\n\u001b[0;32m--> 525\u001b[0;31m         \u001b[0mobj\u001b[0m \u001b[0;34m=\u001b[0m \u001b[0mStockUnpickler\u001b[0m\u001b[0;34m.\u001b[0m\u001b[0mload\u001b[0m\u001b[0;34m(\u001b[0m\u001b[0mself\u001b[0m\u001b[0;34m)\u001b[0m\u001b[0;34m\u001b[0m\u001b[0;34m\u001b[0m\u001b[0m\n\u001b[0m\u001b[1;32m    526\u001b[0m         \u001b[0;32mif\u001b[0m \u001b[0mtype\u001b[0m\u001b[0;34m(\u001b[0m\u001b[0mobj\u001b[0m\u001b[0;34m)\u001b[0m\u001b[0;34m.\u001b[0m\u001b[0m__module__\u001b[0m \u001b[0;34m==\u001b[0m \u001b[0mgetattr\u001b[0m\u001b[0;34m(\u001b[0m\u001b[0m_main_module\u001b[0m\u001b[0;34m,\u001b[0m \u001b[0;34m'__name__'\u001b[0m\u001b[0;34m,\u001b[0m \u001b[0;34m'__main__'\u001b[0m\u001b[0;34m)\u001b[0m\u001b[0;34m:\u001b[0m\u001b[0;34m\u001b[0m\u001b[0;34m\u001b[0m\u001b[0m\n\u001b[1;32m    527\u001b[0m             \u001b[0;32mif\u001b[0m \u001b[0;32mnot\u001b[0m \u001b[0mself\u001b[0m\u001b[0;34m.\u001b[0m\u001b[0m_ignore\u001b[0m\u001b[0;34m:\u001b[0m\u001b[0;34m\u001b[0m\u001b[0;34m\u001b[0m\u001b[0m\n",
      "\u001b[0;32m/home/tarek/anaconda3/envs/brain_torch/lib/python3.7/site-packages/xgboost/core.py\u001b[0m in \u001b[0;36m__setstate__\u001b[0;34m(self, state)\u001b[0m\n\u001b[1;32m   1002\u001b[0m             \u001b[0mptr\u001b[0m \u001b[0;34m=\u001b[0m \u001b[0;34m(\u001b[0m\u001b[0mctypes\u001b[0m\u001b[0;34m.\u001b[0m\u001b[0mc_char\u001b[0m \u001b[0;34m*\u001b[0m \u001b[0mlen\u001b[0m\u001b[0;34m(\u001b[0m\u001b[0mbuf\u001b[0m\u001b[0;34m)\u001b[0m\u001b[0;34m)\u001b[0m\u001b[0;34m.\u001b[0m\u001b[0mfrom_buffer\u001b[0m\u001b[0;34m(\u001b[0m\u001b[0mbuf\u001b[0m\u001b[0;34m)\u001b[0m\u001b[0;34m\u001b[0m\u001b[0;34m\u001b[0m\u001b[0m\n\u001b[1;32m   1003\u001b[0m             _check_call(\n\u001b[0;32m-> 1004\u001b[0;31m                 _LIB.XGBoosterUnserializeFromBuffer(handle, ptr, length))\n\u001b[0m\u001b[1;32m   1005\u001b[0m             \u001b[0mstate\u001b[0m\u001b[0;34m[\u001b[0m\u001b[0;34m'handle'\u001b[0m\u001b[0;34m]\u001b[0m \u001b[0;34m=\u001b[0m \u001b[0mhandle\u001b[0m\u001b[0;34m\u001b[0m\u001b[0;34m\u001b[0m\u001b[0m\n\u001b[1;32m   1006\u001b[0m         \u001b[0mself\u001b[0m\u001b[0;34m.\u001b[0m\u001b[0m__dict__\u001b[0m\u001b[0;34m.\u001b[0m\u001b[0mupdate\u001b[0m\u001b[0;34m(\u001b[0m\u001b[0mstate\u001b[0m\u001b[0;34m)\u001b[0m\u001b[0;34m\u001b[0m\u001b[0;34m\u001b[0m\u001b[0m\n",
      "\u001b[0;32m/home/tarek/anaconda3/envs/brain_torch/lib/python3.7/site-packages/xgboost/core.py\u001b[0m in \u001b[0;36m_check_call\u001b[0;34m(ret)\u001b[0m\n\u001b[1;32m    186\u001b[0m     \"\"\"\n\u001b[1;32m    187\u001b[0m     \u001b[0;32mif\u001b[0m \u001b[0mret\u001b[0m \u001b[0;34m!=\u001b[0m \u001b[0;36m0\u001b[0m\u001b[0;34m:\u001b[0m\u001b[0;34m\u001b[0m\u001b[0;34m\u001b[0m\u001b[0m\n\u001b[0;32m--> 188\u001b[0;31m         \u001b[0;32mraise\u001b[0m \u001b[0mXGBoostError\u001b[0m\u001b[0;34m(\u001b[0m\u001b[0mpy_str\u001b[0m\u001b[0;34m(\u001b[0m\u001b[0m_LIB\u001b[0m\u001b[0;34m.\u001b[0m\u001b[0mXGBGetLastError\u001b[0m\u001b[0;34m(\u001b[0m\u001b[0;34m)\u001b[0m\u001b[0;34m)\u001b[0m\u001b[0;34m)\u001b[0m\u001b[0;34m\u001b[0m\u001b[0;34m\u001b[0m\u001b[0m\n\u001b[0m\u001b[1;32m    189\u001b[0m \u001b[0;34m\u001b[0m\u001b[0m\n\u001b[1;32m    190\u001b[0m \u001b[0;34m\u001b[0m\u001b[0m\n",
      "\u001b[0;31mXGBoostError\u001b[0m: [19:07:42] /home/conda/feedstock_root/build_artifacts/xgboost_1598185621802/work/include/xgboost/json.h:65: Invalid cast, from Null to Array\nStack trace:\n  [bt] (0) /home/tarek/anaconda3/envs/brain_torch/lib/libxgboost.so(xgboost::JsonArray const* xgboost::Cast<xgboost::JsonArray const, xgboost::Value>(xgboost::Value*)+0x7b9) [0x7fde19c60a19]\n  [bt] (1) /home/tarek/anaconda3/envs/brain_torch/lib/libxgboost.so(xgboost::RegTree::LoadModel(xgboost::Json const&)+0x419) [0x7fde19dd9949]\n  [bt] (2) /home/tarek/anaconda3/envs/brain_torch/lib/libxgboost.so(xgboost::gbm::GBTreeModel::LoadModel(xgboost::Json const&)+0x668) [0x7fde19ce59e8]\n  [bt] (3) /home/tarek/anaconda3/envs/brain_torch/lib/libxgboost.so(xgboost::gbm::GBTree::LoadModel(xgboost::Json const&)+0x13e) [0x7fde19cd01de]\n  [bt] (4) /home/tarek/anaconda3/envs/brain_torch/lib/libxgboost.so(+0x197e14) [0x7fde19cfee14]\n  [bt] (5) /home/tarek/anaconda3/envs/brain_torch/lib/libxgboost.so(+0x1a1e49) [0x7fde19d08e49]\n  [bt] (6) /home/tarek/anaconda3/envs/brain_torch/lib/libxgboost.so(XGBoosterUnserializeFromBuffer+0x5e) [0x7fde19bf1fbe]\n  [bt] (7) /home/tarek/anaconda3/envs/brain_torch/lib/python3.7/lib-dynload/../../libffi.so.7(+0x69dd) [0x7fde49ace9dd]\n  [bt] (8) /home/tarek/anaconda3/envs/brain_torch/lib/python3.7/lib-dynload/../../libffi.so.7(+0x6067) [0x7fde49ace067]\n\n"
     ]
    }
   ],
   "metadata": {}
  },
  {
   "cell_type": "code",
   "execution_count": 13,
   "source": [
    "analyzeML(os.path.join(main_exp_directory, \"comm_median_std_sever_td\"))"
   ],
   "outputs": [
    {
     "output_type": "error",
     "ename": "XGBoostError",
     "evalue": "[19:04:46] /home/conda/feedstock_root/build_artifacts/xgboost_1598185621802/work/include/xgboost/json.h:65: Invalid cast, from Null to Array\nStack trace:\n  [bt] (0) /home/tarek/anaconda3/envs/brain_torch/lib/libxgboost.so(xgboost::JsonArray const* xgboost::Cast<xgboost::JsonArray const, xgboost::Value>(xgboost::Value*)+0x7b9) [0x7f3948d36a19]\n  [bt] (1) /home/tarek/anaconda3/envs/brain_torch/lib/libxgboost.so(xgboost::RegTree::LoadModel(xgboost::Json const&)+0x419) [0x7f3948eaf949]\n  [bt] (2) /home/tarek/anaconda3/envs/brain_torch/lib/libxgboost.so(xgboost::gbm::GBTreeModel::LoadModel(xgboost::Json const&)+0x668) [0x7f3948dbb9e8]\n  [bt] (3) /home/tarek/anaconda3/envs/brain_torch/lib/libxgboost.so(xgboost::gbm::GBTree::LoadModel(xgboost::Json const&)+0x13e) [0x7f3948da61de]\n  [bt] (4) /home/tarek/anaconda3/envs/brain_torch/lib/libxgboost.so(+0x169f87) [0x7f3948da6f87]\n  [bt] (5) /home/tarek/anaconda3/envs/brain_torch/lib/libxgboost.so(+0x197e14) [0x7f3948dd4e14]\n  [bt] (6) /home/tarek/anaconda3/envs/brain_torch/lib/libxgboost.so(+0x1a1e49) [0x7f3948ddee49]\n  [bt] (7) /home/tarek/anaconda3/envs/brain_torch/lib/libxgboost.so(XGBoosterUnserializeFromBuffer+0x5e) [0x7f3948cc7fbe]\n  [bt] (8) /home/tarek/anaconda3/envs/brain_torch/lib/python3.7/lib-dynload/../../libffi.so.7(+0x69dd) [0x7f3978ba19dd]\n\n",
     "traceback": [
      "\u001b[0;31m---------------------------------------------------------------------------\u001b[0m",
      "\u001b[0;31mXGBoostError\u001b[0m                              Traceback (most recent call last)",
      "\u001b[0;32m<ipython-input-13-5d5091577604>\u001b[0m in \u001b[0;36m<module>\u001b[0;34m()\u001b[0m\n\u001b[0;32m----> 1\u001b[0;31m \u001b[0manalyzeML\u001b[0m\u001b[0;34m(\u001b[0m\u001b[0mos\u001b[0m\u001b[0;34m.\u001b[0m\u001b[0mpath\u001b[0m\u001b[0;34m.\u001b[0m\u001b[0mjoin\u001b[0m\u001b[0;34m(\u001b[0m\u001b[0mmain_exp_directory\u001b[0m\u001b[0;34m,\u001b[0m \u001b[0;34m\"comm_median_std_sever_td\"\u001b[0m\u001b[0;34m)\u001b[0m\u001b[0;34m)\u001b[0m\u001b[0;34m\u001b[0m\u001b[0;34m\u001b[0m\u001b[0m\n\u001b[0m",
      "\u001b[0;32m<ipython-input-12-5aac588b8eff>\u001b[0m in \u001b[0;36manalyzeML\u001b[0;34m(fldr)\u001b[0m\n\u001b[1;32m      2\u001b[0m \u001b[0;32mdef\u001b[0m \u001b[0manalyzeML\u001b[0m\u001b[0;34m(\u001b[0m\u001b[0mfldr\u001b[0m\u001b[0;34m)\u001b[0m\u001b[0;34m:\u001b[0m\u001b[0;34m\u001b[0m\u001b[0;34m\u001b[0m\u001b[0m\n\u001b[1;32m      3\u001b[0m     \u001b[0;32mwith\u001b[0m \u001b[0mopen\u001b[0m\u001b[0;34m(\u001b[0m\u001b[0mos\u001b[0m\u001b[0;34m.\u001b[0m\u001b[0mpath\u001b[0m\u001b[0;34m.\u001b[0m\u001b[0mjoin\u001b[0m\u001b[0;34m(\u001b[0m\u001b[0mfldr\u001b[0m\u001b[0;34m,\u001b[0m \u001b[0;34m'ML_obj.p'\u001b[0m\u001b[0;34m)\u001b[0m\u001b[0;34m,\u001b[0m \u001b[0;34m'rb'\u001b[0m\u001b[0;34m)\u001b[0m \u001b[0;32mas\u001b[0m \u001b[0mf\u001b[0m\u001b[0;34m:\u001b[0m\u001b[0;34m\u001b[0m\u001b[0;34m\u001b[0m\u001b[0m\n\u001b[0;32m----> 4\u001b[0;31m         \u001b[0mml_dict\u001b[0m \u001b[0;34m=\u001b[0m \u001b[0mdill\u001b[0m\u001b[0;34m.\u001b[0m\u001b[0mload\u001b[0m\u001b[0;34m(\u001b[0m\u001b[0mf\u001b[0m\u001b[0;34m)\u001b[0m\u001b[0;34m\u001b[0m\u001b[0;34m\u001b[0m\u001b[0m\n\u001b[0m\u001b[1;32m      5\u001b[0m     \u001b[0;32mreturn\u001b[0m \u001b[0mml_dict\u001b[0m\u001b[0;34m\u001b[0m\u001b[0;34m\u001b[0m\u001b[0m\n",
      "\u001b[0;32m/home/tarek/anaconda3/envs/brain_torch/lib/python3.7/site-packages/dill/_dill.py\u001b[0m in \u001b[0;36mload\u001b[0;34m(file, ignore, **kwds)\u001b[0m\n\u001b[1;32m    311\u001b[0m     \u001b[0mSee\u001b[0m \u001b[0;34m:\u001b[0m\u001b[0mfunc\u001b[0m\u001b[0;34m:\u001b[0m\u001b[0;31m`\u001b[0m\u001b[0mloads\u001b[0m\u001b[0;31m`\u001b[0m \u001b[0;32mfor\u001b[0m \u001b[0mkeyword\u001b[0m \u001b[0marguments\u001b[0m\u001b[0;34m.\u001b[0m\u001b[0;34m\u001b[0m\u001b[0;34m\u001b[0m\u001b[0m\n\u001b[1;32m    312\u001b[0m     \"\"\"\n\u001b[0;32m--> 313\u001b[0;31m     \u001b[0;32mreturn\u001b[0m \u001b[0mUnpickler\u001b[0m\u001b[0;34m(\u001b[0m\u001b[0mfile\u001b[0m\u001b[0;34m,\u001b[0m \u001b[0mignore\u001b[0m\u001b[0;34m=\u001b[0m\u001b[0mignore\u001b[0m\u001b[0;34m,\u001b[0m \u001b[0;34m**\u001b[0m\u001b[0mkwds\u001b[0m\u001b[0;34m)\u001b[0m\u001b[0;34m.\u001b[0m\u001b[0mload\u001b[0m\u001b[0;34m(\u001b[0m\u001b[0;34m)\u001b[0m\u001b[0;34m\u001b[0m\u001b[0;34m\u001b[0m\u001b[0m\n\u001b[0m\u001b[1;32m    314\u001b[0m \u001b[0;34m\u001b[0m\u001b[0m\n\u001b[1;32m    315\u001b[0m \u001b[0;32mdef\u001b[0m \u001b[0mloads\u001b[0m\u001b[0;34m(\u001b[0m\u001b[0mstr\u001b[0m\u001b[0;34m,\u001b[0m \u001b[0mignore\u001b[0m\u001b[0;34m=\u001b[0m\u001b[0;32mNone\u001b[0m\u001b[0;34m,\u001b[0m \u001b[0;34m**\u001b[0m\u001b[0mkwds\u001b[0m\u001b[0;34m)\u001b[0m\u001b[0;34m:\u001b[0m\u001b[0;34m\u001b[0m\u001b[0;34m\u001b[0m\u001b[0m\n",
      "\u001b[0;32m/home/tarek/anaconda3/envs/brain_torch/lib/python3.7/site-packages/dill/_dill.py\u001b[0m in \u001b[0;36mload\u001b[0;34m(self)\u001b[0m\n\u001b[1;32m    523\u001b[0m \u001b[0;34m\u001b[0m\u001b[0m\n\u001b[1;32m    524\u001b[0m     \u001b[0;32mdef\u001b[0m \u001b[0mload\u001b[0m\u001b[0;34m(\u001b[0m\u001b[0mself\u001b[0m\u001b[0;34m)\u001b[0m\u001b[0;34m:\u001b[0m \u001b[0;31m#NOTE: if settings change, need to update attributes\u001b[0m\u001b[0;34m\u001b[0m\u001b[0;34m\u001b[0m\u001b[0m\n\u001b[0;32m--> 525\u001b[0;31m         \u001b[0mobj\u001b[0m \u001b[0;34m=\u001b[0m \u001b[0mStockUnpickler\u001b[0m\u001b[0;34m.\u001b[0m\u001b[0mload\u001b[0m\u001b[0;34m(\u001b[0m\u001b[0mself\u001b[0m\u001b[0;34m)\u001b[0m\u001b[0;34m\u001b[0m\u001b[0;34m\u001b[0m\u001b[0m\n\u001b[0m\u001b[1;32m    526\u001b[0m         \u001b[0;32mif\u001b[0m \u001b[0mtype\u001b[0m\u001b[0;34m(\u001b[0m\u001b[0mobj\u001b[0m\u001b[0;34m)\u001b[0m\u001b[0;34m.\u001b[0m\u001b[0m__module__\u001b[0m \u001b[0;34m==\u001b[0m \u001b[0mgetattr\u001b[0m\u001b[0;34m(\u001b[0m\u001b[0m_main_module\u001b[0m\u001b[0;34m,\u001b[0m \u001b[0;34m'__name__'\u001b[0m\u001b[0;34m,\u001b[0m \u001b[0;34m'__main__'\u001b[0m\u001b[0;34m)\u001b[0m\u001b[0;34m:\u001b[0m\u001b[0;34m\u001b[0m\u001b[0;34m\u001b[0m\u001b[0m\n\u001b[1;32m    527\u001b[0m             \u001b[0;32mif\u001b[0m \u001b[0;32mnot\u001b[0m \u001b[0mself\u001b[0m\u001b[0;34m.\u001b[0m\u001b[0m_ignore\u001b[0m\u001b[0;34m:\u001b[0m\u001b[0;34m\u001b[0m\u001b[0;34m\u001b[0m\u001b[0m\n",
      "\u001b[0;32m/home/tarek/anaconda3/envs/brain_torch/lib/python3.7/site-packages/xgboost/core.py\u001b[0m in \u001b[0;36m__setstate__\u001b[0;34m(self, state)\u001b[0m\n\u001b[1;32m   1002\u001b[0m             \u001b[0mptr\u001b[0m \u001b[0;34m=\u001b[0m \u001b[0;34m(\u001b[0m\u001b[0mctypes\u001b[0m\u001b[0;34m.\u001b[0m\u001b[0mc_char\u001b[0m \u001b[0;34m*\u001b[0m \u001b[0mlen\u001b[0m\u001b[0;34m(\u001b[0m\u001b[0mbuf\u001b[0m\u001b[0;34m)\u001b[0m\u001b[0;34m)\u001b[0m\u001b[0;34m.\u001b[0m\u001b[0mfrom_buffer\u001b[0m\u001b[0;34m(\u001b[0m\u001b[0mbuf\u001b[0m\u001b[0;34m)\u001b[0m\u001b[0;34m\u001b[0m\u001b[0;34m\u001b[0m\u001b[0m\n\u001b[1;32m   1003\u001b[0m             _check_call(\n\u001b[0;32m-> 1004\u001b[0;31m                 _LIB.XGBoosterUnserializeFromBuffer(handle, ptr, length))\n\u001b[0m\u001b[1;32m   1005\u001b[0m             \u001b[0mstate\u001b[0m\u001b[0;34m[\u001b[0m\u001b[0;34m'handle'\u001b[0m\u001b[0;34m]\u001b[0m \u001b[0;34m=\u001b[0m \u001b[0mhandle\u001b[0m\u001b[0;34m\u001b[0m\u001b[0;34m\u001b[0m\u001b[0m\n\u001b[1;32m   1006\u001b[0m         \u001b[0mself\u001b[0m\u001b[0;34m.\u001b[0m\u001b[0m__dict__\u001b[0m\u001b[0;34m.\u001b[0m\u001b[0mupdate\u001b[0m\u001b[0;34m(\u001b[0m\u001b[0mstate\u001b[0m\u001b[0;34m)\u001b[0m\u001b[0;34m\u001b[0m\u001b[0;34m\u001b[0m\u001b[0m\n",
      "\u001b[0;32m/home/tarek/anaconda3/envs/brain_torch/lib/python3.7/site-packages/xgboost/core.py\u001b[0m in \u001b[0;36m_check_call\u001b[0;34m(ret)\u001b[0m\n\u001b[1;32m    186\u001b[0m     \"\"\"\n\u001b[1;32m    187\u001b[0m     \u001b[0;32mif\u001b[0m \u001b[0mret\u001b[0m \u001b[0;34m!=\u001b[0m \u001b[0;36m0\u001b[0m\u001b[0;34m:\u001b[0m\u001b[0;34m\u001b[0m\u001b[0;34m\u001b[0m\u001b[0m\n\u001b[0;32m--> 188\u001b[0;31m         \u001b[0;32mraise\u001b[0m \u001b[0mXGBoostError\u001b[0m\u001b[0;34m(\u001b[0m\u001b[0mpy_str\u001b[0m\u001b[0;34m(\u001b[0m\u001b[0m_LIB\u001b[0m\u001b[0;34m.\u001b[0m\u001b[0mXGBGetLastError\u001b[0m\u001b[0;34m(\u001b[0m\u001b[0;34m)\u001b[0m\u001b[0;34m)\u001b[0m\u001b[0;34m)\u001b[0m\u001b[0;34m\u001b[0m\u001b[0;34m\u001b[0m\u001b[0m\n\u001b[0m\u001b[1;32m    189\u001b[0m \u001b[0;34m\u001b[0m\u001b[0m\n\u001b[1;32m    190\u001b[0m \u001b[0;34m\u001b[0m\u001b[0m\n",
      "\u001b[0;31mXGBoostError\u001b[0m: [19:04:46] /home/conda/feedstock_root/build_artifacts/xgboost_1598185621802/work/include/xgboost/json.h:65: Invalid cast, from Null to Array\nStack trace:\n  [bt] (0) /home/tarek/anaconda3/envs/brain_torch/lib/libxgboost.so(xgboost::JsonArray const* xgboost::Cast<xgboost::JsonArray const, xgboost::Value>(xgboost::Value*)+0x7b9) [0x7f3948d36a19]\n  [bt] (1) /home/tarek/anaconda3/envs/brain_torch/lib/libxgboost.so(xgboost::RegTree::LoadModel(xgboost::Json const&)+0x419) [0x7f3948eaf949]\n  [bt] (2) /home/tarek/anaconda3/envs/brain_torch/lib/libxgboost.so(xgboost::gbm::GBTreeModel::LoadModel(xgboost::Json const&)+0x668) [0x7f3948dbb9e8]\n  [bt] (3) /home/tarek/anaconda3/envs/brain_torch/lib/libxgboost.so(xgboost::gbm::GBTree::LoadModel(xgboost::Json const&)+0x13e) [0x7f3948da61de]\n  [bt] (4) /home/tarek/anaconda3/envs/brain_torch/lib/libxgboost.so(+0x169f87) [0x7f3948da6f87]\n  [bt] (5) /home/tarek/anaconda3/envs/brain_torch/lib/libxgboost.so(+0x197e14) [0x7f3948dd4e14]\n  [bt] (6) /home/tarek/anaconda3/envs/brain_torch/lib/libxgboost.so(+0x1a1e49) [0x7f3948ddee49]\n  [bt] (7) /home/tarek/anaconda3/envs/brain_torch/lib/libxgboost.so(XGBoosterUnserializeFromBuffer+0x5e) [0x7f3948cc7fbe]\n  [bt] (8) /home/tarek/anaconda3/envs/brain_torch/lib/python3.7/lib-dynload/../../libffi.so.7(+0x69dd) [0x7f3978ba19dd]\n\n"
     ]
    }
   ],
   "metadata": {}
  },
  {
   "cell_type": "code",
   "execution_count": null,
   "source": [],
   "outputs": [],
   "metadata": {}
  }
 ],
 "metadata": {
  "orig_nbformat": 4,
  "language_info": {
   "name": "python",
   "version": "3.7.9",
   "mimetype": "text/x-python",
   "codemirror_mode": {
    "name": "ipython",
    "version": 3
   },
   "pygments_lexer": "ipython3",
   "nbconvert_exporter": "python",
   "file_extension": ".py"
  },
  "kernelspec": {
   "name": "python3",
   "display_name": "Python 3.7.9 64-bit ('brain_torch': conda)"
  },
  "interpreter": {
   "hash": "32ef1712fdb0b1272892a0eb0e5591f901be0908f42b821ea0e19420acbb4b89"
  }
 },
 "nbformat": 4,
 "nbformat_minor": 2
}