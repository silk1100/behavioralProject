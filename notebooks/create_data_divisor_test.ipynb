{
 "cells": [
  {
   "cell_type": "code",
   "execution_count": 2,
   "source": [
    "import pandas as pd\r\n",
    "import os"
   ],
   "outputs": [],
   "metadata": {}
  },
  {
   "cell_type": "code",
   "execution_count": 5,
   "source": [
    "main_dir = \"../data/data_divisor_test/\"\r\n",
    "percentile = False\r\n",
    "percentile_file_name = \"percentile_SRS_temp_T.csv\"\r\n",
    "medianiqr_file_name = \"medianMmedianP_SRS_temp_T.csv\"\r\n",
    "fldrs2srsmap = {\r\n",
    "    'srs_awar':\"AWARENESS\",\r\n",
    "    'srs_cog':\"COGNITION\",\r\n",
    "    \"srs_comm\":\"COMMUNICATION\",\r\n",
    "    \"srs_manner\": \"MANNERISMS\",\r\n",
    "    \"srs_mot\":\"MOTIVATION\",\r\n",
    "    \"srs_total\":\"TOTAL\"\r\n",
    "}\r\n",
    "number_of_subjects2keep = 40\r\n",
    "group1 = \"TD\"\r\n",
    "group2 = \"sever\""
   ],
   "outputs": [],
   "metadata": {}
  },
  {
   "cell_type": "code",
   "execution_count": 6,
   "source": [
    "for fldr in [x for x in os.listdir(main_dir) if os.path.isdir(os.path.join(main_dir,x)) and not x.startswith('.')]:\r\n",
    "    if percentile:\r\n",
    "        df = pd.read_csv(os.path.join(main_dir, fldr, percentile_file_name.replace(\"temp\",fldrs2srsmap[fldr])), index_col=0)\r\n",
    "    else:\r\n",
    "        df = pd.read_csv(os.path.join(main_dir, fldr, medianiqr_file_name.replace(\"temp\",fldrs2srsmap[fldr])), index_col=0)\r\n",
    "    \r\n",
    "    df_td = df[df[f\"categories_{fldrs2srsmap[fldr]}\"]==group1]\r\n",
    "    df_asd = df[df[f\"categories_{fldrs2srsmap[fldr]}\"]==group2]\r\n",
    "    df_td_sampled = df_td.sample(n=number_of_subjects2keep//2)\r\n",
    "    df_asd_sampled = df_asd.sample(n=number_of_subjects2keep//2)\r\n",
    "    new_df = pd.concat([df_td_sampled, df_asd_sampled], axis=0).sample(frac=1)\r\n",
    "    if percentile:\r\n",
    "        new_df.to_csv(os.path.join(main_dir, fldr, percentile_file_name.replace(\"temp\",fldrs2srsmap[fldr])))\r\n",
    "    else:\r\n",
    "        new_df.to_csv(os.path.join(main_dir, fldr, medianiqr_file_name.replace(\"temp\",fldrs2srsmap[fldr])))\r\n",
    "    "
   ],
   "outputs": [],
   "metadata": {}
  },
  {
   "cell_type": "code",
   "execution_count": 36,
   "source": [
    "os.path.join(main_dir, fldr, medianiqr_file_name.replace(\"temp\",fldrs2srsmap[fldr]))"
   ],
   "outputs": [
    {
     "output_type": "execute_result",
     "data": {
      "text/plain": [
       "'../data/data_divisor_test/srs_mot/SRS_MOTIVATION_T.csv'"
      ]
     },
     "metadata": {},
     "execution_count": 36
    }
   ],
   "metadata": {}
  },
  {
   "cell_type": "code",
   "execution_count": 19,
   "source": [
    "df.categories_COGNITION.value_counts()"
   ],
   "outputs": [
    {
     "output_type": "execute_result",
     "data": {
      "text/plain": [
       "TD          442\n",
       "sever       128\n",
       "moderate    101\n",
       "mild         57\n",
       "Name: categories_COGNITION, dtype: int64"
      ]
     },
     "metadata": {},
     "execution_count": 19
    }
   ],
   "metadata": {}
  },
  {
   "cell_type": "code",
   "execution_count": null,
   "source": [],
   "outputs": [],
   "metadata": {}
  }
 ],
 "metadata": {
  "orig_nbformat": 4,
  "language_info": {
   "name": "python",
   "version": "3.7.9",
   "mimetype": "text/x-python",
   "codemirror_mode": {
    "name": "ipython",
    "version": 3
   },
   "pygments_lexer": "ipython3",
   "nbconvert_exporter": "python",
   "file_extension": ".py"
  },
  "kernelspec": {
   "name": "python3",
   "display_name": "Python 3.7.9 64-bit ('brain_torch': conda)"
  },
  "interpreter": {
   "hash": "169a73084fb5035b042011a12ba7add2514f1ab95c1535ba5df082a9592678f6"
  }
 },
 "nbformat": 4,
 "nbformat_minor": 2
}