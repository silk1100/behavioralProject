{
 "cells": [
  {
   "cell_type": "code",
   "execution_count": 41,
   "source": [
    "import pandas as pd\n",
    "import os"
   ],
   "outputs": [],
   "metadata": {}
  },
  {
   "cell_type": "code",
   "execution_count": 44,
   "source": [
    "main_dir = \"../data/data_divisor_test/\"\n",
    "percentile = False\n",
    "percentile_file_name = \"percentile_SRS_temp_T.csv\"\n",
    "medianiqr_file_name = \"SRS_temp_T.csv\"\n",
    "fldrs2srsmap = {\n",
    "    'srs_awar':\"AWARENESS\",\n",
    "    'srs_cog':\"COGNITION\",\n",
    "    \"srs_comm\":\"COMMUNICATION\",\n",
    "    \"srs_manner\": \"MANNERISMS\",\n",
    "    \"srs_mot\":\"MOTIVATION\",\n",
    "    \"srs_total\":\"TOTAL\"\n",
    "}\n",
    "number_of_subjects2keep = 100\n",
    "group1 = \"TD\"\n",
    "group2 = \"sever\""
   ],
   "outputs": [],
   "metadata": {}
  },
  {
   "cell_type": "code",
   "execution_count": 45,
   "source": [
    "for fldr in [x for x in os.listdir(main_dir) if os.path.isdir(os.path.join(main_dir,x)) and not x.startswith('.')]:\n",
    "    if percentile:\n",
    "        df = pd.read_csv(os.path.join(main_dir, fldr, percentile_file_name.replace(\"temp\",fldrs2srsmap[fldr])), index_col=0)\n",
    "    else:\n",
    "        df = pd.read_csv(os.path.join(main_dir, fldr, medianiqr_file_name.replace(\"temp\",fldrs2srsmap[fldr])), index_col=0)\n",
    "    \n",
    "    df_td = df[df[f\"categories_{fldrs2srsmap[fldr]}\"]==group1]\n",
    "    df_asd = df[df[f\"categories_{fldrs2srsmap[fldr]}\"]==group2]\n",
    "    df_td_sampled = df_td.sample(n=number_of_subjects2keep//2)\n",
    "    df_asd_sampled = df_asd.sample(n=number_of_subjects2keep//2)\n",
    "    new_df = pd.concat([df_td_sampled, df_asd_sampled], axis=0).sample(frac=1)\n",
    "    if percentile:\n",
    "        new_df.to_csv(os.path.join(main_dir, fldr, percentile_file_name.replace(\"temp\",fldrs2srsmap[fldr])))\n",
    "    else:\n",
    "        new_df.to_csv(os.path.join(main_dir, fldr, medianiqr_file_name.replace(\"temp\",fldrs2srsmap[fldr])))\n",
    "    "
   ],
   "outputs": [],
   "metadata": {}
  },
  {
   "cell_type": "code",
   "execution_count": 36,
   "source": [
    "os.path.join(main_dir, fldr, medianiqr_file_name.replace(\"temp\",fldrs2srsmap[fldr]))"
   ],
   "outputs": [
    {
     "output_type": "execute_result",
     "data": {
      "text/plain": [
       "'../data/data_divisor_test/srs_mot/SRS_MOTIVATION_T.csv'"
      ]
     },
     "metadata": {},
     "execution_count": 36
    }
   ],
   "metadata": {}
  },
  {
   "cell_type": "code",
   "execution_count": 19,
   "source": [
    "df.categories_COGNITION.value_counts()"
   ],
   "outputs": [
    {
     "output_type": "execute_result",
     "data": {
      "text/plain": [
       "TD          442\n",
       "sever       128\n",
       "moderate    101\n",
       "mild         57\n",
       "Name: categories_COGNITION, dtype: int64"
      ]
     },
     "metadata": {},
     "execution_count": 19
    }
   ],
   "metadata": {}
  },
  {
   "cell_type": "code",
   "execution_count": null,
   "source": [],
   "outputs": [],
   "metadata": {}
  }
 ],
 "metadata": {
  "orig_nbformat": 4,
  "language_info": {
   "name": "python",
   "version": "3.7.9",
   "mimetype": "text/x-python",
   "codemirror_mode": {
    "name": "ipython",
    "version": 3
   },
   "pygments_lexer": "ipython3",
   "nbconvert_exporter": "python",
   "file_extension": ".py"
  },
  "kernelspec": {
   "name": "python3",
   "display_name": "Python 3.7.9 64-bit ('brain_torch': conda)"
  },
  "interpreter": {
   "hash": "32ef1712fdb0b1272892a0eb0e5591f901be0908f42b821ea0e19420acbb4b89"
  }
 },
 "nbformat": 4,
 "nbformat_minor": 2
}