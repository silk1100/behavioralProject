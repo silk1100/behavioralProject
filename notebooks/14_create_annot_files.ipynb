{
 "cells": [
  {
   "cell_type": "code",
   "execution_count": 28,
   "id": "0fcfd5aa-d336-4b77-bcf4-82805e768678",
   "metadata": {},
   "outputs": [],
   "source": [
    "from nibabel.freesurfer import io as fio\n",
    "import os\n",
    "import numpy as np\n",
    "import json"
   ]
  },
  {
   "cell_type": "markdown",
   "id": "875254ab-8556-4d35-8a33-6ecabc5c7173",
   "metadata": {},
   "source": [
    "### Custom brann regions\n"
   ]
  },
  {
   "cell_type": "code",
   "execution_count": 5,
   "id": "fc7edca2-f4f9-45c4-af7d-5153f3e4c443",
   "metadata": {},
   "outputs": [],
   "source": [
    "full_path = os.environ['FREESURFER_SUBJECTS']"
   ]
  },
  {
   "cell_type": "code",
   "execution_count": 8,
   "id": "6a14f050-9eb9-43c0-80e5-c4ee7ec0afbb",
   "metadata": {},
   "outputs": [],
   "source": [
    "random_subj = os.listdir(full_path)[0]"
   ]
  },
  {
   "cell_type": "code",
   "execution_count": 14,
   "id": "ae02cef5-8b73-4198-b76a-41531939e830",
   "metadata": {},
   "outputs": [],
   "source": [
    "label_dir = os.path.join(full_path, random_subj, 'label', 'rh.aparc.annot') "
   ]
  },
  {
   "cell_type": "code",
   "execution_count": 16,
   "id": "c2f5d6de-eb21-4971-8c03-6ad2f62ae08e",
   "metadata": {},
   "outputs": [],
   "source": [
    "labels, ctab, names = fio.read_annot(label_dir)"
   ]
  },
  {
   "cell_type": "code",
   "execution_count": 17,
   "id": "f0c07723-8250-4b9f-a8ba-7e472ffefd6b",
   "metadata": {},
   "outputs": [
    {
     "data": {
      "text/plain": [
       "array([-1,  1,  2,  3,  5,  6,  7,  8,  9, 10, 11, 12, 13, 14, 15, 16, 17,\n",
       "       18, 19, 20, 21, 22, 23, 24, 25, 26, 27, 28, 29, 30, 31, 32, 33, 34,\n",
       "       35], dtype=int32)"
      ]
     },
     "execution_count": 17,
     "metadata": {},
     "output_type": "execute_result"
    }
   ],
   "source": [
    "np.unique(labels)"
   ]
  },
  {
   "cell_type": "code",
   "execution_count": 19,
   "id": "49631411-59a9-4aa9-9628-060dfdd7a084",
   "metadata": {},
   "outputs": [
    {
     "data": {
      "text/plain": [
       "(36, 5)"
      ]
     },
     "execution_count": 19,
     "metadata": {},
     "output_type": "execute_result"
    }
   ],
   "source": [
    "ctab.shape"
   ]
  },
  {
   "cell_type": "code",
   "execution_count": 22,
   "id": "d0ec26ff-1f3b-4316-9daf-f2662cd98887",
   "metadata": {
    "collapsed": true,
    "jupyter": {
     "outputs_hidden": true
    },
    "tags": []
   },
   "outputs": [
    {
     "data": {
      "text/plain": [
       "(36,\n",
       " [b'unknown',\n",
       "  b'bankssts',\n",
       "  b'caudalanteriorcingulate',\n",
       "  b'caudalmiddlefrontal',\n",
       "  b'corpuscallosum',\n",
       "  b'cuneus',\n",
       "  b'entorhinal',\n",
       "  b'fusiform',\n",
       "  b'inferiorparietal',\n",
       "  b'inferiortemporal',\n",
       "  b'isthmuscingulate',\n",
       "  b'lateraloccipital',\n",
       "  b'lateralorbitofrontal',\n",
       "  b'lingual',\n",
       "  b'medialorbitofrontal',\n",
       "  b'middletemporal',\n",
       "  b'parahippocampal',\n",
       "  b'paracentral',\n",
       "  b'parsopercularis',\n",
       "  b'parsorbitalis',\n",
       "  b'parstriangularis',\n",
       "  b'pericalcarine',\n",
       "  b'postcentral',\n",
       "  b'posteriorcingulate',\n",
       "  b'precentral',\n",
       "  b'precuneus',\n",
       "  b'rostralanteriorcingulate',\n",
       "  b'rostralmiddlefrontal',\n",
       "  b'superiorfrontal',\n",
       "  b'superiorparietal',\n",
       "  b'superiortemporal',\n",
       "  b'supramarginal',\n",
       "  b'frontalpole',\n",
       "  b'temporalpole',\n",
       "  b'transversetemporal',\n",
       "  b'insula'])"
      ]
     },
     "execution_count": 22,
     "metadata": {},
     "output_type": "execute_result"
    }
   ],
   "source": [
    "len(names), names"
   ]
  },
  {
   "cell_type": "code",
   "execution_count": 27,
   "id": "c4b8f0f0-0847-45dd-9ad8-fe486c2fd0b3",
   "metadata": {},
   "outputs": [
    {
     "name": "stdout",
     "output_type": "stream",
     "text": [
      "1\n",
      "bankssts\n"
     ]
    }
   ],
   "source": [
    "for idx, name in enumerate(names[1:], start=1):\n",
    "    print(idx)\n",
    "    print(name.decode('utf-8'))\n",
    "    break"
   ]
  },
  {
   "cell_type": "code",
   "execution_count": 25,
   "id": "a504361e-bb5f-406f-b079-f5b177a9acb3",
   "metadata": {},
   "outputs": [],
   "source": [
    "bnamelabels = np.where(labels==1)[0]"
   ]
  },
  {
   "cell_type": "code",
   "execution_count": null,
   "id": "f374dfcd-c174-4ba3-8f33-a0151cb7b4bc",
   "metadata": {},
   "outputs": [],
   "source": []
  }
 ],
 "metadata": {
  "kernelspec": {
   "display_name": "Python 3 (ipykernel)",
   "language": "python",
   "name": "python3"
  },
  "language_info": {
   "codemirror_mode": {
    "name": "ipython",
    "version": 3
   },
   "file_extension": ".py",
   "mimetype": "text/x-python",
   "name": "python",
   "nbconvert_exporter": "python",
   "pygments_lexer": "ipython3",
   "version": "3.9.7"
  }
 },
 "nbformat": 4,
 "nbformat_minor": 5
}
