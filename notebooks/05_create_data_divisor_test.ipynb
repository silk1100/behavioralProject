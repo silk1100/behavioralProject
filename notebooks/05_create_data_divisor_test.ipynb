{
 "cells": [
  {
   "cell_type": "code",
   "execution_count": 2,
   "metadata": {},
   "outputs": [],
   "source": [
    "import pandas as pd\n",
    "import os"
   ]
  },
  {
   "cell_type": "code",
   "execution_count": 5,
   "metadata": {},
   "outputs": [],
   "source": [
    "main_dir = \"../data/data_divisor\"\n",
    "output_dir = \"../data/data_divisor_test/\"\n",
    "percentile = True\n",
    "percentile_file_name = \"percentile_SRS_temp_T.csv\"\n",
    "medianiqr_file_name = \"medianMmedianP_SRS_temp_T.csv\"\n",
    "fldrs2srsmap = {\n",
    "    'srs_awar':\"AWARENESS\",\n",
    "    'srs_cog':\"COGNITION\",\n",
    "    \"srs_comm\":\"COMMUNICATION\",\n",
    "    \"srs_manner\": \"MANNERISMS\",\n",
    "    \"srs_mot\":\"MOTIVATION\",\n",
    "    \"srs_total\":\"TOTAL\"\n",
    "}\n",
    "number_of_subjects2keep = 40\n",
    "group1 = \"TD\"\n",
    "group2 = \"mild\""
   ]
  },
  {
   "cell_type": "code",
   "execution_count": 6,
   "metadata": {},
   "outputs": [
    {
     "name": "stdout",
     "output_type": "stream",
     "text": [
      "TD SIZE: 442\n",
      "ASD SIZE: 57\n",
      "TD SIZE: 445\n",
      "ASD SIZE: 74\n",
      "TD SIZE: 419\n",
      "ASD SIZE: 48\n",
      "TD SIZE: 430\n",
      "ASD SIZE: 50\n",
      "TD SIZE: 426\n",
      "ASD SIZE: 36\n",
      "TD SIZE: 457\n",
      "ASD SIZE: 55\n"
     ]
    }
   ],
   "source": [
    "for fldr in [x for x in os.listdir(main_dir) if os.path.isdir(os.path.join(main_dir,x)) and not x.startswith('.')]:\n",
    "    if percentile:\n",
    "        df = pd.read_csv(os.path.join(main_dir, fldr, percentile_file_name.replace(\"temp\",fldrs2srsmap[fldr])), index_col=0)\n",
    "    else:\n",
    "        df = pd.read_csv(os.path.join(main_dir, fldr, medianiqr_file_name.replace(\"temp\",fldrs2srsmap[fldr])), index_col=0)\n",
    "    \n",
    "    df_td = df[df[f\"categories_{fldrs2srsmap[fldr]}\"]==group1]\n",
    "    df_asd = df[df[f\"categories_{fldrs2srsmap[fldr]}\"]==group2]\n",
    "    print(f\"TD SIZE: {len(df_td)}\")\n",
    "    print(f\"ASD SIZE: {len(df_asd)}\")\n",
    "    \n",
    "    df_td_sampled = df_td.sample(n=number_of_subjects2keep//2)\n",
    "    df_asd_sampled = df_asd.sample(n=number_of_subjects2keep//2)\n",
    "    new_df = pd.concat([df_td_sampled, df_asd_sampled], axis=0).sample(frac=1)\n",
    "    if percentile:\n",
    "        new_df.to_csv(os.path.join(output_dir, fldr, percentile_file_name.replace(\"temp\",fldrs2srsmap[fldr])))\n",
    "    else:\n",
    "        new_df.to_csv(os.path.join(output_dir, fldr, medianiqr_file_name.replace(\"temp\",fldrs2srsmap[fldr])))\n",
    "    "
   ]
  },
  {
   "cell_type": "code",
   "execution_count": 36,
   "metadata": {},
   "outputs": [
    {
     "data": {
      "text/plain": [
       "'../data/data_divisor_test/srs_mot/SRS_MOTIVATION_T.csv'"
      ]
     },
     "execution_count": 36,
     "metadata": {},
     "output_type": "execute_result"
    }
   ],
   "source": [
    "os.path.join(main_dir, fldr, medianiqr_file_name.replace(\"temp\",fldrs2srsmap[fldr]))"
   ]
  },
  {
   "cell_type": "code",
   "execution_count": 19,
   "metadata": {},
   "outputs": [
    {
     "data": {
      "text/plain": [
       "TD          442\n",
       "sever       128\n",
       "moderate    101\n",
       "mild         57\n",
       "Name: categories_COGNITION, dtype: int64"
      ]
     },
     "execution_count": 19,
     "metadata": {},
     "output_type": "execute_result"
    }
   ],
   "source": [
    "df.categories_COGNITION.value_counts()"
   ]
  },
  {
   "cell_type": "markdown",
   "metadata": {},
   "source": []
  },
  {
   "cell_type": "markdown",
   "metadata": {},
   "source": []
  },
  {
   "cell_type": "code",
   "execution_count": null,
   "metadata": {},
   "outputs": [],
   "source": []
  }
 ],
 "metadata": {
  "interpreter": {
   "hash": "32ef1712fdb0b1272892a0eb0e5591f901be0908f42b821ea0e19420acbb4b89"
  },
  "kernelspec": {
   "display_name": "Python 3",
   "language": "python",
   "name": "python3"
  },
  "language_info": {
   "codemirror_mode": {
    "name": "ipython",
    "version": 3
   },
   "file_extension": ".py",
   "mimetype": "text/x-python",
   "name": "python",
   "nbconvert_exporter": "python",
   "pygments_lexer": "ipython3",
   "version": "3.7.9"
  }
 },
 "nbformat": 4,
 "nbformat_minor": 4
}
