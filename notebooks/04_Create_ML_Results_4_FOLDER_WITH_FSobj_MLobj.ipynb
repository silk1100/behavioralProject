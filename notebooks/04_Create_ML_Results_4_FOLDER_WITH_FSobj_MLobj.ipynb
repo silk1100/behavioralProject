{
 "cells": [
  {
   "cell_type": "code",
   "execution_count": 1,
   "metadata": {},
   "outputs": [],
   "source": [
    "import dill\n",
    "import numpy as np\n",
    "import pandas as pd\n",
    "from sklearn.preprocessing import MinMaxScaler, StandardScaler\n",
    "from sklearn.model_selection import train_test_split\n",
    "from sklearn.metrics import confusion_matrix"
   ]
  },
  {
   "cell_type": "code",
   "execution_count": 2,
   "metadata": {},
   "outputs": [
    {
     "name": "stderr",
     "output_type": "stream",
     "text": [
      "C:\\Users\\bioen\\.conda\\envs\\brain_torch\\lib\\site-packages\\sklearn\\base.py:315: UserWarning: Trying to unpickle estimator LogisticRegression from version 0.23.2 when using version 0.24.2. This might lead to breaking code or invalid results. Use at your own risk.\n",
      "  UserWarning)\n",
      "C:\\Users\\bioen\\.conda\\envs\\brain_torch\\lib\\site-packages\\sklearn\\base.py:315: UserWarning: Trying to unpickle estimator RFECV from version 0.23.2 when using version 0.24.2. This might lead to breaking code or invalid results. Use at your own risk.\n",
      "  UserWarning)\n",
      "C:\\Users\\bioen\\.conda\\envs\\brain_torch\\lib\\site-packages\\sklearn\\base.py:315: UserWarning: Trying to unpickle estimator LinearSVC from version 0.23.2 when using version 0.24.2. This might lead to breaking code or invalid results. Use at your own risk.\n",
      "  UserWarning)\n",
      "C:\\Users\\bioen\\.conda\\envs\\brain_torch\\lib\\site-packages\\sklearn\\base.py:315: UserWarning: Trying to unpickle estimator DecisionTreeClassifier from version 0.23.2 when using version 0.24.2. This might lead to breaking code or invalid results. Use at your own risk.\n",
      "  UserWarning)\n",
      "C:\\Users\\bioen\\.conda\\envs\\brain_torch\\lib\\site-packages\\sklearn\\base.py:315: UserWarning: Trying to unpickle estimator RandomForestClassifier from version 0.23.2 when using version 0.24.2. This might lead to breaking code or invalid results. Use at your own risk.\n",
      "  UserWarning)\n",
      "C:\\Users\\bioen\\.conda\\envs\\brain_torch\\lib\\site-packages\\sklearn\\base.py:315: UserWarning: Trying to unpickle estimator GradientBoostingClassifier from version 0.23.2 when using version 0.24.2. This might lead to breaking code or invalid results. Use at your own risk.\n",
      "  UserWarning)\n",
      "C:\\Users\\bioen\\.conda\\envs\\brain_torch\\lib\\site-packages\\sklearn\\base.py:315: UserWarning: Trying to unpickle estimator DummyClassifier from version 0.23.2 when using version 0.24.2. This might lead to breaking code or invalid results. Use at your own risk.\n",
      "  UserWarning)\n",
      "C:\\Users\\bioen\\.conda\\envs\\brain_torch\\lib\\site-packages\\sklearn\\base.py:315: UserWarning: Trying to unpickle estimator DecisionTreeRegressor from version 0.23.2 when using version 0.24.2. This might lead to breaking code or invalid results. Use at your own risk.\n",
      "  UserWarning)\n",
      "C:\\Users\\bioen\\.conda\\envs\\brain_torch\\lib\\site-packages\\sklearn\\base.py:315: UserWarning: Trying to unpickle estimator MLPClassifier from version 0.23.2 when using version 0.24.2. This might lead to breaking code or invalid results. Use at your own risk.\n",
      "  UserWarning)\n",
      "C:\\Users\\bioen\\.conda\\envs\\brain_torch\\lib\\site-packages\\sklearn\\base.py:315: UserWarning: Trying to unpickle estimator LabelBinarizer from version 0.23.2 when using version 0.24.2. This might lead to breaking code or invalid results. Use at your own risk.\n",
      "  UserWarning)\n",
      "C:\\Users\\bioen\\.conda\\envs\\brain_torch\\lib\\site-packages\\sklearn\\base.py:315: UserWarning: Trying to unpickle estimator RandomizedSearchCV from version 0.23.2 when using version 0.24.2. This might lead to breaking code or invalid results. Use at your own risk.\n",
      "  UserWarning)\n"
     ]
    }
   ],
   "source": [
    "with open('../models/20210524_211225/FS_obj.p', 'rb') as f:\n",
    "    fsobj = dill.load(f)\n",
    "    \n",
    "with open('../models/20210524_211225/ML_obj.p', 'rb') as f:\n",
    "    mlobj = dill.load(f)\n"
   ]
  },
  {
   "cell_type": "code",
   "execution_count": 3,
   "metadata": {},
   "outputs": [
    {
     "data": {
      "text/plain": [
       "Index(['area_lbankssts_medM2080', 'area_lbankssts_medP2080',\n",
       "       'area_lcaudalanteriorcingulate_medM2080',\n",
       "       'area_lcaudalanteriorcingulate_medP2080',\n",
       "       'area_lcaudalmiddlefrontal_medM2080',\n",
       "       'area_lcaudalmiddlefrontal_medP2080', 'area_lcuneus_medM2080',\n",
       "       'area_lcuneus_medP2080', 'area_lentorhinal_medM2080',\n",
       "       'area_lentorhinal_medP2080',\n",
       "       ...\n",
       "       'volume_rtemporalpole_medM2080', 'volume_rtemporalpole_medP2080',\n",
       "       'volume_rtransversetemporal_medM2080',\n",
       "       'volume_rtransversetemporal_medP2080', 'DX_GROUP', 'AGE_AT_SCAN ',\n",
       "       'SEX', 'SRS_COMMUNICATION_T', 'categories_COMMUNICATION', 'my_labels'],\n",
       "      dtype='object', length=550)"
      ]
     },
     "execution_count": 3,
     "metadata": {},
     "output_type": "execute_result"
    }
   ],
   "source": [
    "df = pd.read_csv('../models/20210524_211225/group_df_afterFixation.csv', index_col='subj_id')\n",
    "df.columns"
   ]
  },
  {
   "cell_type": "code",
   "execution_count": 4,
   "metadata": {},
   "outputs": [],
   "source": [
    "df.drop(['SEX','AGE_AT_SCAN ', 'DX_GROUP', 'SRS_COMMUNICATION_T','categories_COMMUNICATION'], axis=1, inplace=True)\n",
    "df.rename({'my_labels':'DX_GROUP'}, axis=1, inplace=True)"
   ]
  },
  {
   "cell_type": "code",
   "execution_count": 5,
   "metadata": {},
   "outputs": [],
   "source": [
    "y = df['DX_GROUP']\n",
    "Xs = MinMaxScaler().fit_transform(df.drop('DX_GROUP', axis=1))"
   ]
  },
  {
   "cell_type": "code",
   "execution_count": 6,
   "metadata": {},
   "outputs": [],
   "source": [
    "Xselected = {}\n",
    "for key, fs in fsobj.items():\n",
    "    Xselected[key] = Xs[:, np.where(fs.support_)[0]]"
   ]
  },
  {
   "cell_type": "code",
   "execution_count": 10,
   "metadata": {},
   "outputs": [
    {
     "name": "stdout",
     "output_type": "stream",
     "text": [
      "Features selected with lr and ML model is nn\n",
      "[[ 0 17]\n",
      " [ 0 17]]\n",
      "Features selected with lsvm and ML model is nn\n",
      "[[17  0]\n",
      " [17  0]]\n",
      "Features selected with xgb and ML model is nn\n",
      "[[12  5]\n",
      " [ 8  9]]\n",
      "Features selected with rf and ML model is nn\n",
      "[[ 4 13]\n",
      " [ 6 11]]\n",
      "Features selected with gradboost and ML model is nn\n",
      "[[ 7 10]\n",
      " [ 5 12]]\n"
     ]
    }
   ],
   "source": [
    "for fkey, Xsele in Xselected.items():\n",
    "    for mkey, ml in mlobj[fkey].items():\n",
    "        Xtrain, Xtest, ytrain, ytest = train_test_split(Xsele, y, test_size=0.1, random_state=114, shuffle=True, stratify=y.values)\n",
    "        est = ml.best_estimator_\n",
    "        est.fit(Xtrain, ytrain)\n",
    "        yhat = est.predict(Xtest)\n",
    "        print(f'Features selected with {fkey} and ML model is {mkey}')\n",
    "        print(confusion_matrix(ytest, yhat))"
   ]
  },
  {
   "cell_type": "code",
   "execution_count": 10,
   "metadata": {},
   "outputs": [
    {
     "data": {
      "text/plain": [
       "(332,)"
      ]
     },
     "execution_count": 10,
     "metadata": {},
     "output_type": "execute_result"
    }
   ],
   "source": [
    "y.values.shape"
   ]
  },
  {
   "cell_type": "code",
   "execution_count": 11,
   "metadata": {},
   "outputs": [
    {
     "data": {
      "text/plain": [
       "(332, 34)"
      ]
     },
     "execution_count": 11,
     "metadata": {},
     "output_type": "execute_result"
    }
   ],
   "source": [
    "Xsele.shape"
   ]
  },
  {
   "cell_type": "code",
   "execution_count": null,
   "metadata": {},
   "outputs": [],
   "source": []
  }
 ],
 "metadata": {
  "kernelspec": {
   "display_name": "Python [conda env:.conda-brain_torch]",
   "language": "python",
   "name": "conda-env-.conda-brain_torch-py"
  },
  "language_info": {
   "codemirror_mode": {
    "name": "ipython",
    "version": 3
   },
   "file_extension": ".py",
   "mimetype": "text/x-python",
   "name": "python",
   "nbconvert_exporter": "python",
   "pygments_lexer": "ipython3",
   "version": "3.7.9"
  }
 },
 "nbformat": 4,
 "nbformat_minor": 4
}
