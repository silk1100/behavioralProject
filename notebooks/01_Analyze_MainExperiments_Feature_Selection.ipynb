{
 "cells": [
  {
   "cell_type": "markdown",
   "source": [
    "# Goals:\n",
    "## 1. Design and implement an analysis pipeline to highlight the important findings of each experiment\n",
    "## 2. Visualize results in a way to make it ready for publications\n",
    "## 3. Compare different experiments based on a given factor to find the optimum pipeline for a given cohort"
   ],
   "metadata": {}
  },
  {
   "cell_type": "markdown",
   "source": [
    "### The idea is to create a draft for an analysis script to be added to the src folder"
   ],
   "metadata": {}
  },
  {
   "cell_type": "markdown",
   "source": [
    "## McNemar’s Test to Compare Two Machine Learning Classifiers"
   ],
   "metadata": {}
  },
  {
   "cell_type": "code",
   "execution_count": 2,
   "source": [
    "import pandas as pd\n",
    "import scipy.stats as stats\n",
    "import numpy as np\n",
    "import matplotlib.pyplot as plt\n",
    "import seaborn as sns\n",
    "import os\n",
    "import dill\n",
    "import nibabel.freesurfer.io as fio\n",
    "import sys\n",
    "import json\n",
    "sns.set()"
   ],
   "outputs": [],
   "metadata": {}
  },
  {
   "cell_type": "code",
   "execution_count": 3,
   "source": [
    "\"\"\"\n",
    "This directory is created when running python main.py -i ../experiments/whatevername -o ../output/whateverfolder. It assumes\n",
    "that inside this \"main_exp_directoriey\", There are multiple directories containing the results of different experiments being\n",
    "factored by a single factor (i.e. different behavioral test, different data representation, different normalization method,\n",
    " ... etc) JUST A SINGLE FACTOR\n",
    "\"\"\"\n",
    "main_exp_directory = \"../output/Agebetween10t13_severTD_alltests_minmax_percentile\" "
   ],
   "outputs": [],
   "metadata": {}
  },
  {
   "cell_type": "code",
   "execution_count": 4,
   "source": [
    "sub_exps = [x for x in os.listdir(main_exp_directory) if os.path.isdir(os.path.join(main_exp_directory, x))]"
   ],
   "outputs": [],
   "metadata": {}
  },
  {
   "cell_type": "code",
   "execution_count": null,
   "source": [],
   "outputs": [],
   "metadata": {}
  },
  {
   "cell_type": "code",
   "execution_count": 5,
   "source": [
    "sub_exps, len(sub_exps)"
   ],
   "outputs": [
    {
     "output_type": "execute_result",
     "data": {
      "text/plain": [
       "(['comm_median_std_sever_td',\n",
       "  'awa_median_std_sever_td',\n",
       "  'man_median_std_sever_td',\n",
       "  'cog_median_std_sever_td',\n",
       "  'tot_median_std_sever_td',\n",
       "  'mot_median_std_sever_td'],\n",
       " 6)"
      ]
     },
     "metadata": {},
     "execution_count": 5
    }
   ],
   "metadata": {}
  },
  {
   "cell_type": "code",
   "execution_count": 6,
   "source": [
    "# Main analyzing loop\n",
    "for exp in sub_exps:\n",
    "    exp_descr = exp.split('_')[0]\n",
    "    print(f\"Results of {exp_descr}\")\n",
    "    full_path = os.path.join(main_exp_directory, exp)\n"
   ],
   "outputs": [
    {
     "output_type": "stream",
     "name": "stdout",
     "text": [
      "Results of comm\n",
      "Results of awa\n",
      "Results of man\n",
      "Results of cog\n",
      "Results of tot\n",
      "Results of mot\n"
     ]
    }
   ],
   "metadata": {}
  },
  {
   "cell_type": "code",
   "execution_count": 7,
   "source": [
    "# Analysis of RFE\n",
    "def analyzeRFE(fldr):\n",
    "    with open(os.path.join(fldr, 'selected_feats.json'), 'r') as f:\n",
    "        feats_dict = json.load(f)\n",
    "    df = pd.read_csv(os.path.join(fldr, \"group_df_afterFixation.csv\"))\n",
    "    print(f\"Total # of features: {len(df.columns)}\")\n",
    "    df_pseudo = pd.read_csv(os.path.join(fldr, \"pseudo_metrics.csv\"), index_col=[0,1])\n",
    "    best_rfe = df_pseudo.index[df_pseudo['acc'].argmax()][0]\n",
    "    print(f'Best RFE based on pseudo metrics is: {best_rfe}')\n",
    "    sfeats = feats_dict[best_rfe]\n",
    "    print(f'# of selected features using {best_rfe} is {len(sfeats)}')\n",
    "    return sfeats\n",
    "        "
   ],
   "outputs": [],
   "metadata": {}
  },
  {
   "cell_type": "code",
   "execution_count": 12,
   "source": [
    "# Analysis of ML\n",
    "def analyzeML(fldr):\n",
    "    with open(os.path.join(fldr, 'ML_obj.p'), 'rb') as f:\n",
    "        ml_dict = dill.load(f)\n",
    "    return ml_dict"
   ],
   "outputs": [],
   "metadata": {}
  },
  {
   "cell_type": "code",
   "execution_count": 8,
   "source": [
    "comm_feats = analyzeRFE(os.path.join(main_exp_directory, \"comm_median_std_sever_td\"))\n",
    "man_feats = analyzeRFE(os.path.join(main_exp_directory, \"man_median_std_sever_td\"))\n",
    "cog_feats = analyzeRFE(os.path.join(main_exp_directory, \"cog_median_std_sever_td\"))\n",
    "mot_feats = analyzeRFE(os.path.join(main_exp_directory, \"mot_median_std_sever_td\"))\n",
    "tot_feats = analyzeRFE(os.path.join(main_exp_directory, \"tot_median_std_sever_td\"))\n",
    "awa_feats = analyzeRFE(os.path.join(main_exp_directory, \"awa_median_std_sever_td\"))\n"
   ],
   "outputs": [
    {
     "output_type": "stream",
     "name": "stdout",
     "text": [
      "Total # of features: 1095\n",
      "Best RFE based on pseudo metrics is: lsvm\n",
      "# of selected features using lsvm is 385\n",
      "Total # of features: 1095\n",
      "Best RFE based on pseudo metrics is: lsvm\n",
      "# of selected features using lsvm is 101\n",
      "Total # of features: 1095\n",
      "Best RFE based on pseudo metrics is: lsvm\n",
      "# of selected features using lsvm is 18\n",
      "Total # of features: 1095\n",
      "Best RFE based on pseudo metrics is: lsvm\n",
      "# of selected features using lsvm is 37\n",
      "Total # of features: 1095\n",
      "Best RFE based on pseudo metrics is: lsvm\n",
      "# of selected features using lsvm is 233\n",
      "Total # of features: 1095\n",
      "Best RFE based on pseudo metrics is: lsvm\n",
      "# of selected features using lsvm is 275\n"
     ]
    }
   ],
   "metadata": {}
  },
  {
   "cell_type": "markdown",
   "source": [
    "# What are the most common features among all reports?"
   ],
   "metadata": {}
  },
  {
   "cell_type": "code",
   "execution_count": 9,
   "source": [
    "all_selected_feats = []\n",
    "all_selected_feats.extend(comm_feats)\n",
    "all_selected_feats.extend(man_feats)\n",
    "all_selected_feats.extend(cog_feats)\n",
    "all_selected_feats.extend(mot_feats)\n",
    "all_selected_feats.extend(tot_feats)\n",
    "all_selected_feats.extend(awa_feats)\n"
   ],
   "outputs": [],
   "metadata": {}
  },
  {
   "cell_type": "code",
   "execution_count": 12,
   "source": [
    "from collections import Counter"
   ],
   "outputs": [],
   "metadata": {}
  },
  {
   "cell_type": "code",
   "execution_count": 16,
   "source": [
    "sored_sfeats_occur = sorted(Counter(all_selected_feats).items(), key=lambda kv:(kv[1],kv[0]), reverse=True)"
   ],
   "outputs": [],
   "metadata": {}
  },
  {
   "cell_type": "code",
   "execution_count": 22,
   "source": [
    "sored_sfeats_occur[:200]"
   ],
   "outputs": [
    {
     "output_type": "execute_result",
     "data": {
      "text/plain": [
       "[('volume_rtemporalpole_PERC80', 6),\n",
       " ('area_ltransversetemporal_PERC60', 6),\n",
       " ('volume_rinferiortemporal_PERC80', 5),\n",
       " ('thickness_rtransversetemporal_PERC80', 5),\n",
       " ('thickness_rinsula_PERC80', 5),\n",
       " ('curv_rfusiform_PERC80', 5),\n",
       " ('curv_lposteriorcingulate_PERC20', 5),\n",
       " ('curv_lpostcentral_PERC20', 5),\n",
       " ('area_rlateraloccipital_PERC80', 5),\n",
       " ('area_rinferiorparietal_PERC80', 5),\n",
       " ('area_ltransversetemporal_PERC80', 5),\n",
       " ('area_listhmuscingulate_PERC80', 5),\n",
       " ('area_linsula_PERC80', 5),\n",
       " ('volume_rtransversetemporal_PERC60', 4),\n",
       " ('volume_rparsorbitalis_PERC40', 4),\n",
       " ('volume_rparsopercularis_PERC60', 4),\n",
       " ('volume_rcaudalmiddlefrontal_PERC60', 4),\n",
       " ('volume_lsuperiorparietal_PERC80', 4),\n",
       " ('volume_lparsopercularis_PERC80', 4),\n",
       " ('thickness_rparacentral_PERC80', 4),\n",
       " ('thickness_rbankssts_PERC80', 4),\n",
       " ('thickness_ltransversetemporal_PERC40', 4),\n",
       " ('thickness_lsupramarginal_PERC60', 4),\n",
       " ('thickness_lrostralanteriorcingulate_PERC80', 4),\n",
       " ('thickness_lcaudalmiddlefrontal_PERC80', 4),\n",
       " ('curv_rtemporalpole_PERC60', 4),\n",
       " ('curv_rsupramarginal_PERC40', 4),\n",
       " ('curv_rsuperiortemporal_PERC40', 4),\n",
       " ('curv_rsuperiorparietal_PERC20', 4),\n",
       " ('curv_rprecentral_PERC20', 4),\n",
       " ('curv_rpostcentral_PERC40', 4),\n",
       " ('curv_rparsopercularis_PERC80', 4),\n",
       " ('curv_rmiddletemporal_PERC60', 4),\n",
       " ('curv_rlateraloccipital_PERC60', 4),\n",
       " ('curv_rinferiorparietal_PERC20', 4),\n",
       " ('curv_rentorhinal_PERC80', 4),\n",
       " ('curv_rcuneus_PERC80', 4),\n",
       " ('curv_rcuneus_PERC60', 4),\n",
       " ('curv_rcuneus_PERC20', 4),\n",
       " ('curv_rcaudalmiddlefrontal_PERC20', 4),\n",
       " ('curv_ltemporalpole_PERC80', 4),\n",
       " ('curv_lprecuneus_PERC20', 4),\n",
       " ('curv_lparstriangularis_PERC60', 4),\n",
       " ('curv_lparsopercularis_PERC80', 4),\n",
       " ('curv_lparsopercularis_PERC20', 4),\n",
       " ('curv_llingual_PERC80', 4),\n",
       " ('curv_llateralorbitofrontal_PERC80', 4),\n",
       " ('curv_linferiorparietal_PERC20', 4),\n",
       " ('curv_lcaudalanteriorcingulate_PERC80', 4),\n",
       " ('area_rsupramarginal_PERC40', 4),\n",
       " ('area_rparstriangularis_PERC60', 4),\n",
       " ('area_rparsopercularis_PERC40', 4),\n",
       " ('area_rlateraloccipital_PERC60', 4),\n",
       " ('area_rcuneus_PERC60', 4),\n",
       " ('area_rcaudalmiddlefrontal_PERC80', 4),\n",
       " ('area_lmedialorbitofrontal_PERC20', 4),\n",
       " ('area_lentorhinal_PERC80', 4),\n",
       " ('area_lcaudalmiddlefrontal_PERC80', 4),\n",
       " ('volume_rtransversetemporal_PERC80', 3),\n",
       " ('volume_rparsorbitalis_PERC60', 3),\n",
       " ('volume_rparsopercularis_PERC80', 3),\n",
       " ('volume_risthmuscingulate_PERC80', 3),\n",
       " ('volume_rinferiorparietal_PERC80', 3),\n",
       " ('volume_rfrontalpole_PERC80', 3),\n",
       " ('volume_rcuneus_PERC60', 3),\n",
       " ('volume_ltransversetemporal_PERC20', 3),\n",
       " ('volume_lposteriorcingulate_PERC60', 3),\n",
       " ('volume_lpostcentral_PERC80', 3),\n",
       " ('volume_lpericalcarine_PERC60', 3),\n",
       " ('volume_lpericalcarine_PERC20', 3),\n",
       " ('volume_lfrontalpole_PERC80', 3),\n",
       " ('volume_lfrontalpole_PERC60', 3),\n",
       " ('volume_lfrontalpole_PERC40', 3),\n",
       " ('volume_lcaudalanteriorcingulate_PERC40', 3),\n",
       " ('volume_lcaudalanteriorcingulate_PERC20', 3),\n",
       " ('volume_lbankssts_PERC20', 3),\n",
       " ('thickness_rtransversetemporal_PERC60', 3),\n",
       " ('thickness_rparsorbitalis_PERC80', 3),\n",
       " ('thickness_rparsopercularis_PERC80', 3),\n",
       " ('thickness_rparacentral_PERC60', 3),\n",
       " ('thickness_rparacentral_PERC20', 3),\n",
       " ('thickness_rmedialorbitofrontal_PERC20', 3),\n",
       " ('thickness_rlateralorbitofrontal_PERC60', 3),\n",
       " ('thickness_rlateralorbitofrontal_PERC20', 3),\n",
       " ('thickness_risthmuscingulate_PERC20', 3),\n",
       " ('thickness_rbankssts_PERC60', 3),\n",
       " ('thickness_ltransversetemporal_PERC60', 3),\n",
       " ('thickness_lpericalcarine_PERC20', 3),\n",
       " ('thickness_lparstriangularis_PERC60', 3),\n",
       " ('thickness_lparstriangularis_PERC40', 3),\n",
       " ('thickness_lparahippocampal_PERC80', 3),\n",
       " ('thickness_listhmuscingulate_PERC80', 3),\n",
       " ('curv_rtransversetemporal_PERC80', 3),\n",
       " ('curv_rsupramarginal_PERC20', 3),\n",
       " ('curv_rsuperiortemporal_PERC20', 3),\n",
       " ('curv_rsuperiorparietal_PERC40', 3),\n",
       " ('curv_rrostralmiddlefrontal_PERC20', 3),\n",
       " ('curv_rrostralanteriorcingulate_PERC60', 3),\n",
       " ('curv_rprecuneus_PERC40', 3),\n",
       " ('curv_rprecuneus_PERC20', 3),\n",
       " ('curv_rparahippocampal_PERC80', 3),\n",
       " ('curv_rparacentral_PERC80', 3),\n",
       " ('curv_rmedialorbitofrontal_PERC40', 3),\n",
       " ('curv_rlingual_PERC80', 3),\n",
       " ('curv_rlateraloccipital_PERC80', 3),\n",
       " ('curv_rinsula_PERC60', 3),\n",
       " ('curv_rinsula_PERC40', 3),\n",
       " ('curv_rinferiorparietal_PERC80', 3),\n",
       " ('curv_rinferiorparietal_PERC40', 3),\n",
       " ('curv_rentorhinal_PERC60', 3),\n",
       " ('curv_rentorhinal_PERC40', 3),\n",
       " ('curv_rcuneus_PERC40', 3),\n",
       " ('curv_rcaudalanteriorcingulate_PERC40', 3),\n",
       " ('curv_rbankssts_PERC80', 3),\n",
       " ('curv_ltransversetemporal_PERC60', 3),\n",
       " ('curv_ltemporalpole_PERC60', 3),\n",
       " ('curv_lsupramarginal_PERC80', 3),\n",
       " ('curv_lsuperiortemporal_PERC80', 3),\n",
       " ('curv_lsuperiorparietal_PERC20', 3),\n",
       " ('curv_lposteriorcingulate_PERC40', 3),\n",
       " ('curv_lparstriangularis_PERC40', 3),\n",
       " ('curv_lparsopercularis_PERC40', 3),\n",
       " ('curv_lparahippocampal_PERC80', 3),\n",
       " ('curv_lparahippocampal_PERC60', 3),\n",
       " ('curv_lmedialorbitofrontal_PERC80', 3),\n",
       " ('curv_llingual_PERC60', 3),\n",
       " ('curv_linferiortemporal_PERC20', 3),\n",
       " ('curv_lcaudalanteriorcingulate_PERC60', 3),\n",
       " ('curv_lbankssts_PERC20', 3),\n",
       " ('area_rtransversetemporal_PERC60', 3),\n",
       " ('area_rtransversetemporal_PERC20', 3),\n",
       " ('area_rprecuneus_PERC80', 3),\n",
       " ('area_rpostcentral_PERC20', 3),\n",
       " ('area_rparstriangularis_PERC40', 3),\n",
       " ('area_rparsorbitalis_PERC80', 3),\n",
       " ('area_rparacentral_PERC60', 3),\n",
       " ('area_rparacentral_PERC40', 3),\n",
       " ('area_rmedialorbitofrontal_PERC40', 3),\n",
       " ('area_risthmuscingulate_PERC20', 3),\n",
       " ('area_rinferiortemporal_PERC40', 3),\n",
       " ('area_rinferiorparietal_PERC60', 3),\n",
       " ('area_rentorhinal_PERC60', 3),\n",
       " ('area_rentorhinal_PERC40', 3),\n",
       " ('area_rcaudalmiddlefrontal_PERC60', 3),\n",
       " ('area_lrostralanteriorcingulate_PERC80', 3),\n",
       " ('area_lprecuneus_PERC20', 3),\n",
       " ('area_lpostcentral_PERC20', 3),\n",
       " ('area_lparstriangularis_PERC20', 3),\n",
       " ('area_lparahippocampal_PERC40', 3),\n",
       " ('area_lfusiform_PERC60', 3),\n",
       " ('area_lcaudalanteriorcingulate_PERC40', 3),\n",
       " ('area_lbankssts_PERC80', 3),\n",
       " ('volume_rtransversetemporal_PERC40', 2),\n",
       " ('volume_rprecuneus_PERC60', 2),\n",
       " ('volume_rposteriorcingulate_PERC40', 2),\n",
       " ('volume_rpericalcarine_PERC80', 2),\n",
       " ('volume_rpericalcarine_PERC20', 2),\n",
       " ('volume_rparstriangularis_PERC40', 2),\n",
       " ('volume_rparstriangularis_PERC20', 2),\n",
       " ('volume_rparsorbitalis_PERC20', 2),\n",
       " ('volume_rparsopercularis_PERC40', 2),\n",
       " ('volume_rparahippocampal_PERC80', 2),\n",
       " ('volume_rmiddletemporal_PERC20', 2),\n",
       " ('volume_rmedialorbitofrontal_PERC40', 2),\n",
       " ('volume_rlateralorbitofrontal_PERC80', 2),\n",
       " ('volume_rlateralorbitofrontal_PERC20', 2),\n",
       " ('volume_rinferiortemporal_PERC60', 2),\n",
       " ('volume_rfrontalpole_PERC20', 2),\n",
       " ('volume_rcuneus_PERC40', 2),\n",
       " ('volume_rcuneus_PERC20', 2),\n",
       " ('volume_rcaudalanteriorcingulate_PERC60', 2),\n",
       " ('volume_rcaudalanteriorcingulate_PERC20', 2),\n",
       " ('volume_rbankssts_PERC80', 2),\n",
       " ('volume_lsuperiorparietal_PERC60', 2),\n",
       " ('volume_lposteriorcingulate_PERC40', 2),\n",
       " ('volume_lparsopercularis_PERC60', 2),\n",
       " ('volume_lparacentral_PERC20', 2),\n",
       " ('volume_lmiddletemporal_PERC80', 2),\n",
       " ('volume_llateraloccipital_PERC20', 2),\n",
       " ('volume_linsula_PERC80', 2),\n",
       " ('volume_linferiortemporal_PERC60', 2),\n",
       " ('volume_linferiortemporal_PERC20', 2),\n",
       " ('volume_lfusiform_PERC80', 2),\n",
       " ('volume_lfusiform_PERC40', 2),\n",
       " ('volume_lfrontalpole_PERC20', 2),\n",
       " ('volume_lentorhinal_PERC60', 2),\n",
       " ('volume_lentorhinal_PERC40', 2),\n",
       " ('volume_lbankssts_PERC80', 2),\n",
       " ('thickness_rtemporalpole_PERC40', 2),\n",
       " ('thickness_rtemporalpole_PERC20', 2),\n",
       " ('thickness_rsuperiorfrontal_PERC80', 2),\n",
       " ('thickness_rsuperiorfrontal_PERC60', 2),\n",
       " ('thickness_rrostralmiddlefrontal_PERC80', 2),\n",
       " ('thickness_rposteriorcingulate_PERC60', 2),\n",
       " ('thickness_rparstriangularis_PERC80', 2),\n",
       " ('thickness_rparsorbitalis_PERC20', 2),\n",
       " ('thickness_rparahippocampal_PERC80', 2),\n",
       " ('thickness_rmedialorbitofrontal_PERC80', 2),\n",
       " ('thickness_risthmuscingulate_PERC60', 2),\n",
       " ('thickness_rinsula_PERC60', 2)]"
      ]
     },
     "metadata": {},
     "execution_count": 22
    }
   ],
   "metadata": {}
  },
  {
   "cell_type": "code",
   "execution_count": 20,
   "source": [
    " len([('volume_rtransversetemporal_PERC60', 4),\n",
    " ('volume_rparsorbitalis_PERC40', 4),\n",
    " ('volume_rparsopercularis_PERC60', 4),\n",
    " ('volume_rcaudalmiddlefrontal_PERC60', 4),\n",
    " ('volume_lsuperiorparietal_PERC80', 4),\n",
    " ('volume_lparsopercularis_PERC80', 4),\n",
    " ('thickness_rparacentral_PERC80', 4),\n",
    " ('thickness_rbankssts_PERC80', 4),\n",
    " ('thickness_ltransversetemporal_PERC40', 4),\n",
    " ('thickness_lsupramarginal_PERC60', 4),\n",
    " ('thickness_lrostralanteriorcingulate_PERC80', 4),\n",
    " ('thickness_lcaudalmiddlefrontal_PERC80', 4),\n",
    " ('curv_rtemporalpole_PERC60', 4),\n",
    " ('curv_rsupramarginal_PERC40', 4),\n",
    " ('curv_rsuperiortemporal_PERC40', 4),\n",
    " ('curv_rsuperiorparietal_PERC20', 4),\n",
    " ('curv_rprecentral_PERC20', 4),\n",
    " ('curv_rpostcentral_PERC40', 4),\n",
    " ('curv_rparsopercularis_PERC80', 4),\n",
    " ('curv_rmiddletemporal_PERC60', 4),\n",
    " ('curv_rlateraloccipital_PERC60', 4),\n",
    " ('curv_rinferiorparietal_PERC20', 4),\n",
    " ('curv_rentorhinal_PERC80', 4),\n",
    " ('curv_rcuneus_PERC80', 4),\n",
    " ('curv_rcuneus_PERC60', 4),\n",
    " ('curv_rcuneus_PERC20', 4),\n",
    " ('curv_rcaudalmiddlefrontal_PERC20', 4),\n",
    " ('curv_ltemporalpole_PERC80', 4),\n",
    " ('curv_lprecuneus_PERC20', 4),\n",
    " ('curv_lparstriangularis_PERC60', 4),\n",
    " ('curv_lparsopercularis_PERC80', 4),\n",
    " ('curv_lparsopercularis_PERC20', 4),\n",
    " ('curv_llingual_PERC80', 4),\n",
    " ('curv_llateralorbitofrontal_PERC80', 4),\n",
    " ('curv_linferiorparietal_PERC20', 4),\n",
    " ('curv_lcaudalanteriorcingulate_PERC80', 4),\n",
    " ('area_rsupramarginal_PERC40', 4),\n",
    " ('area_rparstriangularis_PERC60', 4),\n",
    " ('area_rparsopercularis_PERC40', 4),\n",
    " ('area_rlateraloccipital_PERC60', 4),\n",
    " ('area_rcuneus_PERC60', 4),\n",
    " ('area_rcaudalmiddlefrontal_PERC80', 4),\n",
    " ('area_lmedialorbitofrontal_PERC20', 4),\n",
    " ('area_lentorhinal_PERC80', 4),\n",
    " ('area_lcaudalmiddlefrontal_PERC80', 4)])"
   ],
   "outputs": [
    {
     "output_type": "execute_result",
     "data": {
      "text/plain": [
       "45"
      ]
     },
     "metadata": {},
     "execution_count": 20
    }
   ],
   "metadata": {}
  },
  {
   "cell_type": "code",
   "execution_count": 23,
   "source": [
    " len([('volume_rtransversetemporal_PERC80', 3),\n",
    " ('volume_rparsorbitalis_PERC60', 3),\n",
    " ('volume_rparsopercularis_PERC80', 3),\n",
    " ('volume_risthmuscingulate_PERC80', 3),\n",
    " ('volume_rinferiorparietal_PERC80', 3),\n",
    " ('volume_rfrontalpole_PERC80', 3),\n",
    " ('volume_rcuneus_PERC60', 3),\n",
    " ('volume_ltransversetemporal_PERC20', 3),\n",
    " ('volume_lposteriorcingulate_PERC60', 3),\n",
    " ('volume_lpostcentral_PERC80', 3),\n",
    " ('volume_lpericalcarine_PERC60', 3),\n",
    " ('volume_lpericalcarine_PERC20', 3),\n",
    " ('volume_lfrontalpole_PERC80', 3),\n",
    " ('volume_lfrontalpole_PERC60', 3),\n",
    " ('volume_lfrontalpole_PERC40', 3),\n",
    " ('volume_lcaudalanteriorcingulate_PERC40', 3),\n",
    " ('volume_lcaudalanteriorcingulate_PERC20', 3),\n",
    " ('volume_lbankssts_PERC20', 3),\n",
    " ('thickness_rtransversetemporal_PERC60', 3),\n",
    " ('thickness_rparsorbitalis_PERC80', 3),\n",
    " ('thickness_rparsopercularis_PERC80', 3),\n",
    " ('thickness_rparacentral_PERC60', 3),\n",
    " ('thickness_rparacentral_PERC20', 3),\n",
    " ('thickness_rmedialorbitofrontal_PERC20', 3),\n",
    " ('thickness_rlateralorbitofrontal_PERC60', 3),\n",
    " ('thickness_rlateralorbitofrontal_PERC20', 3),\n",
    " ('thickness_risthmuscingulate_PERC20', 3),\n",
    " ('thickness_rbankssts_PERC60', 3),\n",
    " ('thickness_ltransversetemporal_PERC60', 3),\n",
    " ('thickness_lpericalcarine_PERC20', 3),\n",
    " ('thickness_lparstriangularis_PERC60', 3),\n",
    " ('thickness_lparstriangularis_PERC40', 3),\n",
    " ('thickness_lparahippocampal_PERC80', 3),\n",
    " ('thickness_listhmuscingulate_PERC80', 3),\n",
    " ('curv_rtransversetemporal_PERC80', 3),\n",
    " ('curv_rsupramarginal_PERC20', 3),\n",
    " ('curv_rsuperiortemporal_PERC20', 3),\n",
    " ('curv_rsuperiorparietal_PERC40', 3),\n",
    " ('curv_rrostralmiddlefrontal_PERC20', 3),\n",
    " ('curv_rrostralanteriorcingulate_PERC60', 3),\n",
    " ('curv_rprecuneus_PERC40', 3),\n",
    " ('curv_rprecuneus_PERC20', 3),\n",
    " ('curv_rparahippocampal_PERC80', 3),\n",
    " ('curv_rparacentral_PERC80', 3),\n",
    " ('curv_rmedialorbitofrontal_PERC40', 3),\n",
    " ('curv_rlingual_PERC80', 3),\n",
    " ('curv_rlateraloccipital_PERC80', 3),\n",
    " ('curv_rinsula_PERC60', 3),\n",
    " ('curv_rinsula_PERC40', 3),\n",
    " ('curv_rinferiorparietal_PERC80', 3),\n",
    " ('curv_rinferiorparietal_PERC40', 3),\n",
    " ('curv_rentorhinal_PERC60', 3),\n",
    " ('curv_rentorhinal_PERC40', 3),\n",
    " ('curv_rcuneus_PERC40', 3),\n",
    " ('curv_rcaudalanteriorcingulate_PERC40', 3),\n",
    " ('curv_rbankssts_PERC80', 3),\n",
    " ('curv_ltransversetemporal_PERC60', 3),\n",
    " ('curv_ltemporalpole_PERC60', 3),\n",
    " ('curv_lsupramarginal_PERC80', 3),\n",
    " ('curv_lsuperiortemporal_PERC80', 3),\n",
    " ('curv_lsuperiorparietal_PERC20', 3),\n",
    " ('curv_lposteriorcingulate_PERC40', 3),\n",
    " ('curv_lparstriangularis_PERC40', 3),\n",
    " ('curv_lparsopercularis_PERC40', 3),\n",
    " ('curv_lparahippocampal_PERC80', 3),\n",
    " ('curv_lparahippocampal_PERC60', 3),\n",
    " ('curv_lmedialorbitofrontal_PERC80', 3),\n",
    " ('curv_llingual_PERC60', 3),\n",
    " ('curv_linferiortemporal_PERC20', 3),\n",
    " ('curv_lcaudalanteriorcingulate_PERC60', 3),\n",
    " ('curv_lbankssts_PERC20', 3),\n",
    " ('area_rtransversetemporal_PERC60', 3),\n",
    " ('area_rtransversetemporal_PERC20', 3),\n",
    " ('area_rprecuneus_PERC80', 3),\n",
    " ('area_rpostcentral_PERC20', 3),\n",
    " ('area_rparstriangularis_PERC40', 3),\n",
    " ('area_rparsorbitalis_PERC80', 3),\n",
    " ('area_rparacentral_PERC60', 3),\n",
    " ('area_rparacentral_PERC40', 3),\n",
    " ('area_rmedialorbitofrontal_PERC40', 3),\n",
    " ('area_risthmuscingulate_PERC20', 3),\n",
    " ('area_rinferiortemporal_PERC40', 3),\n",
    " ('area_rinferiorparietal_PERC60', 3),\n",
    " ('area_rentorhinal_PERC60', 3),\n",
    " ('area_rentorhinal_PERC40', 3),\n",
    " ('area_rcaudalmiddlefrontal_PERC60', 3),\n",
    " ('area_lrostralanteriorcingulate_PERC80', 3),\n",
    " ('area_lprecuneus_PERC20', 3),\n",
    " ('area_lpostcentral_PERC20', 3),\n",
    " ('area_lparstriangularis_PERC20', 3),\n",
    " ('area_lparahippocampal_PERC40', 3),\n",
    " ('area_lfusiform_PERC60', 3),\n",
    " ('area_lcaudalanteriorcingulate_PERC40', 3),\n",
    " ('area_lbankssts_PERC80', 3)])"
   ],
   "outputs": [
    {
     "output_type": "execute_result",
     "data": {
      "text/plain": [
       "94"
      ]
     },
     "metadata": {},
     "execution_count": 23
    }
   ],
   "metadata": {}
  },
  {
   "cell_type": "markdown",
   "source": [
    "# Findings\n",
    "### There are 2 features found in all 6 reports\n",
    "### There are 10 features found in 5 reports\n",
    "### There are 45 features found in 4 reports\n",
    "### There are 94 features found in 3 reports\n"
   ],
   "metadata": {}
  },
  {
   "cell_type": "markdown",
   "source": [
    "# What are the most common morphological features?"
   ],
   "metadata": {}
  },
  {
   "cell_type": "code",
   "execution_count": 29,
   "source": [
    "len(all_selected_feats)"
   ],
   "outputs": [
    {
     "output_type": "execute_result",
     "data": {
      "text/plain": [
       "1049"
      ]
     },
     "metadata": {},
     "execution_count": 29
    }
   ],
   "metadata": {}
  },
  {
   "cell_type": "code",
   "execution_count": 30,
   "source": [
    "morph_feats = list(map(lambda x: x.split('_')[0], all_selected_feats))"
   ],
   "outputs": [],
   "metadata": {}
  },
  {
   "cell_type": "code",
   "execution_count": 33,
   "source": [
    "sorted(Counter(morph_feats).items(), key=lambda kv:(kv[1],kv[0]), reverse=True)"
   ],
   "outputs": [
    {
     "output_type": "execute_result",
     "data": {
      "text/plain": [
       "[('curv', 369), ('area', 258), ('volume', 213), ('thickness', 209)]"
      ]
     },
     "metadata": {},
     "execution_count": 33
    }
   ],
   "metadata": {}
  },
  {
   "cell_type": "markdown",
   "source": [
    "# What are the most common brain regions?"
   ],
   "metadata": {}
  },
  {
   "cell_type": "code",
   "execution_count": 35,
   "source": [
    "breg_feats = list(map(lambda x: x.split('_')[1], all_selected_feats))"
   ],
   "outputs": [],
   "metadata": {}
  },
  {
   "cell_type": "code",
   "execution_count": 36,
   "source": [
    "sorted(Counter(breg_feats).items(), key=lambda kv:(kv[1],kv[0]), reverse=True)"
   ],
   "outputs": [
    {
     "output_type": "execute_result",
     "data": {
      "text/plain": [
       "[('ltransversetemporal', 34),\n",
       " ('rcuneus', 32),\n",
       " ('rtransversetemporal', 30),\n",
       " ('rparsopercularis', 26),\n",
       " ('lcaudalanteriorcingulate', 26),\n",
       " ('rinferiorparietal', 25),\n",
       " ('rcaudalmiddlefrontal', 25),\n",
       " ('rparsorbitalis', 24),\n",
       " ('lparstriangularis', 24),\n",
       " ('rparacentral', 23),\n",
       " ('lparsopercularis', 23),\n",
       " ('rentorhinal', 22),\n",
       " ('lsuperiorparietal', 22),\n",
       " ('rparstriangularis', 21),\n",
       " ('lpostcentral', 21),\n",
       " ('lparahippocampal', 21),\n",
       " ('listhmuscingulate', 21),\n",
       " ('lposteriorcingulate', 19),\n",
       " ('rmedialorbitofrontal', 18),\n",
       " ('rlateraloccipital', 18),\n",
       " ('risthmuscingulate', 18),\n",
       " ('lpericalcarine', 18),\n",
       " ('rsuperiortemporal', 17),\n",
       " ('rbankssts', 17),\n",
       " ('lbankssts', 17),\n",
       " ('rtemporalpole', 16),\n",
       " ('rsupramarginal', 16),\n",
       " ('rpostcentral', 16),\n",
       " ('lfusiform', 16),\n",
       " ('lfrontalpole', 16),\n",
       " ('rprecuneus', 15),\n",
       " ('rlateralorbitofrontal', 15),\n",
       " ('rinferiortemporal', 15),\n",
       " ('lrostralanteriorcingulate', 15),\n",
       " ('llingual', 15),\n",
       " ('linsula', 15),\n",
       " ('lcaudalmiddlefrontal', 15),\n",
       " ('rparahippocampal', 14),\n",
       " ('rmiddletemporal', 14),\n",
       " ('rinsula', 14),\n",
       " ('lentorhinal', 14),\n",
       " ('rposteriorcingulate', 13),\n",
       " ('rfusiform', 13),\n",
       " ('lparsorbitalis', 13),\n",
       " ('linferiortemporal', 13),\n",
       " ('lsupramarginal', 12),\n",
       " ('lmedialorbitofrontal', 12),\n",
       " ('rsuperiorparietal', 11),\n",
       " ('rfrontalpole', 11),\n",
       " ('ltemporalpole', 11),\n",
       " ('rrostralmiddlefrontal', 10),\n",
       " ('rcaudalanteriorcingulate', 10),\n",
       " ('lprecuneus', 10),\n",
       " ('linferiorparietal', 10),\n",
       " ('rsuperiorfrontal', 9),\n",
       " ('rpericalcarine', 9),\n",
       " ('lparacentral', 9),\n",
       " ('llateralorbitofrontal', 9),\n",
       " ('rrostralanteriorcingulate', 8),\n",
       " ('lsuperiortemporal', 8),\n",
       " ('rprecentral', 7),\n",
       " ('rlingual', 7),\n",
       " ('lmiddletemporal', 7),\n",
       " ('lcuneus', 7),\n",
       " ('lprecentral', 6),\n",
       " ('llateraloccipital', 6),\n",
       " ('lsuperiorfrontal', 3),\n",
       " ('lrostralmiddlefrontal', 2)]"
      ]
     },
     "metadata": {},
     "execution_count": 36
    }
   ],
   "metadata": {}
  },
  {
   "cell_type": "markdown",
   "source": [
    "# Which hemisphere is mostly involved?"
   ],
   "metadata": {}
  },
  {
   "cell_type": "code",
   "execution_count": 37,
   "source": [
    "hemi = list(map(lambda x: x[0], breg_feats))"
   ],
   "outputs": [],
   "metadata": {}
  },
  {
   "cell_type": "code",
   "execution_count": 38,
   "source": [
    "sorted(Counter(hemi).items(), key=lambda kv:(kv[1],kv[0]), reverse=True)"
   ],
   "outputs": [
    {
     "output_type": "execute_result",
     "data": {
      "text/plain": [
       "[('r', 559), ('l', 490)]"
      ]
     },
     "metadata": {},
     "execution_count": 38
    }
   ],
   "metadata": {}
  },
  {
   "cell_type": "code",
   "execution_count": 39,
   "source": [
    "559/(490+559)"
   ],
   "outputs": [
    {
     "output_type": "execute_result",
     "data": {
      "text/plain": [
       "0.5328884652049571"
      ]
     },
     "metadata": {},
     "execution_count": 39
    }
   ],
   "metadata": {}
  },
  {
   "cell_type": "code",
   "execution_count": null,
   "source": [],
   "outputs": [],
   "metadata": {}
  }
 ],
 "metadata": {
  "orig_nbformat": 4,
  "language_info": {
   "name": "python",
   "version": "3.7.9",
   "mimetype": "text/x-python",
   "codemirror_mode": {
    "name": "ipython",
    "version": 3
   },
   "pygments_lexer": "ipython3",
   "nbconvert_exporter": "python",
   "file_extension": ".py"
  },
  "kernelspec": {
   "name": "python3",
   "display_name": "Python 3.7.9 64-bit ('brain_torch': conda)"
  },
  "interpreter": {
   "hash": "32ef1712fdb0b1272892a0eb0e5591f901be0908f42b821ea0e19420acbb4b89"
  }
 },
 "nbformat": 4,
 "nbformat_minor": 2
}