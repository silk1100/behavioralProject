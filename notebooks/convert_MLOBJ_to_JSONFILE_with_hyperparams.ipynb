{
 "cells": [
  {
   "cell_type": "code",
   "execution_count": 104,
   "metadata": {},
   "outputs": [],
   "source": [
    "import dill\n",
    "import json\n",
    "import os\n",
    "import numpy as np"
   ]
  },
  {
   "cell_type": "code",
   "execution_count": 105,
   "metadata": {},
   "outputs": [],
   "source": [
    "main_dir = '../models/20210711_175827_ubuntu_std_awareness/'\n",
    "output_dir = '../models/20210711_175827_ubuntu_std_awareness/ML_obj_hyperparams'"
   ]
  },
  {
   "cell_type": "code",
   "execution_count": 106,
   "metadata": {},
   "outputs": [],
   "source": [
    "with open(os.path.join(main_dir, 'ML_obj.p'), 'rb') as f:\n",
    "    ml_obj = dill.load(f)"
   ]
  },
  {
   "cell_type": "code",
   "execution_count": 107,
   "metadata": {},
   "outputs": [],
   "source": [
    "if not os.path.isdir(output_dir):\n",
    "    os.mkdir(output_dir)"
   ]
  },
  {
   "cell_type": "code",
   "execution_count": 108,
   "metadata": {},
   "outputs": [
    {
     "name": "stdout",
     "output_type": "stream",
     "text": [
      "(True, '_le')\n",
      "(True, '_Booster')\n",
      "(True, 'base_estimator')\n",
      "(True, 'base_estimator_')\n",
      "(True, 'estimators_')\n",
      "(True, '_y')\n",
      "(True, '_fit_X')\n",
      "(True, '_tree')\n",
      "(True, 'loss_')\n",
      "(True, 'init_')\n",
      "(True, 'estimators_')\n",
      "(True, '_rng')\n",
      "(True, '_le')\n",
      "(True, '_Booster')\n",
      "(True, 'base_estimator')\n",
      "(True, 'base_estimator_')\n",
      "(True, 'estimators_')\n",
      "(True, '_y')\n",
      "(True, '_fit_X')\n",
      "(True, '_tree')\n",
      "(True, 'loss_')\n",
      "(True, 'init_')\n",
      "(True, 'estimators_')\n",
      "(True, '_rng')\n",
      "(True, '_le')\n",
      "(True, '_Booster')\n",
      "(True, 'base_estimator')\n",
      "(True, 'base_estimator_')\n",
      "(True, 'estimators_')\n",
      "(True, '_y')\n",
      "(True, '_fit_X')\n",
      "(True, '_tree')\n",
      "(True, 'loss_')\n",
      "(True, 'init_')\n",
      "(True, 'estimators_')\n",
      "(True, '_rng')\n",
      "(True, '_le')\n",
      "(True, '_Booster')\n",
      "(True, 'base_estimator')\n",
      "(True, 'base_estimator_')\n",
      "(True, 'estimators_')\n",
      "(True, '_y')\n",
      "(True, '_fit_X')\n",
      "(True, '_tree')\n",
      "(True, 'loss_')\n",
      "(True, 'init_')\n",
      "(True, 'estimators_')\n",
      "(True, '_rng')\n"
     ]
    }
   ],
   "source": [
    "for rfe_key in ml_obj:\n",
    "    ml_dict = ml_obj[rfe_key]\n",
    "    for clc_name, clc in ml_dict.items():\n",
    "        hyper_dict = clc.best_estimator_.__dict__\n",
    "        modified_dict = {}\n",
    "        tobedelted = (False,None)\n",
    "        for key, val in hyper_dict.items():\n",
    "            if key in ['_Booster', '_le', 'base_estimator_','estimators_','base_estimator',\n",
    "                       '_tree','_y','_fit_X','loss_','init_','_rng']:\n",
    "                tobedeleted= (True, key)\n",
    "                print(tobedeleted)\n",
    "            elif isinstance(val, np.ndarray):\n",
    "                modified_dict[key] = val.tolist()\n",
    "            elif isinstance(val, np.int32):\n",
    "                modified_dict[key] = int(val)\n",
    "            elif isinstance(val, np.int64):\n",
    "                modified_dict[key] = int(val)\n",
    "            else:\n",
    "                modified_dict[key] = val\n",
    "                \n",
    "        if tobedelted[0]:\n",
    "            del hyper_dict[tobedeleted[1]]\n",
    "        \n",
    "        with open(os.path.join(output_dir, f'{rfe_key}_{clc_name}'), 'w') as f:\n",
    "            try:\n",
    "                json.dump(modified_dict, f)\n",
    "            except Exception:\n",
    "                print(modified_dict)"
   ]
  },
  {
   "cell_type": "code",
   "execution_count": null,
   "metadata": {},
   "outputs": [],
   "source": []
  }
 ],
 "metadata": {
  "kernelspec": {
   "display_name": "Python 3",
   "language": "python",
   "name": "python3"
  },
  "language_info": {
   "codemirror_mode": {
    "name": "ipython",
    "version": 3
   },
   "file_extension": ".py",
   "mimetype": "text/x-python",
   "name": "python",
   "nbconvert_exporter": "python",
   "pygments_lexer": "ipython3",
   "version": "3.7.9"
  }
 },
 "nbformat": 4,
 "nbformat_minor": 4
}
